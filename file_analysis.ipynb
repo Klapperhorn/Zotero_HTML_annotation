{
 "cells": [
  {
   "cell_type": "code",
   "execution_count": 12,
   "id": "c6fb30b1",
   "metadata": {},
   "outputs": [
    {
     "name": "stdout",
     "output_type": "stream",
     "text": [
      "The autoreload extension is already loaded. To reload it, use:\n",
      "  %reload_ext autoreload\n"
     ]
    }
   ],
   "source": [
    "import pandas as pd\n",
    "import MyLib.nlp as nlp\n",
    "import MyLib.HTML_prep as HTML_prep\n",
    "import MyLib.analysis as analysis \n",
    "import MyLib.hype as hype \n",
    "from ipywidgets import interactive, interact\n",
    "\n",
    "%load_ext autoreload\n",
    "%autoreload 2"
   ]
  },
  {
   "cell_type": "markdown",
   "id": "47596046",
   "metadata": {},
   "source": [
    "# 1. Import Files & group by date\n"
   ]
  },
  {
   "cell_type": "code",
   "execution_count": 28,
   "id": "930f9fab",
   "metadata": {},
   "outputs": [
    {
     "name": "stdout",
     "output_type": "stream",
     "text": [
      "total: 1622\n"
     ]
    },
    {
     "data": {
      "text/html": [
       "<div>\n",
       "<style scoped>\n",
       "    .dataframe tbody tr th:only-of-type {\n",
       "        vertical-align: middle;\n",
       "    }\n",
       "\n",
       "    .dataframe tbody tr th {\n",
       "        vertical-align: top;\n",
       "    }\n",
       "\n",
       "    .dataframe thead th {\n",
       "        text-align: right;\n",
       "    }\n",
       "</style>\n",
       "<table border=\"1\" class=\"dataframe\">\n",
       "  <thead>\n",
       "    <tr style=\"text-align: right;\">\n",
       "      <th></th>\n",
       "      <th>Publications</th>\n",
       "    </tr>\n",
       "    <tr>\n",
       "      <th>date</th>\n",
       "      <th></th>\n",
       "    </tr>\n",
       "  </thead>\n",
       "  <tbody>\n",
       "    <tr>\n",
       "      <th>2023-02-28</th>\n",
       "      <td>27</td>\n",
       "    </tr>\n",
       "    <tr>\n",
       "      <th>2023-03-31</th>\n",
       "      <td>39</td>\n",
       "    </tr>\n",
       "    <tr>\n",
       "      <th>2023-04-30</th>\n",
       "      <td>45</td>\n",
       "    </tr>\n",
       "    <tr>\n",
       "      <th>2023-05-31</th>\n",
       "      <td>52</td>\n",
       "    </tr>\n",
       "    <tr>\n",
       "      <th>2023-06-30</th>\n",
       "      <td>17</td>\n",
       "    </tr>\n",
       "  </tbody>\n",
       "</table>\n",
       "</div>"
      ],
      "text/plain": [
       "            Publications\n",
       "date                    \n",
       "2023-02-28            27\n",
       "2023-03-31            39\n",
       "2023-04-30            45\n",
       "2023-05-31            52\n",
       "2023-06-30            17"
      ]
     },
     "execution_count": 28,
     "metadata": {},
     "output_type": "execute_result"
    }
   ],
   "source": [
    "freq=\"M\"\n",
    "df=pd.read_json(\"2023-06-06_Zotero_AI_nlp_en2.json\")\n",
    "print(\"total:\", len(df))\n",
    "\n",
    "df_publ=df.drop_duplicates(subset=\"FileKey\")[[\"date\",\"FileKey\"]]\n",
    "df_publ=df_publ.set_index(\"date\").groupby(pd.Grouper(freq=freq)).count()\n",
    "df_publ.columns=[\"Publications\"]\n",
    "df_publ.tail()"
   ]
  },
  {
   "cell_type": "markdown",
   "id": "a3067a09",
   "metadata": {},
   "source": [
    "# 2. Most common words"
   ]
  },
  {
   "cell_type": "code",
   "execution_count": 110,
   "id": "c6f456fb",
   "metadata": {},
   "outputs": [],
   "source": [
    "# ChatGPT_Terms=\"ChatGPT, GPT3, GPT4, OpenAI, AI, LLM, A.I, GPT, Chatbot, technology, tool, app, Artificial Intelligence, Large Language Models\"\n"
   ]
  },
  {
   "cell_type": "code",
   "execution_count": 29,
   "id": "7f1b21fc",
   "metadata": {},
   "outputs": [],
   "source": [
    "df[\"NoStopwords_Set\"]=df.NoStopwords.apply(lambda x: list(x))\n",
    "Lists=df.NoStopwords_Set.to_list()\n"
   ]
  },
  {
   "cell_type": "code",
   "execution_count": 30,
   "id": "ba3b23fe",
   "metadata": {},
   "outputs": [
    {
     "name": "stdout",
     "output_type": "stream",
     "text": [
      "[('ai', 2642), ('chatgpt', 1762), ('chatbot', 1611), ('human', 975), ('work', 963), ('research', 922), ('student', 870), ('use', 852), ('datum', 787), ('university', 713), ('system', 676), ('information', 665), ('technology', 605), ('example', 558), ('new', 553)]\n"
     ]
    },
    {
     "data": {
      "text/plain": [
       "<AxesSubplot: ylabel='word'>"
      ]
     },
     "execution_count": 30,
     "metadata": {},
     "output_type": "execute_result"
    },
    {
     "data": {
      "image/png": "[encoded data removed]",
      "text/plain": [
       "<Figure size 432x288 with 1 Axes>"
      ]
     },
     "metadata": {
      "needs_background": "light"
     },
     "output_type": "display_data"
    }
   ],
   "source": [
    "Lists=df.NoStopwords.to_list()\n",
    "\n",
    "Lists=[i for i in Lists if i!=None]\n",
    "Words=[item for sublist in Lists for item in sublist]\n",
    "\n",
    "from collections import Counter\n",
    "a_counter = Counter(Words)\n",
    "most_common = a_counter.most_common(15)\n",
    "\n",
    "print(most_common)#, most_common2)\n",
    "pd.DataFrame.from_records(most_common,columns=[\"word\",\"counts\"],index=\"word\").plot.barh()"
   ]
  },
  {
   "cell_type": "markdown",
   "id": "c7ea8dfc",
   "metadata": {},
   "source": [
    "# Finding the most hyping universities, articles, and sentences"
   ]
  },
  {
   "cell_type": "code",
   "execution_count": 31,
   "id": "b1bd17c0",
   "metadata": {},
   "outputs": [],
   "source": [
    "from nltk.tokenize import sent_tokenize\n",
    "\n",
    "#Find sentences\n",
    "\n",
    "\n",
    "df[\"AI_sentences\"]=df.AI_paragraphs.apply(sent_tokenize)\n",
    "df=df.explode(\"AI_sentences\").drop_duplicates(subset=[\"AI_sentences\"]).dropna(subset=[\"AI_sentences\"]).reset_index()\n"
   ]
  },
  {
   "cell_type": "markdown",
   "id": "3c2c81ed",
   "metadata": {},
   "source": []
  },
  {
   "cell_type": "code",
   "execution_count": null,
   "id": "bbe84ec6",
   "metadata": {},
   "outputs": [],
   "source": []
  },
  {
   "cell_type": "code",
   "execution_count": 112,
   "id": "8ac5faa0",
   "metadata": {},
   "outputs": [
    {
     "name": "stdout",
     "output_type": "stream",
     "text": [
      "Current Time = 12:21:28\n",
      "Lenght:  5807\n",
      "cleaning done.\n",
      "Current Time = 12:21:30\n",
      "Current Time = 12:22:26\n",
      "language detection done.\n",
      "pure english text done. Next: Token & Lemmatizing.\n",
      "Current Time = 12:22:26\n",
      "Token & Lemmatizing done. Next: Remove Stopwords.\n",
      "Current Time = 12:24:03\n",
      "Current Time = 12:24:03\n"
     ]
    }
   ],
   "source": [
    "# Redo the NLP for AI Sentences as the DF structure changed (explode)\n",
    "df_Sentences=nlp.NLP_Pipeline(df, sentiment=False, language=\"en\",translate=False, column=\"AI_sentences\")"
   ]
  },
  {
   "cell_type": "code",
   "execution_count": 114,
   "id": "130bb187",
   "metadata": {},
   "outputs": [],
   "source": [
    "df_Sentences.to_json(\"2023-06-14_HypeSentences.json\")"
   ]
  },
  {
   "cell_type": "code",
   "execution_count": 5,
   "id": "e3862f30",
   "metadata": {},
   "outputs": [],
   "source": [
    "df_Sentences=pd.read_json(\"2023-06-14_HypeSentences.json\")\n",
    "\n",
    "\n",
    "#df_test[\"NER\"]=df_test.AI_sentences.apply(NER)"
   ]
  },
  {
   "cell_type": "code",
   "execution_count": 32,
   "id": "5b8df8f7",
   "metadata": {},
   "outputs": [],
   "source": [
    "# 1. Select Wordlist: here - from my hype library module (see Miller et al.)\n",
    "hype_selection=hype.hype_selection # OR: hype.Key_hypes\n",
    "\n",
    "df[\"hype_word\"]=df.AI_sentences.apply(hype.hype_word,keys=hype_selection)\n",
    "df[\"hype_sentence\"]=df.AI_sentences.apply(hype.hype_sentence,keys=hype_selection)\n",
    "\n",
    "\n",
    "df[\"modal_word\"]=df.AI_sentences.apply(hype.hype_word,keys=hype.key_modal)\n",
    "df[\"modal_sentence\"]=df.AI_sentences.apply(hype.hype_sentence,keys=hype.key_modal)\n",
    "df[\"modal_n\"]=df.modal_word.apply(lambda x: len(x) if isinstance(x,list) else 0)\n",
    "\n",
    "\n",
    "df[\"hype_n\"]=df.hype_word.apply(lambda x: len(x) if isinstance(x,list) else 0)\n",
    "#df=df.sort_values(\"hype_n\", ascending=False).drop_duplicates(subset=\"AI_sentences\")\n",
    "\n"
   ]
  },
  {
   "cell_type": "code",
   "execution_count": 35,
   "id": "95040515",
   "metadata": {},
   "outputs": [
    {
     "data": {
      "text/html": [
       "<div>\n",
       "<style scoped>\n",
       "    .dataframe tbody tr th:only-of-type {\n",
       "        vertical-align: middle;\n",
       "    }\n",
       "\n",
       "    .dataframe tbody tr th {\n",
       "        vertical-align: top;\n",
       "    }\n",
       "\n",
       "    .dataframe thead th {\n",
       "        text-align: right;\n",
       "    }\n",
       "</style>\n",
       "<table border=\"1\" class=\"dataframe\">\n",
       "  <thead>\n",
       "    <tr style=\"text-align: right;\">\n",
       "      <th></th>\n",
       "      <th>modal_word</th>\n",
       "      <th>modal_sentence</th>\n",
       "      <th>modal_n</th>\n",
       "    </tr>\n",
       "  </thead>\n",
       "  <tbody>\n",
       "    <tr>\n",
       "      <th>1990</th>\n",
       "      <td>[would, might, will, want, would like to]</td>\n",
       "      <td>[A consortium co-leadership is also a possibil...</td>\n",
       "      <td>5</td>\n",
       "    </tr>\n",
       "    <tr>\n",
       "      <th>1993</th>\n",
       "      <td>[would, will, can, may, would like to]</td>\n",
       "      <td>[Of course, you are also free to shape this ou...</td>\n",
       "      <td>5</td>\n",
       "    </tr>\n",
       "    <tr>\n",
       "      <th>5591</th>\n",
       "      <td>[could, need, can, want]</td>\n",
       "      <td>[Specifically, chatbots’ ability to learn from...</td>\n",
       "      <td>4</td>\n",
       "    </tr>\n",
       "    <tr>\n",
       "      <th>1970</th>\n",
       "      <td>[let, should, can, believe]</td>\n",
       "      <td>[Utrecht University believes it is important t...</td>\n",
       "      <td>4</td>\n",
       "    </tr>\n",
       "    <tr>\n",
       "      <th>3594</th>\n",
       "      <td>[will, can, may, ought]</td>\n",
       "      <td>[pendent thinking, so that we can step in when...</td>\n",
       "      <td>4</td>\n",
       "    </tr>\n",
       "  </tbody>\n",
       "</table>\n",
       "</div>"
      ],
      "text/plain": [
       "                                     modal_word  \\\n",
       "1990  [would, might, will, want, would like to]   \n",
       "1993     [would, will, can, may, would like to]   \n",
       "5591                   [could, need, can, want]   \n",
       "1970                [let, should, can, believe]   \n",
       "3594                    [will, can, may, ought]   \n",
       "\n",
       "                                         modal_sentence  modal_n  \n",
       "1990  [A consortium co-leadership is also a possibil...        5  \n",
       "1993  [Of course, you are also free to shape this ou...        5  \n",
       "5591  [Specifically, chatbots’ ability to learn from...        4  \n",
       "1970  [Utrecht University believes it is important t...        4  \n",
       "3594  [pendent thinking, so that we can step in when...        4  "
      ]
     },
     "execution_count": 35,
     "metadata": {},
     "output_type": "execute_result"
    }
   ],
   "source": [
    "df=df.sort_values(\"modal_n\", ascending=False)#.drop_duplicates(subset=\"modal_sentences\")\n",
    "df[[\"modal_word\",\"modal_sentence\",\"modal_n\"]].head()"
   ]
  },
  {
   "cell_type": "code",
   "execution_count": 28,
   "id": "24d60b54",
   "metadata": {},
   "outputs": [
    {
     "data": {
      "text/html": [
       "<div>\n",
       "<style scoped>\n",
       "    .dataframe tbody tr th:only-of-type {\n",
       "        vertical-align: middle;\n",
       "    }\n",
       "\n",
       "    .dataframe tbody tr th {\n",
       "        vertical-align: top;\n",
       "    }\n",
       "\n",
       "    .dataframe thead th {\n",
       "        text-align: right;\n",
       "    }\n",
       "</style>\n",
       "<table border=\"1\" class=\"dataframe\">\n",
       "  <thead>\n",
       "    <tr style=\"text-align: right;\">\n",
       "      <th></th>\n",
       "      <th>hype_word</th>\n",
       "      <th>hype_sentence</th>\n",
       "      <th>hype_n</th>\n",
       "    </tr>\n",
       "  </thead>\n",
       "  <tbody>\n",
       "    <tr>\n",
       "      <th>2591</th>\n",
       "      <td>[important, novel, effectively]</td>\n",
       "      <td>[This shift has offered the opportunity to exp...</td>\n",
       "      <td>3</td>\n",
       "    </tr>\n",
       "    <tr>\n",
       "      <th>2358</th>\n",
       "      <td>[notable, innovative, particularly]</td>\n",
       "      <td>[Can you discuss any particularly innovative o...</td>\n",
       "      <td>3</td>\n",
       "    </tr>\n",
       "    <tr>\n",
       "      <th>2659</th>\n",
       "      <td>[important, highlight]</td>\n",
       "      <td>[One highlight from this project included secu...</td>\n",
       "      <td>2</td>\n",
       "    </tr>\n",
       "    <tr>\n",
       "      <th>50</th>\n",
       "      <td>[important, relevant]</td>\n",
       "      <td>[Text generation can play a major part in this...</td>\n",
       "      <td>2</td>\n",
       "    </tr>\n",
       "    <tr>\n",
       "      <th>467</th>\n",
       "      <td>[importance, highlight]</td>\n",
       "      <td>[Our speakers will also highlight the importan...</td>\n",
       "      <td>2</td>\n",
       "    </tr>\n",
       "  </tbody>\n",
       "</table>\n",
       "</div>"
      ],
      "text/plain": [
       "                                hype_word  \\\n",
       "2591      [important, novel, effectively]   \n",
       "2358  [notable, innovative, particularly]   \n",
       "2659               [important, highlight]   \n",
       "50                  [important, relevant]   \n",
       "467               [importance, highlight]   \n",
       "\n",
       "                                          hype_sentence  hype_n  \n",
       "2591  [This shift has offered the opportunity to exp...       3  \n",
       "2358  [Can you discuss any particularly innovative o...       3  \n",
       "2659  [One highlight from this project included secu...       2  \n",
       "50    [Text generation can play a major part in this...       2  \n",
       "467   [Our speakers will also highlight the importan...       2  "
      ]
     },
     "execution_count": 28,
     "metadata": {},
     "output_type": "execute_result"
    }
   ],
   "source": [
    "df[[\"hype_word\",\"hype_sentence\",\"hype_n\"]].head()"
   ]
  },
  {
   "cell_type": "markdown",
   "id": "e0f847e3",
   "metadata": {},
   "source": [
    "# Named entity recognition of hype sentences"
   ]
  },
  {
   "cell_type": "code",
   "execution_count": 31,
   "id": "ecaaaef5",
   "metadata": {},
   "outputs": [
    {
     "data": {
      "text/plain": [
       "2591                                                   []\n",
       "2358    [(centre?One, CARDINAL), (the EUR Smart Campus...\n",
       "2659    [(One, CARDINAL), (three, CARDINAL), (just fou...\n",
       "50                                                     []\n",
       "467                                           [(AI, ORG)]\n",
       "2785                                                   []\n",
       "2374                    [(recent years, DATE), (AI, ORG)]\n",
       "230                                                    []\n",
       "1447                                                   []\n",
       "4153                                  [(Vincent, PERSON)]\n",
       "2376                    [(AI, ORG), (AI, ORG), (AI, ORG)]\n",
       "4177                                  [(Vincent, PERSON)]\n",
       "5591                                                   []\n",
       "3163                    [(ChatLab, ORG), (two, CARDINAL)]\n",
       "2683    [(EUR, ORG), (AI, ORG), (ERS Business Developm...\n",
       "3127                    [(ChatLab, ORG), (two, CARDINAL)]\n",
       "2409                    [(recent years, DATE), (AI, ORG)]\n",
       "3474    [(ChatGPT, ORG), (Google, ORG), (one, CARDINAL...\n",
       "1236    [(the Centre of Expertise in Learning & Teachi...\n",
       "3523                                                   []\n",
       "Name: NER, dtype: object"
      ]
     },
     "execution_count": 31,
     "metadata": {},
     "output_type": "execute_result"
    }
   ],
   "source": [
    "df_test=df[df.language==\"en\"].explode(column=\"hype_sentence\")[:20]\n",
    "\n",
    "def NER(RAW_text):\n",
    "    import spacy\n",
    "    from spacy import displacy\n",
    "\n",
    "    NER = spacy.load(\"en_core_web_sm\")\n",
    "    text=NER(RAW_text)\n",
    "\n",
    "    text=[(word.text, word.label_) for word in text.ents]\n",
    "    \n",
    "    return text\n",
    "\n",
    "\n",
    "df_test[\"NER\"]=df_test.AI_sentences.apply(NER)\n",
    "df_test[\"NER\"]"
   ]
  },
  {
   "cell_type": "code",
   "execution_count": 32,
   "id": "a492ea4a",
   "metadata": {},
   "outputs": [
    {
     "data": {
      "text/plain": [
       "[[],\n",
       " [('centre?One', 'CARDINAL'),\n",
       "  ('the EUR Smart Campus Project', 'ORG'),\n",
       "  ('Opens', 'ORG')],\n",
       " [('One', 'CARDINAL'),\n",
       "  ('three', 'CARDINAL'),\n",
       "  ('just four days', 'DATE'),\n",
       "  ('5', 'CARDINAL'),\n",
       "  ('European', 'NORP'),\n",
       "  ('EUR', 'ORG'),\n",
       "  ('TU Delft', 'ORG'),\n",
       "  ('Zuid', 'GPE'),\n",
       "  ('Holland', 'GPE'),\n",
       "  ('NWO', 'ORG'),\n",
       "  ('EUR', 'ORG'),\n",
       "  ('first', 'ORDINAL'),\n",
       "  ('2', 'CARDINAL')],\n",
       " [],\n",
       " [('AI', 'ORG')],\n",
       " [],\n",
       " [('recent years', 'DATE'), ('AI', 'ORG')],\n",
       " [],\n",
       " [],\n",
       " [('Vincent', 'PERSON')],\n",
       " [('AI', 'ORG'), ('AI', 'ORG'), ('AI', 'ORG')],\n",
       " [('Vincent', 'PERSON')],\n",
       " [],\n",
       " [('ChatLab', 'ORG'), ('two', 'CARDINAL')],\n",
       " [('EUR', 'ORG'),\n",
       "  ('AI', 'ORG'),\n",
       "  ('ERS Business Development & Knowledge Transfer Team', 'ORG')],\n",
       " [('ChatLab', 'ORG'), ('two', 'CARDINAL')],\n",
       " [('recent years', 'DATE'), ('AI', 'ORG')],\n",
       " [('ChatGPT', 'ORG'), ('Google', 'ORG'), ('one', 'CARDINAL'), ('AI', 'ORG')],\n",
       " [('the Centre of Expertise in Learning & Teaching', 'ORG'),\n",
       "  ('one', 'CARDINAL'),\n",
       "  ('AI', 'ORG'),\n",
       "  ('AI', 'ORG'),\n",
       "  ('3.5', 'CARDINAL'),\n",
       "  ('2021', 'DATE'),\n",
       "  ('Turnitin', 'ORG')],\n",
       " []]"
      ]
     },
     "execution_count": 32,
     "metadata": {},
     "output_type": "execute_result"
    }
   ],
   "source": [
    "pd.set_option('display.max_colwidth', None)\n",
    "[i for i in df_test[\"NER\"]]"
   ]
  },
  {
   "cell_type": "markdown",
   "id": "ac59c7c4",
   "metadata": {},
   "source": [
    "# Hype-word statistics per university"
   ]
  },
  {
   "cell_type": "code",
   "execution_count": 33,
   "id": "023e8698",
   "metadata": {},
   "outputs": [
    {
     "data": {
      "text/html": [
       "<div>\n",
       "<style scoped>\n",
       "    .dataframe tbody tr th:only-of-type {\n",
       "        vertical-align: middle;\n",
       "    }\n",
       "\n",
       "    .dataframe tbody tr th {\n",
       "        vertical-align: top;\n",
       "    }\n",
       "\n",
       "    .dataframe thead th {\n",
       "        text-align: right;\n",
       "    }\n",
       "</style>\n",
       "<table border=\"1\" class=\"dataframe\">\n",
       "  <thead>\n",
       "    <tr style=\"text-align: right;\">\n",
       "      <th></th>\n",
       "      <th>publications</th>\n",
       "      <th>sentences</th>\n",
       "      <th>hypewords</th>\n",
       "      <th>mean hype-words</th>\n",
       "    </tr>\n",
       "    <tr>\n",
       "      <th>Uni</th>\n",
       "      <th></th>\n",
       "      <th></th>\n",
       "      <th></th>\n",
       "      <th></th>\n",
       "    </tr>\n",
       "  </thead>\n",
       "  <tbody>\n",
       "    <tr>\n",
       "      <th>Delft University</th>\n",
       "      <td>22</td>\n",
       "      <td>331</td>\n",
       "      <td>13</td>\n",
       "      <td>0.039275</td>\n",
       "    </tr>\n",
       "    <tr>\n",
       "      <th>Eindhoven University of Technoloy</th>\n",
       "      <td>27</td>\n",
       "      <td>770</td>\n",
       "      <td>29</td>\n",
       "      <td>0.037662</td>\n",
       "    </tr>\n",
       "    <tr>\n",
       "      <th>Leiden University</th>\n",
       "      <td>40</td>\n",
       "      <td>428</td>\n",
       "      <td>19</td>\n",
       "      <td>0.044393</td>\n",
       "    </tr>\n",
       "    <tr>\n",
       "      <th>Maastricht Univerisity</th>\n",
       "      <td>26</td>\n",
       "      <td>494</td>\n",
       "      <td>36</td>\n",
       "      <td>0.072874</td>\n",
       "    </tr>\n",
       "    <tr>\n",
       "      <th>OpenUniversiteitNederland</th>\n",
       "      <td>12</td>\n",
       "      <td>119</td>\n",
       "      <td>1</td>\n",
       "      <td>0.008403</td>\n",
       "    </tr>\n",
       "    <tr>\n",
       "      <th>Radboud Nijmegen</th>\n",
       "      <td>28</td>\n",
       "      <td>374</td>\n",
       "      <td>19</td>\n",
       "      <td>0.050802</td>\n",
       "    </tr>\n",
       "    <tr>\n",
       "      <th>Rotterdam University</th>\n",
       "      <td>29</td>\n",
       "      <td>493</td>\n",
       "      <td>82</td>\n",
       "      <td>0.166329</td>\n",
       "    </tr>\n",
       "    <tr>\n",
       "      <th>Tilburg University</th>\n",
       "      <td>12</td>\n",
       "      <td>234</td>\n",
       "      <td>13</td>\n",
       "      <td>0.055556</td>\n",
       "    </tr>\n",
       "    <tr>\n",
       "      <th>University of Amsterdam</th>\n",
       "      <td>24</td>\n",
       "      <td>304</td>\n",
       "      <td>29</td>\n",
       "      <td>0.095395</td>\n",
       "    </tr>\n",
       "    <tr>\n",
       "      <th>University of Groningen</th>\n",
       "      <td>15</td>\n",
       "      <td>184</td>\n",
       "      <td>6</td>\n",
       "      <td>0.032609</td>\n",
       "    </tr>\n",
       "    <tr>\n",
       "      <th>University of Twente</th>\n",
       "      <td>23</td>\n",
       "      <td>244</td>\n",
       "      <td>26</td>\n",
       "      <td>0.106557</td>\n",
       "    </tr>\n",
       "    <tr>\n",
       "      <th>Utrecht University</th>\n",
       "      <td>32</td>\n",
       "      <td>955</td>\n",
       "      <td>62</td>\n",
       "      <td>0.064921</td>\n",
       "    </tr>\n",
       "    <tr>\n",
       "      <th>Vrije Universiteit Amsterdam</th>\n",
       "      <td>26</td>\n",
       "      <td>655</td>\n",
       "      <td>70</td>\n",
       "      <td>0.106870</td>\n",
       "    </tr>\n",
       "    <tr>\n",
       "      <th>Wageningen University</th>\n",
       "      <td>9</td>\n",
       "      <td>222</td>\n",
       "      <td>15</td>\n",
       "      <td>0.067568</td>\n",
       "    </tr>\n",
       "  </tbody>\n",
       "</table>\n",
       "</div>"
      ],
      "text/plain": [
       "                                   publications  sentences  hypewords  \\\n",
       "Uni                                                                     \n",
       "Delft University                             22        331         13   \n",
       "Eindhoven University of Technoloy            27        770         29   \n",
       "Leiden University                            40        428         19   \n",
       "Maastricht Univerisity                       26        494         36   \n",
       "OpenUniversiteitNederland                    12        119          1   \n",
       "Radboud Nijmegen                             28        374         19   \n",
       "Rotterdam University                         29        493         82   \n",
       "Tilburg University                           12        234         13   \n",
       "University of Amsterdam                      24        304         29   \n",
       "University of Groningen                      15        184          6   \n",
       "University of Twente                         23        244         26   \n",
       "Utrecht University                           32        955         62   \n",
       "Vrije Universiteit Amsterdam                 26        655         70   \n",
       "Wageningen University                         9        222         15   \n",
       "\n",
       "                                   mean hype-words  \n",
       "Uni                                                 \n",
       "Delft University                          0.039275  \n",
       "Eindhoven University of Technoloy         0.037662  \n",
       "Leiden University                         0.044393  \n",
       "Maastricht Univerisity                    0.072874  \n",
       "OpenUniversiteitNederland                 0.008403  \n",
       "Radboud Nijmegen                          0.050802  \n",
       "Rotterdam University                      0.166329  \n",
       "Tilburg University                        0.055556  \n",
       "University of Amsterdam                   0.095395  \n",
       "University of Groningen                   0.032609  \n",
       "University of Twente                      0.106557  \n",
       "Utrecht University                        0.064921  \n",
       "Vrije Universiteit Amsterdam              0.106870  \n",
       "Wageningen University                     0.067568  "
      ]
     },
     "execution_count": 33,
     "metadata": {},
     "output_type": "execute_result"
    }
   ],
   "source": [
    "\n",
    "Counts=pd.DataFrame({\"publications\": df.drop_duplicates(subset=\"FileKey\").value_counts(\"Uni\"), \n",
    "                     \"sentences\":df.value_counts(\"Uni\"),\n",
    "                    \"hypewords\":df.groupby(\"Uni\").sum()[\"hype_n\"]})\n",
    "Counts[\"mean hype-words\"]=Counts[\"hypewords\"]/Counts[\"sentences\"]\n",
    "Counts"
   ]
  },
  {
   "cell_type": "markdown",
   "id": "96fabddf",
   "metadata": {},
   "source": [
    "# Check hype sentences"
   ]
  },
  {
   "cell_type": "code",
   "execution_count": 34,
   "id": "1cad5acc",
   "metadata": {},
   "outputs": [],
   "source": [
    "pd.options.display.max_colwidth = 500\n",
    "hype_sentences=df.iloc[:12,-4:]\n",
    "hype_sentences\n",
    "hype_sentences.to_excel(\"hype_sentences.xlsx\")"
   ]
  },
  {
   "cell_type": "code",
   "execution_count": 40,
   "id": "f7f69912",
   "metadata": {},
   "outputs": [
    {
     "data": {
      "text/html": [
       "<div>\n",
       "<style scoped>\n",
       "    .dataframe tbody tr th:only-of-type {\n",
       "        vertical-align: middle;\n",
       "    }\n",
       "\n",
       "    .dataframe tbody tr th {\n",
       "        vertical-align: top;\n",
       "    }\n",
       "\n",
       "    .dataframe thead th {\n",
       "        text-align: right;\n",
       "    }\n",
       "</style>\n",
       "<table border=\"1\" class=\"dataframe\">\n",
       "  <thead>\n",
       "    <tr style=\"text-align: right;\">\n",
       "      <th></th>\n",
       "      <th>Uni</th>\n",
       "      <th>date</th>\n",
       "      <th>hype_n</th>\n",
       "      <th>AI_sentences</th>\n",
       "      <th>word_count</th>\n",
       "      <th>hype_word</th>\n",
       "    </tr>\n",
       "  </thead>\n",
       "  <tbody>\n",
       "    <tr>\n",
       "      <th>2358</th>\n",
       "      <td>Rotterdam University</td>\n",
       "      <td>2023-04-25</td>\n",
       "      <td>3</td>\n",
       "      <td>Can you discuss any particularly innovative or...</td>\n",
       "      <td>712</td>\n",
       "      <td>[notable, innovative, particularly]</td>\n",
       "    </tr>\n",
       "    <tr>\n",
       "      <th>2591</th>\n",
       "      <td>Rotterdam University</td>\n",
       "      <td>2022-05-24</td>\n",
       "      <td>3</td>\n",
       "      <td>This shift has offered the opportunity to expa...</td>\n",
       "      <td>72</td>\n",
       "      <td>[important, novel, effectively]</td>\n",
       "    </tr>\n",
       "    <tr>\n",
       "      <th>230</th>\n",
       "      <td>Radboud Nijmegen</td>\n",
       "      <td>2023-04-01</td>\n",
       "      <td>2</td>\n",
       "      <td>Will ChatGPT fundamentally change our educatio...</td>\n",
       "      <td>60</td>\n",
       "      <td>[fundamentally, fundamental]</td>\n",
       "    </tr>\n",
       "    <tr>\n",
       "      <th>3428</th>\n",
       "      <td>Vrije Universiteit Amsterdam</td>\n",
       "      <td>2023-02-10</td>\n",
       "      <td>2</td>\n",
       "      <td>It will significantly change many aspects of o...</td>\n",
       "      <td>150</td>\n",
       "      <td>[significant, significantly]</td>\n",
       "    </tr>\n",
       "    <tr>\n",
       "      <th>3474</th>\n",
       "      <td>Vrije Universiteit Amsterdam</td>\n",
       "      <td>2023-02-24</td>\n",
       "      <td>2</td>\n",
       "      <td>ChatGPT's sophisticated features therefore ope...</td>\n",
       "      <td>728</td>\n",
       "      <td>[essential, disrupt]</td>\n",
       "    </tr>\n",
       "    <tr>\n",
       "      <th>3581</th>\n",
       "      <td>Vrije Universiteit Amsterdam</td>\n",
       "      <td>2023-02-24</td>\n",
       "      <td>2</td>\n",
       "      <td>This creates a double risk: not only may human...</td>\n",
       "      <td>755</td>\n",
       "      <td>[essential, especially]</td>\n",
       "    </tr>\n",
       "    <tr>\n",
       "      <th>4885</th>\n",
       "      <td>Maastricht Univerisity</td>\n",
       "      <td>2023-01-30</td>\n",
       "      <td>2</td>\n",
       "      <td>The most notable of these disruptions came fro...</td>\n",
       "      <td>61</td>\n",
       "      <td>[notable, disrupt]</td>\n",
       "    </tr>\n",
       "    <tr>\n",
       "      <th>309</th>\n",
       "      <td>Radboud Nijmegen</td>\n",
       "      <td>2023-04-26</td>\n",
       "      <td>2</td>\n",
       "      <td>By exploring how AI can complement and enhance...</td>\n",
       "      <td>56</td>\n",
       "      <td>[effectively, empower]</td>\n",
       "    </tr>\n",
       "    <tr>\n",
       "      <th>3513</th>\n",
       "      <td>Vrije Universiteit Amsterdam</td>\n",
       "      <td>2023-02-24</td>\n",
       "      <td>2</td>\n",
       "      <td>This creates a double risk: not only may human...</td>\n",
       "      <td>757</td>\n",
       "      <td>[essential, especially]</td>\n",
       "    </tr>\n",
       "    <tr>\n",
       "      <th>1236</th>\n",
       "      <td>University of Twente</td>\n",
       "      <td>2023-06-05</td>\n",
       "      <td>2</td>\n",
       "      <td>To help you see the potential risk in your typ...</td>\n",
       "      <td>304</td>\n",
       "      <td>[relevant, especially]</td>\n",
       "    </tr>\n",
       "  </tbody>\n",
       "</table>\n",
       "</div>"
      ],
      "text/plain": [
       "                               Uni       date  hype_n  \\\n",
       "2358          Rotterdam University 2023-04-25       3   \n",
       "2591          Rotterdam University 2022-05-24       3   \n",
       "230               Radboud Nijmegen 2023-04-01       2   \n",
       "3428  Vrije Universiteit Amsterdam 2023-02-10       2   \n",
       "3474  Vrije Universiteit Amsterdam 2023-02-24       2   \n",
       "3581  Vrije Universiteit Amsterdam 2023-02-24       2   \n",
       "4885        Maastricht Univerisity 2023-01-30       2   \n",
       "309               Radboud Nijmegen 2023-04-26       2   \n",
       "3513  Vrije Universiteit Amsterdam 2023-02-24       2   \n",
       "1236          University of Twente 2023-06-05       2   \n",
       "\n",
       "                                           AI_sentences  word_count  \\\n",
       "2358  Can you discuss any particularly innovative or...         712   \n",
       "2591  This shift has offered the opportunity to expa...          72   \n",
       "230   Will ChatGPT fundamentally change our educatio...          60   \n",
       "3428  It will significantly change many aspects of o...         150   \n",
       "3474  ChatGPT's sophisticated features therefore ope...         728   \n",
       "3581  This creates a double risk: not only may human...         755   \n",
       "4885  The most notable of these disruptions came fro...          61   \n",
       "309   By exploring how AI can complement and enhance...          56   \n",
       "3513  This creates a double risk: not only may human...         757   \n",
       "1236  To help you see the potential risk in your typ...         304   \n",
       "\n",
       "                                hype_word  \n",
       "2358  [notable, innovative, particularly]  \n",
       "2591      [important, novel, effectively]  \n",
       "230          [fundamentally, fundamental]  \n",
       "3428         [significant, significantly]  \n",
       "3474                 [essential, disrupt]  \n",
       "3581              [essential, especially]  \n",
       "4885                   [notable, disrupt]  \n",
       "309                [effectively, empower]  \n",
       "3513              [essential, especially]  \n",
       "1236               [relevant, especially]  "
      ]
     },
     "execution_count": 40,
     "metadata": {},
     "output_type": "execute_result"
    }
   ],
   "source": [
    "hype_sentences=df[['Uni','date',\"hype_n\",\"AI_sentences\",'word_count','hype_word']]\n",
    "#hype_sentences[\"hype_ratio\"]=hype_sentences[\"hype_n\"]/hype_sentences[\"word_count\"]\n",
    "#hype_sentences.drop_duplicates(subset=\"AI_sentences\")\n",
    "hype_sentences.sort_values(by=\"hype_n\", ascending=False).head(10)"
   ]
  },
  {
   "cell_type": "code",
   "execution_count": 37,
   "id": "80707e84",
   "metadata": {},
   "outputs": [
    {
     "data": {
      "text/plain": [
       "Index(['index', 'Uni', 'FileKey', 'url', 'date', 'Title', 'linkName',\n",
       "       'linkUrl', 'AI_paragraphs', 'text_clean', 'letters_count', 'word_count',\n",
       "       'language', 'source_language', 'pure_text', 'Lemmata', 'NoStopwords',\n",
       "       'NoStopwords_Set', 'AI_sentences', 'hype_word', 'hype_sentence',\n",
       "       'modal_word', 'modal_sentence', 'modal_n', 'hype_n'],\n",
       "      dtype='object')"
      ]
     },
     "execution_count": 37,
     "metadata": {},
     "output_type": "execute_result"
    }
   ],
   "source": [
    "df.columns"
   ]
  },
  {
   "cell_type": "code",
   "execution_count": 38,
   "id": "d43999c1",
   "metadata": {},
   "outputs": [
    {
     "name": "stderr",
     "output_type": "stream",
     "text": [
      "C:\\Users\\mr\\AppData\\Local\\Temp\\ipykernel_14584\\3206164115.py:10: FutureWarning: The pandas.datetime class is deprecated and will be removed from pandas in a future version. Import from datetime module instead.\n",
      "  modal_df[modal_df.index>pd.datetime(2022,1,1)][\"modal_word\"].plot(title=f\"n_modal_words peer {freq}\",legend=True)\n"
     ]
    },
    {
     "data": {
      "text/plain": [
       "<AxesSubplot: title={'center': 'n_modal_words peer M'}, xlabel='date'>"
      ]
     },
     "execution_count": 38,
     "metadata": {},
     "output_type": "execute_result"
    },
    {
     "data": {
      "image/png": "[encoded data removed]",
      "text/plain": [
       "<Figure size 432x288 with 1 Axes>"
      ]
     },
     "metadata": {
      "needs_background": "light"
     },
     "output_type": "display_data"
    }
   ],
   "source": [
    "freq=\"M\"\n",
    "\n",
    "hype_time=df.set_index(\"date\").groupby(pd.Grouper(freq=freq))\n",
    "\n",
    "\n",
    "modal_df=pd.DataFrame()\n",
    "modal_df[\"modal_word\"]=hype_time[\"modal_n\"].apply(lambda x: sum(x) if len(x)>0 else 0)\n",
    "#hype_df[\"n\"]=hype_time[\"hype_n\"].apply(lambda x: len(x) if len(x)>0 else 0)\n",
    "\n",
    "modal_df[modal_df.index>pd.datetime(2022,1,1)][\"modal_word\"].plot(title=f\"n_modal_words peer {freq}\",legend=True)"
   ]
  },
  {
   "cell_type": "code",
   "execution_count": 44,
   "id": "dbc07b68",
   "metadata": {},
   "outputs": [
    {
     "data": {
      "text/plain": [
       "['let',\n",
       " 'would',\n",
       " 'might',\n",
       " 'urge',\n",
       " 'will',\n",
       " 'could',\n",
       " 'should',\n",
       " 'ask for',\n",
       " 'need',\n",
       " 'can',\n",
       " 'wish',\n",
       " 'doubt',\n",
       " 'must',\n",
       " 'aim',\n",
       " 'may',\n",
       " 'want',\n",
       " 'would like to',\n",
       " 'believe',\n",
       " 'expect',\n",
       " 'have to',\n",
       " 'hope',\n",
       " 'fear',\n",
       " 'ought']"
      ]
     },
     "execution_count": 44,
     "metadata": {},
     "output_type": "execute_result"
    }
   ],
   "source": [
    "hype.key_modal"
   ]
  },
  {
   "cell_type": "code",
   "execution_count": 43,
   "id": "92591d88",
   "metadata": {},
   "outputs": [
    {
     "name": "stderr",
     "output_type": "stream",
     "text": [
      "C:\\Users\\mr\\AppData\\Local\\Temp\\ipykernel_14584\\2412460925.py:10: FutureWarning: The pandas.datetime class is deprecated and will be removed from pandas in a future version. Import from datetime module instead.\n",
      "  hype_df[hype_df.index>pd.datetime(2022,6,1)][\"Hypewords\"].plot(title=f\"n_hypewords peer {freq}\",legend=True)\n",
      "C:\\Users\\mr\\AppData\\Local\\Temp\\ipykernel_14584\\2412460925.py:11: FutureWarning: The pandas.datetime class is deprecated and will be removed from pandas in a future version. Import from datetime module instead.\n",
      "  df_publ[df_publ.index>pd.datetime(2022,6,1)][\"Publications\"].plot(legend=True)\n",
      "C:\\Users\\mr\\AppData\\Local\\Temp\\ipykernel_14584\\2412460925.py:12: FutureWarning: The pandas.datetime class is deprecated and will be removed from pandas in a future version. Import from datetime module instead.\n",
      "  modal_df[modal_df.index>pd.datetime(2022,6,1)][\"modal_word\"].plot(title=f\"n_modal_words peer {freq}\",legend=True, secondary_y=True)\n"
     ]
    },
    {
     "data": {
      "text/plain": [
       "<AxesSubplot: >"
      ]
     },
     "execution_count": 43,
     "metadata": {},
     "output_type": "execute_result"
    },
    {
     "data": {
      "image/png": "[encoded data removed]",
      "text/plain": [
       "<Figure size 432x288 with 2 Axes>"
      ]
     },
     "metadata": {
      "needs_background": "light"
     },
     "output_type": "display_data"
    }
   ],
   "source": [
    "freq=\"M\"\n",
    "\n",
    "hype_time=hype_sentences.set_index(\"date\").groupby(pd.Grouper(freq=freq))\n",
    "\n",
    "\n",
    "hype_df=pd.DataFrame()\n",
    "hype_df[\"Hypewords\"]=hype_time[\"hype_n\"].apply(lambda x: sum(x) if len(x)>0 else 0)\n",
    "#hype_df[\"n\"]=hype_time[\"hype_n\"].apply(lambda x: len(x) if len(x)>0 else 0)\n",
    "\n",
    "hype_df[hype_df.index>pd.datetime(2022,6,1)][\"Hypewords\"].plot(title=f\"n_hypewords peer {freq}\",legend=True)\n",
    "df_publ[df_publ.index>pd.datetime(2022,6,1)][\"Publications\"].plot(legend=True)\n",
    "modal_df[modal_df.index>pd.datetime(2022,6,1)][\"modal_word\"].plot(title=f\"n_modal_words peer {freq}\",legend=True, secondary_y=True)"
   ]
  },
  {
   "cell_type": "code",
   "execution_count": 37,
   "id": "49bfa215",
   "metadata": {},
   "outputs": [
    {
     "data": {
      "text/plain": [
       "<pandas.core.groupby.generic.DataFrameGroupBy object at 0x000001714D48D5B0>"
      ]
     },
     "execution_count": 37,
     "metadata": {},
     "output_type": "execute_result"
    }
   ],
   "source": [
    "hype_time=hype_sentences.set_index(\"date\").groupby(pd.Grouper(freq='W'))\n",
    "hype_time"
   ]
  },
  {
   "cell_type": "markdown",
   "id": "621e00c1",
   "metadata": {},
   "source": [
    "# Use of words over time"
   ]
  },
  {
   "cell_type": "code",
   "execution_count": 38,
   "id": "8f9027a2",
   "metadata": {},
   "outputs": [
    {
     "name": "stdout",
     "output_type": "stream",
     "text": [
      "['education', 'chatbot', 'create', 'write', 'produce', 'answer', 'tool', 'human', 'skill', 'knowledge', 'bias', 'assignment', 'intelligence', 'artificial', 'test', 'evaluate', 'assessment', 'plagiarism']\n"
     ]
    },
    {
     "data": {
      "text/html": [
       "<div>\n",
       "<style scoped>\n",
       "    .dataframe tbody tr th:only-of-type {\n",
       "        vertical-align: middle;\n",
       "    }\n",
       "\n",
       "    .dataframe tbody tr th {\n",
       "        vertical-align: top;\n",
       "    }\n",
       "\n",
       "    .dataframe thead th {\n",
       "        text-align: right;\n",
       "    }\n",
       "</style>\n",
       "<table border=\"1\" class=\"dataframe\">\n",
       "  <thead>\n",
       "    <tr style=\"text-align: right;\">\n",
       "      <th></th>\n",
       "      <th>0</th>\n",
       "      <th>1</th>\n",
       "      <th>2</th>\n",
       "      <th>3</th>\n",
       "      <th>4</th>\n",
       "    </tr>\n",
       "  </thead>\n",
       "  <tbody>\n",
       "    <tr>\n",
       "      <th>2022-10-31 00:00:00</th>\n",
       "      <td>(knowledge, 79.93%)</td>\n",
       "      <td>(artificial, 31.29%)</td>\n",
       "      <td>(intelligence, 31.29%)</td>\n",
       "      <td>(create, 11.9%)</td>\n",
       "      <td>(chatbot, 8.16%)</td>\n",
       "    </tr>\n",
       "    <tr>\n",
       "      <th>2022-11-30 00:00:00</th>\n",
       "      <td>(chatbot, 12.59%)</td>\n",
       "      <td>None</td>\n",
       "      <td>None</td>\n",
       "      <td>None</td>\n",
       "      <td>None</td>\n",
       "    </tr>\n",
       "    <tr>\n",
       "      <th>2022-12-31 00:00:00</th>\n",
       "      <td>(write, 36.39%)</td>\n",
       "      <td>(answer, 16.67%)</td>\n",
       "      <td>(human, 10.88%)</td>\n",
       "      <td>(artificial, 7.82%)</td>\n",
       "      <td>(intelligence, 7.82%)</td>\n",
       "    </tr>\n",
       "    <tr>\n",
       "      <th>2023-01-31 00:00:00</th>\n",
       "      <td>(write, 113.27%)</td>\n",
       "      <td>(tool, 111.22%)</td>\n",
       "      <td>(answer, 102.72%)</td>\n",
       "      <td>(chatbot, 100.34%)</td>\n",
       "      <td>(human, 94.22%)</td>\n",
       "    </tr>\n",
       "    <tr>\n",
       "      <th>2023-02-28 00:00:00</th>\n",
       "      <td>(chatbot, 607.82%)</td>\n",
       "      <td>(human, 521.43%)</td>\n",
       "      <td>(write, 228.23%)</td>\n",
       "      <td>(knowledge, 148.64%)</td>\n",
       "      <td>(skill, 124.15%)</td>\n",
       "    </tr>\n",
       "    <tr>\n",
       "      <th>2023-03-31 00:00:00</th>\n",
       "      <td>(answer, 471.09%)</td>\n",
       "      <td>(chatbot, 399.32%)</td>\n",
       "      <td>(write, 327.55%)</td>\n",
       "      <td>(create, 182.99%)</td>\n",
       "      <td>(tool, 176.19%)</td>\n",
       "    </tr>\n",
       "    <tr>\n",
       "      <th>2023-04-30 00:00:00</th>\n",
       "      <td>(human, 151.7%)</td>\n",
       "      <td>(create, 149.66%)</td>\n",
       "      <td>(education, 141.84%)</td>\n",
       "      <td>(knowledge, 126.87%)</td>\n",
       "      <td>(intelligence, 72.45%)</td>\n",
       "    </tr>\n",
       "    <tr>\n",
       "      <th>2023-05-31 00:00:00</th>\n",
       "      <td>(education, 185.03%)</td>\n",
       "      <td>(intelligence, 177.55%)</td>\n",
       "      <td>(artificial, 171.77%)</td>\n",
       "      <td>(chatbot, 156.8%)</td>\n",
       "      <td>(write, 131.63%)</td>\n",
       "    </tr>\n",
       "    <tr>\n",
       "      <th>2023-06-30 00:00:00</th>\n",
       "      <td>(intelligence, 159.18%)</td>\n",
       "      <td>(artificial, 124.49%)</td>\n",
       "      <td>(education, 84.35%)</td>\n",
       "      <td>(human, 78.23%)</td>\n",
       "      <td>(write, 54.08%)</td>\n",
       "    </tr>\n",
       "  </tbody>\n",
       "</table>\n",
       "</div>"
      ],
      "text/plain": [
       "                                           0                        1  \\\n",
       "2022-10-31 00:00:00      (knowledge, 79.93%)     (artificial, 31.29%)   \n",
       "2022-11-30 00:00:00        (chatbot, 12.59%)                     None   \n",
       "2022-12-31 00:00:00          (write, 36.39%)         (answer, 16.67%)   \n",
       "2023-01-31 00:00:00         (write, 113.27%)          (tool, 111.22%)   \n",
       "2023-02-28 00:00:00       (chatbot, 607.82%)         (human, 521.43%)   \n",
       "2023-03-31 00:00:00        (answer, 471.09%)       (chatbot, 399.32%)   \n",
       "2023-04-30 00:00:00          (human, 151.7%)        (create, 149.66%)   \n",
       "2023-05-31 00:00:00     (education, 185.03%)  (intelligence, 177.55%)   \n",
       "2023-06-30 00:00:00  (intelligence, 159.18%)    (artificial, 124.49%)   \n",
       "\n",
       "                                          2                     3  \\\n",
       "2022-10-31 00:00:00  (intelligence, 31.29%)       (create, 11.9%)   \n",
       "2022-11-30 00:00:00                    None                  None   \n",
       "2022-12-31 00:00:00         (human, 10.88%)   (artificial, 7.82%)   \n",
       "2023-01-31 00:00:00       (answer, 102.72%)    (chatbot, 100.34%)   \n",
       "2023-02-28 00:00:00        (write, 228.23%)  (knowledge, 148.64%)   \n",
       "2023-03-31 00:00:00        (write, 327.55%)     (create, 182.99%)   \n",
       "2023-04-30 00:00:00    (education, 141.84%)  (knowledge, 126.87%)   \n",
       "2023-05-31 00:00:00   (artificial, 171.77%)     (chatbot, 156.8%)   \n",
       "2023-06-30 00:00:00     (education, 84.35%)       (human, 78.23%)   \n",
       "\n",
       "                                          4  \n",
       "2022-10-31 00:00:00        (chatbot, 8.16%)  \n",
       "2022-11-30 00:00:00                    None  \n",
       "2022-12-31 00:00:00   (intelligence, 7.82%)  \n",
       "2023-01-31 00:00:00         (human, 94.22%)  \n",
       "2023-02-28 00:00:00        (skill, 124.15%)  \n",
       "2023-03-31 00:00:00         (tool, 176.19%)  \n",
       "2023-04-30 00:00:00  (intelligence, 72.45%)  \n",
       "2023-05-31 00:00:00        (write, 131.63%)  \n",
       "2023-06-30 00:00:00         (write, 54.08%)  "
      ]
     },
     "execution_count": 38,
     "metadata": {},
     "output_type": "execute_result"
    }
   ],
   "source": [
    "from collections import Counter\n",
    "\n",
    "\n",
    "keyWords=\"chatgpt,education,chatbot,university,create,write,produce,answer,tool,human,skill,knowledge,bias,assignment,intelligence,artificial,test,evaluate,assessment,plagiarism\"\n",
    "keyWords=\"education,chatbot,create,write,produce,answer,tool,human,skill,knowledge,bias,assignment,intelligence,artificial,test,evaluate,assessment,plagiarism\"\n",
    "\n",
    "keyWords=keyWords.split(\",\")\n",
    "print(keyWords)\n",
    "\n",
    "group=df.set_index(\"date\").groupby(pd.Grouper(freq='M'))[\"NoStopwords\"].sum()\n",
    "\n",
    "Wordyear={}\n",
    "Wordyear_exact={}\n",
    "Wordyear_only={}\n",
    "for i, row in group.iteritems():\n",
    "    \n",
    "    #print(i,row)\n",
    "    if type(row)==list:\n",
    "        \n",
    "        ## filter ROW for interesting key-words:\n",
    "        row=[i for i in row if i in keyWords]\n",
    "        \n",
    "        c=Counter(row).most_common(5)\n",
    "        \n",
    "        c_exact=[(i[0],i[1]/len(group)) for i in c]\n",
    "\n",
    "        c=[(i[0],str(round(i[1]/len(group)*100,2))+\"%\") for i in c]\n",
    "        c_only=[i[0] for i in c]\n",
    "\n",
    "\n",
    "        Wordyear[str(i)]=c\n",
    "        Wordyear_exact[str(i)]=c_exact\n",
    "        Wordyear_only[str(i)]=c_only\n",
    "        \n",
    "        \n",
    "        \n",
    "    #print(c,\"\\n\")\n",
    "    \n",
    "CountDF=pd.DataFrame.from_dict(Wordyear, orient='index').T\n",
    "\n",
    "\n",
    "CountDF.T[CountDF.T.index>\"2022-10-01\"]"
   ]
  },
  {
   "cell_type": "code",
   "execution_count": 53,
   "id": "2ac23c7a",
   "metadata": {},
   "outputs": [
    {
     "data": {
      "text/html": [
       "<div>\n",
       "<style scoped>\n",
       "    .dataframe tbody tr th:only-of-type {\n",
       "        vertical-align: middle;\n",
       "    }\n",
       "\n",
       "    .dataframe tbody tr th {\n",
       "        vertical-align: top;\n",
       "    }\n",
       "\n",
       "    .dataframe thead th {\n",
       "        text-align: right;\n",
       "    }\n",
       "</style>\n",
       "<table border=\"1\" class=\"dataframe\">\n",
       "  <thead>\n",
       "    <tr style=\"text-align: right;\">\n",
       "      <th></th>\n",
       "      <th>0</th>\n",
       "      <th>1</th>\n",
       "      <th>2</th>\n",
       "      <th>3</th>\n",
       "      <th>4</th>\n",
       "    </tr>\n",
       "  </thead>\n",
       "  <tbody>\n",
       "    <tr>\n",
       "      <th>2022-10-31 00:00:00</th>\n",
       "      <td>knowledge</td>\n",
       "      <td>artificial</td>\n",
       "      <td>intelligence</td>\n",
       "      <td>create</td>\n",
       "      <td>chatbot</td>\n",
       "    </tr>\n",
       "    <tr>\n",
       "      <th>2022-11-30 00:00:00</th>\n",
       "      <td>chatbot</td>\n",
       "      <td>None</td>\n",
       "      <td>None</td>\n",
       "      <td>None</td>\n",
       "      <td>None</td>\n",
       "    </tr>\n",
       "    <tr>\n",
       "      <th>2022-12-31 00:00:00</th>\n",
       "      <td>write</td>\n",
       "      <td>answer</td>\n",
       "      <td>human</td>\n",
       "      <td>skill</td>\n",
       "      <td>artificial</td>\n",
       "    </tr>\n",
       "    <tr>\n",
       "      <th>2023-01-31 00:00:00</th>\n",
       "      <td>write</td>\n",
       "      <td>tool</td>\n",
       "      <td>answer</td>\n",
       "      <td>chatbot</td>\n",
       "      <td>human</td>\n",
       "    </tr>\n",
       "    <tr>\n",
       "      <th>2023-02-28 00:00:00</th>\n",
       "      <td>chatbot</td>\n",
       "      <td>human</td>\n",
       "      <td>write</td>\n",
       "      <td>knowledge</td>\n",
       "      <td>skill</td>\n",
       "    </tr>\n",
       "    <tr>\n",
       "      <th>2023-03-31 00:00:00</th>\n",
       "      <td>answer</td>\n",
       "      <td>chatbot</td>\n",
       "      <td>write</td>\n",
       "      <td>create</td>\n",
       "      <td>tool</td>\n",
       "    </tr>\n",
       "    <tr>\n",
       "      <th>2023-04-30 00:00:00</th>\n",
       "      <td>human</td>\n",
       "      <td>create</td>\n",
       "      <td>education</td>\n",
       "      <td>knowledge</td>\n",
       "      <td>intelligence</td>\n",
       "    </tr>\n",
       "    <tr>\n",
       "      <th>2023-05-31 00:00:00</th>\n",
       "      <td>education</td>\n",
       "      <td>intelligence</td>\n",
       "      <td>artificial</td>\n",
       "      <td>chatbot</td>\n",
       "      <td>write</td>\n",
       "    </tr>\n",
       "    <tr>\n",
       "      <th>2023-06-30 00:00:00</th>\n",
       "      <td>intelligence</td>\n",
       "      <td>artificial</td>\n",
       "      <td>education</td>\n",
       "      <td>human</td>\n",
       "      <td>write</td>\n",
       "    </tr>\n",
       "  </tbody>\n",
       "</table>\n",
       "</div>"
      ],
      "text/plain": [
       "                                0             1             2          3  \\\n",
       "2022-10-31 00:00:00     knowledge    artificial  intelligence     create   \n",
       "2022-11-30 00:00:00       chatbot          None          None       None   \n",
       "2022-12-31 00:00:00         write        answer         human      skill   \n",
       "2023-01-31 00:00:00         write          tool        answer    chatbot   \n",
       "2023-02-28 00:00:00       chatbot         human         write  knowledge   \n",
       "2023-03-31 00:00:00        answer       chatbot         write     create   \n",
       "2023-04-30 00:00:00         human        create     education  knowledge   \n",
       "2023-05-31 00:00:00     education  intelligence    artificial    chatbot   \n",
       "2023-06-30 00:00:00  intelligence    artificial     education      human   \n",
       "\n",
       "                                4  \n",
       "2022-10-31 00:00:00       chatbot  \n",
       "2022-11-30 00:00:00          None  \n",
       "2022-12-31 00:00:00    artificial  \n",
       "2023-01-31 00:00:00         human  \n",
       "2023-02-28 00:00:00         skill  \n",
       "2023-03-31 00:00:00          tool  \n",
       "2023-04-30 00:00:00  intelligence  \n",
       "2023-05-31 00:00:00         write  \n",
       "2023-06-30 00:00:00         write  "
      ]
     },
     "execution_count": 53,
     "metadata": {},
     "output_type": "execute_result"
    }
   ],
   "source": [
    "CountDF=pd.DataFrame.from_dict(Wordyear_only, orient='index').T\n",
    "CountDF.T[CountDF.T.index>\"2022-10-01\"]"
   ]
  },
  {
   "cell_type": "code",
   "execution_count": 54,
   "id": "41949a9f",
   "metadata": {},
   "outputs": [],
   "source": [
    "#df=df.drop_duplicates(\"text_clean\")"
   ]
  },
  {
   "cell_type": "markdown",
   "id": "c8f78098",
   "metadata": {},
   "source": [
    "# Words in context & Word-Graph analysis"
   ]
  },
  {
   "cell_type": "code",
   "execution_count": 116,
   "id": "eb9ab1e4",
   "metadata": {},
   "outputs": [
    {
     "data": {
      "application/vnd.jupyter.widget-view+json": {
       "model_id": "c0fd941d25ae407182699f20978f28f2",
       "version_major": 2,
       "version_minor": 0
      },
      "text/plain": [
       "interactive(children=(Dropdown(description='column', options=('text_clean', 'pure_text', 'NoStopwords', 'AI_se…"
      ]
     },
     "metadata": {},
     "output_type": "display_data"
    }
   ],
   "source": [
    "#This cell allows to read the words before and after a search_word. You can change the searchword & the size of the context.\n",
    "@interact(search_word=\"education\",words_before=(0,10),words_after=(0,10))\n",
    "def text_context(column=[\"text_clean\",\"pure_text\",\"NoStopwords\",\"AI_sentences\"],search_word=\"education\",words_before=1,words_after=1):\n",
    "    df_Sentences[column].dropna().apply(analysis.Keyword_context,search_word=search_word.lower(),context=(words_before,words_after))\n"
   ]
  },
  {
   "cell_type": "code",
   "execution_count": 126,
   "id": "005caa3a",
   "metadata": {},
   "outputs": [
    {
     "name": "stdout",
     "output_type": "stream",
     "text": [
      "[(('topic', 'research'), 335), (('ai', 'ai'), 316), (('list', 'research'), 282), (('topic', 'topic'), 259), (('university', 'university'), 255)]\n",
      "Cleaning Graph to minimum Degree 2.\n",
      "Nodes count:  85\n",
      "Edges count:  357\n",
      "see the network: The_network.html\n"
     ]
    }
   ],
   "source": [
    "# WORD _GRAPH ANALYSIS\n",
    "\n",
    "G=analysis.Word_NetworkGen(df_Sentences,n=500,column=\"NoStopwords\")\n",
    "G2=analysis.CleanGraph(G,removeIsolates=True,minDegree=2,only_largest_component=True)\n",
    "#G2=G\n",
    "analysis.writeNetworkHTML(G2,view=False)\n",
    "print(\"see the network: The_network.html\")"
   ]
  },
  {
   "cell_type": "code",
   "execution_count": 128,
   "id": "e518a0fc",
   "metadata": {},
   "outputs": [
    {
     "data": {
      "text/html": [
       "<div>\n",
       "<style scoped>\n",
       "    .dataframe tbody tr th:only-of-type {\n",
       "        vertical-align: middle;\n",
       "    }\n",
       "\n",
       "    .dataframe tbody tr th {\n",
       "        vertical-align: top;\n",
       "    }\n",
       "\n",
       "    .dataframe thead th {\n",
       "        text-align: right;\n",
       "    }\n",
       "</style>\n",
       "<table border=\"1\" class=\"dataframe\">\n",
       "  <thead>\n",
       "    <tr style=\"text-align: right;\">\n",
       "      <th></th>\n",
       "      <th>closeness-Centrality_per_sentence</th>\n",
       "    </tr>\n",
       "  </thead>\n",
       "  <tbody>\n",
       "    <tr>\n",
       "      <th>ai</th>\n",
       "      <td>0.572495</td>\n",
       "    </tr>\n",
       "    <tr>\n",
       "      <th>research</th>\n",
       "      <td>0.528737</td>\n",
       "    </tr>\n",
       "    <tr>\n",
       "      <th>university</th>\n",
       "      <td>0.512418</td>\n",
       "    </tr>\n",
       "    <tr>\n",
       "      <th>topic</th>\n",
       "      <td>0.488304</td>\n",
       "    </tr>\n",
       "    <tr>\n",
       "      <th>concept</th>\n",
       "      <td>0.485449</td>\n",
       "    </tr>\n",
       "    <tr>\n",
       "      <th>list</th>\n",
       "      <td>0.463753</td>\n",
       "    </tr>\n",
       "    <tr>\n",
       "      <th>student</th>\n",
       "      <td>0.461176</td>\n",
       "    </tr>\n",
       "    <tr>\n",
       "      <th>create</th>\n",
       "      <td>0.461176</td>\n",
       "    </tr>\n",
       "    <tr>\n",
       "      <th>chatgpt</th>\n",
       "      <td>0.461176</td>\n",
       "    </tr>\n",
       "    <tr>\n",
       "      <th>work</th>\n",
       "      <td>0.446300</td>\n",
       "    </tr>\n",
       "  </tbody>\n",
       "</table>\n",
       "</div>"
      ],
      "text/plain": [
       "            closeness-Centrality_per_sentence\n",
       "ai                                   0.572495\n",
       "research                             0.528737\n",
       "university                           0.512418\n",
       "topic                                0.488304\n",
       "concept                              0.485449\n",
       "list                                 0.463753\n",
       "student                              0.461176\n",
       "create                               0.461176\n",
       "chatgpt                              0.461176\n",
       "work                                 0.446300"
      ]
     },
     "execution_count": 128,
     "metadata": {},
     "output_type": "execute_result"
    }
   ],
   "source": [
    "Centrality=pd.DataFrame(nx.closeness_centrality(G), index=[0]).T.sort_values(by=0,ascending=False)\n",
    "\n",
    "Centrality.columns=[\"closeness-Centrality_per_sentence\"]\n",
    "Centrality.head(10)"
   ]
  },
  {
   "cell_type": "code",
   "execution_count": 129,
   "id": "0a99c4b3",
   "metadata": {},
   "outputs": [],
   "source": [
    "import networkx as nx\n",
    "nx.write_gexf(G, \"NoStopwords.gexf\")"
   ]
  },
  {
   "cell_type": "markdown",
   "id": "b41aac37",
   "metadata": {},
   "source": [
    "# Link Analysis "
   ]
  },
  {
   "cell_type": "code",
   "execution_count": 39,
   "id": "87efb2bf",
   "metadata": {},
   "outputs": [],
   "source": [
    "import networkx as nx\n",
    "\n",
    "df=pd.read_json(\"2023-06-06_Zotero_AI_nlp_en2.json\")\n",
    "links=df[[\"url\",\"linkUrl\"]].drop_duplicates(subset=\"url\").explode(\"linkUrl\")"
   ]
  },
  {
   "cell_type": "code",
   "execution_count": 40,
   "id": "3b83add0",
   "metadata": {},
   "outputs": [],
   "source": [
    "def domain_From_url(url):\n",
    "    if isinstance(url,str):\n",
    "        domain=url.replace(\"https://\",\"\").replace(\"http://\",\"\").replace(\"www.\",\"\").split(\"/\")[0].lstrip(\".\")\n",
    "        domain=domain.rsplit(\"@\",1)[-1].rsplit(\"%20\",1)[-1]\n",
    "        if domain.count(\".\")>1:\n",
    "            domain=\".\".join(domain.rsplit(\".\",2)[-2:])\n",
    "\n",
    "        if \".\" in domain:\n",
    "            return domain\n",
    "    \n",
    "    \n",
    "\n",
    "\n",
    "links[\"source\"]=links.url.apply(domain_From_url)\n",
    "links[\"target\"]=links.linkUrl.apply(domain_From_url).reindex()"
   ]
  },
  {
   "cell_type": "code",
   "execution_count": 41,
   "id": "500a9667",
   "metadata": {},
   "outputs": [
    {
     "data": {
      "text/html": [
       "<div>\n",
       "<style scoped>\n",
       "    .dataframe tbody tr th:only-of-type {\n",
       "        vertical-align: middle;\n",
       "    }\n",
       "\n",
       "    .dataframe tbody tr th {\n",
       "        vertical-align: top;\n",
       "    }\n",
       "\n",
       "    .dataframe thead th {\n",
       "        text-align: right;\n",
       "    }\n",
       "</style>\n",
       "<table border=\"1\" class=\"dataframe\">\n",
       "  <thead>\n",
       "    <tr style=\"text-align: right;\">\n",
       "      <th></th>\n",
       "      <th>Centrality</th>\n",
       "    </tr>\n",
       "  </thead>\n",
       "  <tbody>\n",
       "    <tr>\n",
       "      <th>openai.com</th>\n",
       "      <td>0.436815</td>\n",
       "    </tr>\n",
       "    <tr>\n",
       "      <th>linkedin.com</th>\n",
       "      <td>0.418636</td>\n",
       "    </tr>\n",
       "    <tr>\n",
       "      <th>youtube.com</th>\n",
       "      <td>0.413075</td>\n",
       "    </tr>\n",
       "    <tr>\n",
       "      <th>facebook.com</th>\n",
       "      <td>0.410595</td>\n",
       "    </tr>\n",
       "    <tr>\n",
       "      <th>rug.nl</th>\n",
       "      <td>0.391782</td>\n",
       "    </tr>\n",
       "    <tr>\n",
       "      <th>twitter.com</th>\n",
       "      <td>0.388666</td>\n",
       "    </tr>\n",
       "    <tr>\n",
       "      <th>uu.nl</th>\n",
       "      <td>0.381300</td>\n",
       "    </tr>\n",
       "    <tr>\n",
       "      <th>uva.nl</th>\n",
       "      <td>0.375440</td>\n",
       "    </tr>\n",
       "    <tr>\n",
       "      <th>ru.nl</th>\n",
       "      <td>0.369358</td>\n",
       "    </tr>\n",
       "    <tr>\n",
       "      <th>tudelft.nl</th>\n",
       "      <td>0.368562</td>\n",
       "    </tr>\n",
       "  </tbody>\n",
       "</table>\n",
       "</div>"
      ],
      "text/plain": [
       "              Centrality\n",
       "openai.com      0.436815\n",
       "linkedin.com    0.418636\n",
       "youtube.com     0.413075\n",
       "facebook.com    0.410595\n",
       "rug.nl          0.391782\n",
       "twitter.com     0.388666\n",
       "uu.nl           0.381300\n",
       "uva.nl          0.375440\n",
       "ru.nl           0.369358\n",
       "tudelft.nl      0.368562"
      ]
     },
     "execution_count": 41,
     "metadata": {},
     "output_type": "execute_result"
    }
   ],
   "source": [
    "links=links.dropna(subset=\"target\").dropna(subset=\"source\")\n",
    "links=links[~links[\"url\"].apply(lambda x: \"linkedin.com\" in x)]\n",
    "edgelist=(zip(links[\"source\"], links[\"target\"]))\n",
    "\n",
    "links[links[\"source\"]==None]\n",
    "G = nx.from_edgelist(edgelist)\n",
    "nx.write_gexf(G,\"Links.gexf\")\n",
    "Link_Centrality=pd.DataFrame(nx.closeness_centrality(G),index=[0]).T.sort_values(ascending=False, by=0)\n",
    "Link_Centrality.columns=[\"Centrality\"]\n",
    "Link_Centrality.head(10)"
   ]
  },
  {
   "cell_type": "code",
   "execution_count": 42,
   "id": "c1ec546a",
   "metadata": {},
   "outputs": [],
   "source": [
    "edgelist=(zip(links[\"source\"], links[\"target\"]))\n",
    "edges=list(edgelist)"
   ]
  },
  {
   "cell_type": "code",
   "execution_count": 43,
   "id": "4b99e4e0",
   "metadata": {},
   "outputs": [
    {
     "data": {
      "text/html": [
       "<div>\n",
       "<style scoped>\n",
       "    .dataframe tbody tr th:only-of-type {\n",
       "        vertical-align: middle;\n",
       "    }\n",
       "\n",
       "    .dataframe tbody tr th {\n",
       "        vertical-align: top;\n",
       "    }\n",
       "\n",
       "    .dataframe thead th {\n",
       "        text-align: right;\n",
       "    }\n",
       "</style>\n",
       "<table border=\"1\" class=\"dataframe\">\n",
       "  <thead>\n",
       "    <tr style=\"text-align: right;\">\n",
       "      <th></th>\n",
       "      <th>0</th>\n",
       "      <th>1</th>\n",
       "    </tr>\n",
       "  </thead>\n",
       "  <tbody>\n",
       "    <tr>\n",
       "      <th>0</th>\n",
       "      <td>(vu.nl, vu.nl)</td>\n",
       "      <td>229</td>\n",
       "    </tr>\n",
       "    <tr>\n",
       "      <th>1</th>\n",
       "      <td>(tudelft.nl, tudelft.nl)</td>\n",
       "      <td>188</td>\n",
       "    </tr>\n",
       "    <tr>\n",
       "      <th>2</th>\n",
       "      <td>(uu.nl, uu.nl)</td>\n",
       "      <td>171</td>\n",
       "    </tr>\n",
       "    <tr>\n",
       "      <th>3</th>\n",
       "      <td>(utwente.nl, utwente.nl)</td>\n",
       "      <td>155</td>\n",
       "    </tr>\n",
       "    <tr>\n",
       "      <th>4</th>\n",
       "      <td>(ru.nl, ru.nl)</td>\n",
       "      <td>128</td>\n",
       "    </tr>\n",
       "    <tr>\n",
       "      <th>5</th>\n",
       "      <td>(tue.nl, tue.nl)</td>\n",
       "      <td>102</td>\n",
       "    </tr>\n",
       "    <tr>\n",
       "      <th>6</th>\n",
       "      <td>(universiteitleiden.nl, universiteitleiden.nl)</td>\n",
       "      <td>92</td>\n",
       "    </tr>\n",
       "    <tr>\n",
       "      <th>7</th>\n",
       "      <td>(wur.nl, wur.nl)</td>\n",
       "      <td>90</td>\n",
       "    </tr>\n",
       "    <tr>\n",
       "      <th>8</th>\n",
       "      <td>(maastrichtuniversity.nl, maastrichtuniversity.nl)</td>\n",
       "      <td>86</td>\n",
       "    </tr>\n",
       "    <tr>\n",
       "      <th>9</th>\n",
       "      <td>(eur.nl, eur.nl)</td>\n",
       "      <td>72</td>\n",
       "    </tr>\n",
       "    <tr>\n",
       "      <th>10</th>\n",
       "      <td>(uva.nl, uva.nl)</td>\n",
       "      <td>71</td>\n",
       "    </tr>\n",
       "    <tr>\n",
       "      <th>11</th>\n",
       "      <td>(tilburguniversity.edu, youtube.com)</td>\n",
       "      <td>44</td>\n",
       "    </tr>\n",
       "    <tr>\n",
       "      <th>12</th>\n",
       "      <td>(rug.nl, rug.nl)</td>\n",
       "      <td>42</td>\n",
       "    </tr>\n",
       "    <tr>\n",
       "      <th>13</th>\n",
       "      <td>(tilburguniversity.edu, tilburguniversity.edu)</td>\n",
       "      <td>41</td>\n",
       "    </tr>\n",
       "    <tr>\n",
       "      <th>14</th>\n",
       "      <td>(universiteitleiden.nl, facebook.com)</td>\n",
       "      <td>32</td>\n",
       "    </tr>\n",
       "  </tbody>\n",
       "</table>\n",
       "</div>"
      ],
      "text/plain": [
       "                                                     0    1\n",
       "0                                       (vu.nl, vu.nl)  229\n",
       "1                             (tudelft.nl, tudelft.nl)  188\n",
       "2                                       (uu.nl, uu.nl)  171\n",
       "3                             (utwente.nl, utwente.nl)  155\n",
       "4                                       (ru.nl, ru.nl)  128\n",
       "5                                     (tue.nl, tue.nl)  102\n",
       "6       (universiteitleiden.nl, universiteitleiden.nl)   92\n",
       "7                                     (wur.nl, wur.nl)   90\n",
       "8   (maastrichtuniversity.nl, maastrichtuniversity.nl)   86\n",
       "9                                     (eur.nl, eur.nl)   72\n",
       "10                                    (uva.nl, uva.nl)   71\n",
       "11                (tilburguniversity.edu, youtube.com)   44\n",
       "12                                    (rug.nl, rug.nl)   42\n",
       "13      (tilburguniversity.edu, tilburguniversity.edu)   41\n",
       "14               (universiteitleiden.nl, facebook.com)   32"
      ]
     },
     "execution_count": 43,
     "metadata": {},
     "output_type": "execute_result"
    }
   ],
   "source": [
    "from collections import Counter\n",
    "pd.DataFrame(Counter(edges).most_common(15))"
   ]
  },
  {
   "cell_type": "code",
   "execution_count": 44,
   "id": "90ce61c5",
   "metadata": {},
   "outputs": [],
   "source": [
    "links=df.linkUrl.to_list()\n",
    "links=[list(set(l))for l in links if type(l)==list]\n",
    "links=[i for s in links for i in s if i!=None]\n",
    "domains=[domain_From_url(i) for s in links for i in s if i!=None]"
   ]
  },
  {
   "cell_type": "code",
   "execution_count": 45,
   "id": "a0811a05",
   "metadata": {},
   "outputs": [
    {
     "data": {
      "text/plain": [
       "[('https://www.youtube.com/user/vrijeuniversiteit', 128),\n",
       " ('https://www.linkedin.com/school/vrije-universiteit-amsterdam/', 128),\n",
       " ('https://www.instagram.com/vuamsterdam/', 128),\n",
       " ('https://www.facebook.com/vuamsterdam', 128),\n",
       " ('https://twitter.com/VUamsterdam', 128),\n",
       " ('https://www.youvisit.com/tour/vuamsterdam', 128),\n",
       " ('https://vu.nl/en/education/professionals', 119),\n",
       " ('https://vu.nl/en/education/master', 119),\n",
       " ('https://www.vu.nl/en', 119),\n",
       " ('https://vu.nl/en/about-vu', 119),\n",
       " ('https://vu.nl/en/about-vu/divisions/university-library', 119),\n",
       " ('https://studiegids.vu.nl/en', 119),\n",
       " ('https://vu.nl/en/dashboard/people', 119),\n",
       " ('https://vu.nl/en/education/bachelor', 119),\n",
       " ('https://vu.nl/en/about-vu/more-about/contact', 119)]"
      ]
     },
     "execution_count": 45,
     "metadata": {},
     "output_type": "execute_result"
    }
   ],
   "source": [
    "\n",
    "from collections import Counter\n",
    "a_counter = Counter(links)\n",
    "most_common = a_counter.most_common(15)\n",
    "most_common"
   ]
  },
  {
   "cell_type": "code",
   "execution_count": 655,
   "id": "724e2dba",
   "metadata": {},
   "outputs": [],
   "source": [
    "links=df.linkUrl.to_list()"
   ]
  }
 ],
 "metadata": {
  "kernelspec": {
   "display_name": "Python 3 (ipykernel)",
   "language": "python",
   "name": "python3"
  },
  "language_info": {
   "codemirror_mode": {
    "name": "ipython",
    "version": 3
   },
   "file_extension": ".py",
   "mimetype": "text/x-python",
   "name": "python",
   "nbconvert_exporter": "python",
   "pygments_lexer": "ipython3",
   "version": "3.9.7"
  }
 },
 "nbformat": 4,
 "nbformat_minor": 5
}
