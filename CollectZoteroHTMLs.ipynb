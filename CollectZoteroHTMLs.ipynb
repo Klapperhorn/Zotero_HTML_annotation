{
 "cells": [
  {
   "cell_type": "code",
   "execution_count": 2,
   "id": "1c80aeb7",
   "metadata": {},
   "outputs": [],
   "source": [
    "import pandas as pd\n",
    "\n",
    "import MyLib.nlp as nlp\n",
    "import MyLib.HTML_prep as HTML_prep\n",
    "import MyLib.analysis as analysis \n",
    "%load_ext autoreload\n",
    "%autoreload 2\n",
    "\n",
    "## My API key  & library_Id are stored in another file\n",
    "api_key,library_id = pd.read_json(\"Zotero_API_key.json\", typ='series')\n",
    "\n",
    "library_type=\"group\"\n",
    "\n",
    "def print_time():\n",
    "    from datetime import datetime\n",
    "    now = datetime.now()\n",
    "    current_time = now.strftime(\"%H:%M:%S\")\n",
    "    print(\"Current Time =\", current_time)\n",
    "\n",
    "\n",
    "from pyzotero import zotero\n",
    "zot = zotero.Zotero(library_id, library_type, api_key)\n",
    "\n",
    "ID_Universities='EWSYI3RS' # to access the files in the university subfolder.\n",
    "ID_SURF='WPXRQVIU'"
   ]
  },
  {
   "cell_type": "code",
   "execution_count": null,
   "id": "7c774117",
   "metadata": {},
   "outputs": [],
   "source": [
    "helpDict={}\n",
    "\n",
    "for i in zot.collections_sub(ID_Universities):\n",
    "    name,key=i[\"data\"][\"name\"],i[\"data\"][\"key\"]\n",
    "    print(f\"name: {name} --> key: {key}\")\n",
    "    collection_items=zot.collection_items(key)\n",
    "    helpDict.update({k[\"key\"]:k[\"data\"]|{\"Uni\":name} for k in collection_items})\n",
    "    \n",
    "#Add Surf\n",
    "name=\"surf\"\n",
    "key=ID_SURF\n",
    "print(f\"name: {name} --> key: {key}\")\n",
    "collection_items=zot.collection_items(key)\n",
    "helpDict.update({k[\"key\"]:k[\"data\"]|{\"Uni\":name} for k in collection_items})"
   ]
  },
  {
   "cell_type": "code",
   "execution_count": null,
   "id": "480d364b",
   "metadata": {},
   "outputs": [],
   "source": [
    "df=pd.DataFrame(helpDict).T"
   ]
  },
  {
   "cell_type": "code",
   "execution_count": null,
   "id": "34b7f72e",
   "metadata": {},
   "outputs": [],
   "source": [
    "Claimed_Parents=df[\"parentItem\"].dropna().to_list()\n",
    "Real_Parents=df.index.to_list()\n",
    "WithoutParents=list(set(Claimed_Parents)-set(Real_Parents))\n",
    "WithoutParents"
   ]
  },
  {
   "cell_type": "code",
   "execution_count": null,
   "id": "c2855183",
   "metadata": {},
   "outputs": [],
   "source": [
    "Parents_columns=['title', 'date','itemType','language']\n",
    "WithParents_columns=[\"key\",'parentItem','url','filename',\"Uni\"]\n",
    "\n",
    "WithParents=df.dropna(subset=\"parentItem\")[WithParents_columns]\n",
    "Parents=df[df.itemType.apply(lambda x: x!=\"attachment\")][Parents_columns]\n",
    "\n",
    "df=WithParents.merge(Parents, left_on=\"parentItem\",right_index=True, how=\"right\")\n",
    "df.head(5)\n",
    "\n",
    "#df2[df2.filename.isna()].itemType"
   ]
  },
  {
   "cell_type": "code",
   "execution_count": null,
   "id": "ec46b0c3",
   "metadata": {},
   "outputs": [],
   "source": [
    "df.Uni.value_counts()"
   ]
  },
  {
   "cell_type": "code",
   "execution_count": null,
   "id": "7df35375",
   "metadata": {},
   "outputs": [],
   "source": [
    "# Correct item type of uTwente Thesies\n",
    "df.loc[df.url.apply(lambda x: \"essay.utwente.nl\" in str(x)),\"itemType\"]=\"thesis\"\n",
    "print(df.itemType.value_counts())"
   ]
  },
  {
   "cell_type": "code",
   "execution_count": null,
   "id": "32d0d3f7",
   "metadata": {},
   "outputs": [],
   "source": [
    "# remove not useful items\n",
    "DropTypeList=[\"journalArticle\",\"conferencePaper\",\"thesis\",\"book\",\"bookSection\",\"note\",\"film\",\"dataset\"]\n",
    "\n",
    "df=df[~df[\"itemType\"].isin(DropTypeList)]\n",
    "\n",
    "print(df.itemType.value_counts())"
   ]
  },
  {
   "cell_type": "code",
   "execution_count": null,
   "id": "012ea62c",
   "metadata": {},
   "outputs": [],
   "source": [
    "def fileName(key,filename):\n",
    "    DIR=f\"C:\\\\Users\\\\mr\\\\Zotero\\\\storage\\\\{key}\\\\\"\n",
    "    filename=DIR+str(filename)\n",
    "    return filename\n",
    "\n",
    "df[\"filepath\"]=df.apply(lambda x: fileName(x.key, x.filename), axis=1).drop_duplicates()\n",
    "\n",
    "print(df.filepath[0],print(len(df)))"
   ]
  },
  {
   "cell_type": "code",
   "execution_count": null,
   "id": "58ae84f7",
   "metadata": {},
   "outputs": [],
   "source": [
    "df.to_json(\"2023-07-30_Uni_Files_raw.json\")\n",
    "# CHeck for duplicates / errors in Zotero: \n",
    "df[df.index.duplicated()]"
   ]
  },
  {
   "cell_type": "code",
   "execution_count": null,
   "id": "d99b692d",
   "metadata": {},
   "outputs": [],
   "source": [
    "df=pd.read_json(\"2023-07-27_Uni_Files_raw.json\")"
   ]
  },
  {
   "cell_type": "markdown",
   "id": "14cb7a3f",
   "metadata": {},
   "source": [
    "# Add Content from PDFs"
   ]
  },
  {
   "cell_type": "code",
   "execution_count": null,
   "id": "b3f8a5e6",
   "metadata": {
    "scrolled": true
   },
   "outputs": [],
   "source": [
    "def getLinksfromPDF(page):\n",
    "    links=[]\n",
    "\n",
    "    if '/Annots' in page.keys():\n",
    "        annotations=page['/Annots']\n",
    "        for a in annotations:\n",
    "            a=a.get_object()\n",
    "            if '/A' in a:\n",
    "                A=a['/A']\n",
    "                if '/URI' in A.keys():\n",
    "                    link=(A['/URI'])\n",
    "                    links.append(link)\n",
    "    return links\n",
    "\n",
    "def getDate(pdf_reader):\n",
    "    mod_date=None\n",
    "    metaData=pdf_reader.metadata\n",
    "    if '/ModDate' in metaData.keys():\n",
    "        #print(metaData.keys())\n",
    "        mod_date=metaData['/ModDate'][2:10]\n",
    "        dtformat = \"%Y%m%d\"\n",
    "        mod_date=pd.to_datetime(mod_date,format=dtformat)\n",
    "        #print(creation_date)\n",
    "    return mod_date\n",
    "    \n",
    "def extract_text_with_pyPDF(filepath,MaxPages=20):\n",
    "    \n",
    "    pages,links,mod_date=[],[],None\n",
    "    from pypdf import PdfReader\n",
    "    \n",
    "    pdf_reader = PdfReader(filepath)\n",
    "    mod_date=getDate(pdf_reader)\n",
    "    \n",
    "    S_pages=pdf_reader.pages\n",
    "    if len(S_pages)>MaxPages:\n",
    "        f=filepath.split(\"\\\\\")[-1]\n",
    "        #print(f\"{f} has more than {MaxPages} pages: {len(S_pages)}. Only processing {MaxPages} pages.\")\n",
    "        S_pages=S_pages[:MaxPages]\n",
    "\n",
    "    for i, page in enumerate(S_pages):\n",
    "        raw_text = \"\"\n",
    "        try:\n",
    "            text = page.extract_text()\n",
    "            if text:\n",
    "                raw_text += text\n",
    "                pages.append(raw_text)\n",
    "        except Exception as error:\n",
    "            print(\"text-problems with: \", filepath)\n",
    "            print(\"\\n\", error)\n",
    "            \n",
    "    for i, page in enumerate(S_pages):\n",
    "        links=getLinksfromPDF(page)\n",
    "\n",
    "    return pd.Series([pages,links,mod_date])\n",
    "\n",
    "    \n",
    "PDFs=df.loc[df.filepath.apply(lambda x: x.split(\".\")[-1]==\"pdf\"),[\"filepath\",\"date\"]]    \n",
    "NumberOfPDFs=len(PDFs)    \n",
    "\n",
    "print(f\"the dataset containts {NumberOfPDFs} PDF-files.\")\n",
    "\n",
    "df[[\"text\",\"links\",\"mod_date\"]]=PDFs.filepath.apply(extract_text_with_pyPDF,MaxPages=150)\n",
    "\n",
    "# Use filemod as date.\n",
    "df.loc[~df.mod_date.isna(),[\"date\"]]=df.mod_date\n",
    "df.drop(columns='mod_date',inplace=True)\n",
    "\n",
    "#problemfile.filepath.apply(extract_text_with_pyPDF,MaxPages=10)"
   ]
  },
  {
   "cell_type": "markdown",
   "id": "20f98c63",
   "metadata": {},
   "source": [
    "# Add Content from HTMLs"
   ]
  },
  {
   "cell_type": "code",
   "execution_count": null,
   "id": "ef8dee9f",
   "metadata": {},
   "outputs": [],
   "source": [
    "def find_date(url, date):\n",
    "    from htmldate import find_date\n",
    "    from numpy import nan\n",
    "    if type(date)!=pd.Timestamp:\n",
    "        try:\n",
    "            date=pd.to_datetime(find_date(url))\n",
    "        except:\n",
    "            date=nan\n",
    "    return date\n",
    "\n",
    "\n",
    "print(\"This takes about: 3 minutes.\")\n",
    "\n",
    "df[\"date\"]=df.date.apply(pd.to_datetime,errors='coerce')\n",
    "print_time()     \n",
    "\n",
    "df[\"date\"]=df.apply(lambda x: find_date(x.url, x.date), axis=1)\n",
    "print_time()\n",
    "\n",
    "df.date.apply(lambda x: type(x)==pd.Timestamp).value_counts()"
   ]
  },
  {
   "cell_type": "code",
   "execution_count": null,
   "id": "7a4f2046",
   "metadata": {},
   "outputs": [],
   "source": [
    "df.to_json(\"2023-07-30_Uni_Files_raw_date.json\")"
   ]
  },
  {
   "cell_type": "code",
   "execution_count": 3,
   "id": "62d44a6a",
   "metadata": {},
   "outputs": [],
   "source": [
    "df=pd.read_json(\"2023-07-30_Uni_Files_raw_date.json\")"
   ]
  },
  {
   "cell_type": "code",
   "execution_count": null,
   "id": "1e5ddb8d",
   "metadata": {},
   "outputs": [],
   "source": [
    "df.head(3)"
   ]
  },
  {
   "cell_type": "code",
   "execution_count": null,
   "id": "949a4b81",
   "metadata": {
    "scrolled": true
   },
   "outputs": [],
   "source": [
    "def FileInfo(FilePath):\n",
    "    Title,h1,h2,h3,text,linkName,linkUrl=None,None,None,None,None,None,None\n",
    "\n",
    "    if FilePath.endswith(\".html\"):\n",
    "           \n",
    "        try:\n",
    "            #print(FilePath)\n",
    "\n",
    "            with open(FilePath,\"r\", encoding='utf-8') as f:\n",
    "                text= f.read()\n",
    "            \n",
    "        except:\n",
    "            print(\"error opening the html file. File does not exist?\")\n",
    "            return\n",
    "        \n",
    "        \n",
    "        try:\n",
    "            from bs4 import BeautifulSoup\n",
    "\n",
    "            soup = BeautifulSoup(text, \"html5lib\") #'html.parser')       \n",
    "            Title=soup.title.text\n",
    "            #soup=HTML_prep.removeIMGs(soup,IMG_filename=Title.replace(\" \",\"_\"))\n",
    "            \n",
    "            TextIndicators=soup(\"p\")+soup(\"h5\")+soup(\"h4\")+soup(\"h3\")+soup(\"h2\")+soup(\"h1\")\n",
    "\n",
    "            All_divs=[p.parent for p in TextIndicators if p.parent.name in [\"div\",\"main\",\"section\",\"article\",\"center\",\"td\"]]\n",
    "     \n",
    "            All_divs=list(dict.fromkeys(All_divs))\n",
    "            \n",
    "            \n",
    "            # Remove images\n",
    "            try:\n",
    "                IMG_filename=\"\".join(x for x in Title.strip().replace(\" \",\"_\") if x.isalnum() or x==\"_\")[:100]\n",
    "                All_divs=[HTML_prep.removeIMGs(div,write_img=False,IMG_filename=IMG_filename) for div in All_divs]        \n",
    "            except:\n",
    "                print(f\"error removing images: {FilePath}\")\n",
    "                \n",
    "            h1=[item for sublist in [[i.text for i in div(\"h1\")] for div in All_divs if div(\"h1\")!=None] for item in sublist]\n",
    "            h2=[item for sublist in [[i.text for i in div(\"h2\")] for div in All_divs if div(\"h2\")!=None] for item in sublist]\n",
    "            h3=[item for sublist in [[i.text for i in div(\"h3\")] for div in All_divs if div(\"h3\")!=None] for item in sublist]\n",
    "        \n",
    "\n",
    "            # here only get all divs\n",
    "            #text=[item for sublist in [[i.text for i in div(\"p\")] for div in All_divs if div(\"p\")!=None] for item in sublist]\n",
    "            \n",
    "            # here gets all human readable text parts --> includes headlines. the \\n \\n keeps distance to headlines\n",
    "           \n",
    "            linkName=[item for sublist in [[i.text for i in div(\"a\")] for div in All_divs if div(\"a\")!=None] for item in sublist]\n",
    "            linkUrl=[item for sublist in [[i.get('href') for i in div(\"a\")] for div in All_divs if div(\"a\")!=None] for item in sublist]\n",
    "            #i=i(\"p\")+i(\"h5\")+i(\"h4\")+i(\"h3\")+i(\"h2\")+i(\"h1\")\n",
    "            text=[i.get_text(separator=u' ').replace(\".\",\". \").replace(\"\\n \",\". \") for i in All_divs if i.get_text()!=None]\n",
    "\n",
    "        except:\n",
    "            print(f\"error with: {FilePath}\", end=\". \")\n",
    "            \n",
    "            try:\n",
    "                text=text.split(\"\\n\\n\")\n",
    " \n",
    "                print(\"--> text from reading as a text file.\")\n",
    "            except:\n",
    "                print(\"also no text file\")\n",
    "                \n",
    "        #leave out words longer than 100 characters to avoid undetected embedded images and other shit.\n",
    "        text=[\" \".join([y.replace(\"\\n\",\" \").strip() for y in i.split(\" \") if len(y)<100]) for i in text] \n",
    "       # text=[\"\".join([y for y in i if len(y)<100]) for i in text]\n",
    "    \n",
    "    return pd.Series([Title,h1,h2,h3,text,linkName,linkUrl])\n",
    "        \n",
    "#df.file[2:6].apply(FileInfo)\n",
    "print(\"This takes about 4 minutes\")\n",
    "print_time()        \n",
    "df[[\"HTML_Title\",\"h1\",\"h2\",\"h3\",\"HTML_text\",\"linkName\",\"linkUrl\"]]=df.filepath.apply(FileInfo)\n",
    "print_time()"
   ]
  },
  {
   "cell_type": "code",
   "execution_count": null,
   "id": "f2f31cb6",
   "metadata": {},
   "outputs": [],
   "source": [
    "df[\"filepath\"][DoubleIndex]#.apply(FileInfo)"
   ]
  },
  {
   "cell_type": "code",
   "execution_count": null,
   "id": "515fd2dc",
   "metadata": {},
   "outputs": [],
   "source": [
    "# Unify & drop columns.\n",
    "\n",
    "df.loc[df[\"HTML_text\"].apply(lambda x: x is not None), \"HTML\"]=True\n",
    "df[\"HTML\"]=df[\"HTML\"].fillna(False)\n",
    "\n",
    "df.loc[df[\"HTML\"], \"text\"]=df.HTML_text\n",
    "df.loc[df[\"HTML\"], \"title\"]=df.HTML_Title\n",
    "df.loc[df[\"HTML\"], \"links\"]=df.linkUrl\n",
    "\n",
    "df.language=df.language.replace([\"en-US\",\"en-GB\",\"en-us\",\"en_US\",\"en_US\",\"English\"],\"en\")\n",
    "df.language=df.language.replace([\"nl\",\"nl-NL\",\"nederlands\",\"nl-nl\"],\"nl\")\n",
    "df.language=df.language.replace(\"\",None)\n",
    "\n",
    "#improve text...\n",
    "df.text=df.text.fillna(\"\").apply(lambda l: [s.replace(\"..\",\". \").replace(\". . \",\"\").lstrip(\". \") for s in l if isinstance(s,str)])\n",
    "\n",
    "df.drop(columns=[\"HTML_text\",\"HTML_Title\",\"linkUrl\",\"key\",\"parentItem\",\"h1\",\"h2\",\"h3\"],inplace=True)\n"
   ]
  },
  {
   "cell_type": "code",
   "execution_count": null,
   "id": "cf95e13a",
   "metadata": {},
   "outputs": [],
   "source": []
  },
  {
   "cell_type": "code",
   "execution_count": null,
   "id": "33442ea6",
   "metadata": {},
   "outputs": [],
   "source": [
    "pd.set_option('display.max_colwidth', None)\n",
    "\n",
    "DoubleIndex=df[df.text.duplicated()].index\n",
    "#df=df.drop_duplicates(subset=\"text\")\n",
    "df.filepath[DoubleIndex]"
   ]
  },
  {
   "cell_type": "code",
   "execution_count": null,
   "id": "7c99ac85",
   "metadata": {},
   "outputs": [],
   "source": [
    "df.to_json(\"2023-07-30_Uni_Files_NLP.json\")"
   ]
  },
  {
   "cell_type": "code",
   "execution_count": 4,
   "id": "586e1b28",
   "metadata": {},
   "outputs": [],
   "source": [
    "df=pd.read_json(\"2023-07-30_Uni_Files_NLP.json\")\n",
    "\n"
   ]
  },
  {
   "cell_type": "code",
   "execution_count": 5,
   "id": "9b75fb11",
   "metadata": {},
   "outputs": [],
   "source": [
    "def Insert_title(text,Title):\n",
    "    if Title!=None and type(text)==list:\n",
    "        text=[Title.strip()]+text\n",
    "        return text\n",
    "    else:\n",
    "        return text\n",
    "\n",
    "\n",
    "df[\"text\"]=df[[\"text\",\"title\"]].apply(lambda x: Insert_title(*x),axis=1)"
   ]
  },
  {
   "cell_type": "code",
   "execution_count": null,
   "id": "e5880ece",
   "metadata": {},
   "outputs": [],
   "source": []
  },
  {
   "cell_type": "code",
   "execution_count": 6,
   "id": "50b043d9",
   "metadata": {},
   "outputs": [
    {
     "name": "stdout",
     "output_type": "stream",
     "text": [
      "4037 + 580 = 4598 --> split 1 times.\n",
      "5013 + 321 = 4725 --> split 2 times.\n",
      "4521 + 49 = 4533 --> split 1 times.\n",
      "4125 + 580 = 4684 --> split 1 times.\n",
      "5013 + 321 = 4725 --> split 2 times.\n",
      "4823 + 38 = 4509 --> split 3 times.\n",
      "4554 + 125 = 4602 --> split 4 times.\n",
      "4478 + 115 = 4553 --> split 1 times.\n",
      "4456 + 111 = 4526 --> split 1 times.\n",
      "4537 + 46 = 4539 --> split 1 times.\n",
      "4519 + 140 = 4632 --> split 1 times.\n",
      "4442 + 102 = 4506 --> split 1 times.\n",
      "4539 + 47 = 4546 --> split 1 times.\n",
      "4478 + 244 = 4684 --> split 1 times.\n",
      "4407 + 250 = 4626 --> split 1 times.\n",
      "4387 + 189 = 4552 --> split 1 times.\n",
      "4511 + 41 = 4502 --> split 1 times.\n",
      "4363 + 258 = 4600 --> split 1 times.\n",
      "4522 + 39 = 4515 --> split 1 times.\n",
      "4536 + 55 = 4542 --> split 1 times.\n",
      "4467 + 100 = 4527 --> split 1 times.\n",
      "4403 + 339 = 4711 --> split 1 times.\n",
      "4539 + 455 = 4611 --> split 2 times.\n",
      "4505 + 142 = 4610 --> split 1 times.\n",
      "4423 + 189 = 4576 --> split 1 times.\n",
      "4491 + 125 = 4570 --> split 1 times.\n",
      "4511 + 121 = 4586 --> split 1 times.\n",
      "4512 + 89 = 4574 --> split 1 times.\n",
      "4513 + 33 = 4505 --> split 1 times.\n",
      "4490 + 76 = 4517 --> split 1 times.\n",
      "4366 + 170 = 4512 --> split 1 times.\n",
      "4442 + 264 = 4509 --> split 2 times.\n",
      "4356 + 613 = 4678 --> split 3 times.\n",
      "5117 + 28 = 4505 --> split 4 times.\n",
      "2762 + 2089 = 4807 --> split 5 times.\n",
      "4458 + 648 = 5086 --> split 1 times.\n",
      "4529 + 251 = 4744 --> split 1 times.\n",
      "4499 + 58 = 4508 --> split 1 times.\n",
      "4447 + 106 = 4514 --> split 1 times.\n",
      "4499 + 60 = 4516 --> split 1 times.\n",
      "4431 + 276 = 4691 --> split 1 times.\n",
      "4762 + 245 = 4713 --> split 2 times.\n",
      "4585 + 469 = 4792 --> split 3 times.\n",
      "4942 + 165 = 4617 --> split 4 times.\n",
      "4592 + 177 = 4587 --> split 5 times.\n",
      "4659 + 452 = 4917 --> split 6 times.\n",
      "4798 + 576 = 4900 --> split 7 times.\n",
      "5012 + 154 = 4570 --> split 8 times.\n",
      "4632 + 150 = 4607 --> split 9 times.\n",
      "4601 + 192 = 4627 --> split 10 times.\n",
      "4525 + 212 = 4529 --> split 11 times.\n",
      "4337 + 514 = 4617 --> split 12 times.\n",
      "4929 + 252 = 4647 --> split 13 times.\n",
      "4590 + 193 = 4510 --> split 14 times.\n",
      "4703 + 435 = 4928 --> split 15 times.\n",
      "4904 + 177 = 4625 --> split 16 times.\n",
      "4627 + 304 = 4730 --> split 17 times.\n",
      "4787 + 178 = 4646 --> split 18 times.\n",
      "4405 + 354 = 4563 --> split 19 times.\n",
      "4826 + 196 = 4648 --> split 20 times.\n",
      "4555 + 211 = 4551 --> split 21 times.\n",
      "4717 + 183 = 4671 --> split 22 times.\n",
      "4680 + 205 = 4682 --> split 23 times.\n",
      "4717 + 74 = 4564 --> split 24 times.\n",
      "4316 + 280 = 4502 --> split 25 times.\n",
      "4684 + 247 = 4632 --> split 26 times.\n",
      "4685 + 276 = 4700 --> split 27 times.\n",
      "4645 + 171 = 4519 --> split 28 times.\n",
      "4659 + 177 = 4644 --> split 29 times.\n",
      "4549 + 191 = 4549 --> split 30 times.\n",
      "4562 + 223 = 4575 --> split 31 times.\n",
      "4664 + 134 = 4554 --> split 32 times.\n",
      "4486 + 368 = 4698 --> split 33 times.\n",
      "4771 + 749 = 5131 --> split 34 times.\n",
      "5042 + 356 = 4630 --> split 35 times.\n",
      "4691 + 228 = 4549 --> split 36 times.\n",
      "4622 + 171 = 4550 --> split 37 times.\n",
      "3975 + 803 = 4598 --> split 38 times.\n",
      "5021 + 463 = 4662 --> split 39 times.\n",
      "4727 + 257 = 4506 --> split 40 times.\n",
      "4709 + 209 = 4640 --> split 41 times.\n",
      "4424 + 352 = 4545 --> split 42 times.\n",
      "4761 + 175 = 4557 --> split 43 times.\n",
      "4348 + 423 = 4566 --> split 44 times.\n",
      "4192 + 747 = 4501 --> split 45 times.\n",
      "5080 + 389 = 4709 --> split 46 times.\n",
      "4672 + 847 = 5112 --> split 47 times.\n",
      "5164 + 487 = 4789 --> split 48 times.\n",
      "4863 + 304 = 4665 --> split 49 times.\n",
      "4790 + 263 = 4730 --> split 50 times.\n",
      "4659 + 142 = 4519 --> split 51 times.\n",
      "4302 + 386 = 4534 --> split 52 times.\n",
      "4871 + 133 = 4605 --> split 53 times.\n",
      "4563 + 287 = 4700 --> split 54 times.\n",
      "4230 + 589 = 4510 --> split 55 times.\n",
      "4448 + 276 = 4708 --> split 1 times.\n",
      "4762 + 245 = 4713 --> split 2 times.\n",
      "4585 + 469 = 4792 --> split 3 times.\n",
      "4942 + 165 = 4617 --> split 4 times.\n",
      "4592 + 177 = 4587 --> split 5 times.\n",
      "4659 + 452 = 4917 --> split 6 times.\n",
      "4798 + 576 = 4900 --> split 7 times.\n",
      "5012 + 154 = 4570 --> split 8 times.\n",
      "4632 + 150 = 4607 --> split 9 times.\n",
      "4601 + 192 = 4627 --> split 10 times.\n",
      "4525 + 212 = 4529 --> split 11 times.\n",
      "4337 + 514 = 4617 --> split 12 times.\n",
      "4929 + 252 = 4647 --> split 13 times.\n",
      "4590 + 193 = 4510 --> split 14 times.\n",
      "4703 + 435 = 4928 --> split 15 times.\n",
      "4904 + 177 = 4625 --> split 16 times.\n",
      "4627 + 304 = 4730 --> split 17 times.\n",
      "4787 + 178 = 4646 --> split 18 times.\n",
      "4405 + 354 = 4563 --> split 19 times.\n",
      "4826 + 196 = 4648 --> split 20 times.\n",
      "4555 + 211 = 4551 --> split 21 times.\n",
      "4717 + 183 = 4671 --> split 22 times.\n",
      "4680 + 205 = 4682 --> split 23 times.\n",
      "4717 + 74 = 4564 --> split 24 times.\n",
      "4316 + 280 = 4502 --> split 25 times.\n",
      "4684 + 247 = 4632 --> split 26 times.\n",
      "4685 + 276 = 4700 --> split 27 times.\n",
      "4645 + 171 = 4519 --> split 28 times.\n",
      "4659 + 177 = 4644 --> split 29 times.\n",
      "4549 + 191 = 4549 --> split 30 times.\n",
      "4562 + 223 = 4575 --> split 31 times.\n",
      "4664 + 134 = 4554 --> split 32 times.\n",
      "4486 + 368 = 4698 --> split 33 times.\n",
      "4771 + 749 = 5131 --> split 34 times.\n",
      "5042 + 356 = 4630 --> split 35 times.\n",
      "4691 + 228 = 4549 --> split 36 times.\n",
      "4622 + 171 = 4550 --> split 37 times.\n",
      "3975 + 803 = 4598 --> split 38 times.\n",
      "5021 + 463 = 4662 --> split 39 times.\n",
      "4727 + 257 = 4506 --> split 40 times.\n",
      "4709 + 209 = 4640 --> split 41 times.\n",
      "4424 + 352 = 4545 --> split 42 times.\n",
      "4761 + 175 = 4557 --> split 43 times.\n",
      "4348 + 423 = 4566 --> split 44 times.\n",
      "4192 + 747 = 4501 --> split 45 times.\n",
      "5080 + 389 = 4709 --> split 46 times.\n",
      "4672 + 847 = 5112 --> split 47 times.\n",
      "5164 + 487 = 4789 --> split 48 times.\n",
      "4863 + 304 = 4665 --> split 49 times.\n",
      "4790 + 263 = 4730 --> split 50 times.\n",
      "4659 + 142 = 4519 --> split 51 times.\n",
      "4302 + 386 = 4534 --> split 52 times.\n",
      "4871 + 133 = 4605 --> split 53 times.\n",
      "4563 + 287 = 4700 --> split 54 times.\n",
      "4230 + 589 = 4510 --> split 55 times.\n",
      "4426 + 316 = 4706 --> split 1 times.\n",
      "4437 + 129 = 4525 --> split 1 times.\n",
      "4662 + 56 = 4552 --> split 2 times.\n",
      "4494 + 62 = 4514 --> split 1 times.\n",
      "4470 + 107 = 4536 --> split 1 times.\n",
      "4438 + 298 = 4712 --> split 1 times.\n",
      "4789 + 125 = 4589 --> split 2 times.\n",
      "4479 + 91 = 4527 --> split 1 times.\n",
      "4334 + 275 = 4586 --> split 1 times.\n",
      "4486 + 94 = 4547 --> split 1 times.\n",
      "4491 + 121 = 4574 --> split 1 times.\n",
      "4354 + 235 = 4568 --> split 1 times.\n",
      "4433 + 234 = 4644 --> split 1 times.\n",
      "3936 + 974 = 4893 --> split 1 times.\n",
      "4363 + 195 = 4519 --> split 1 times.\n",
      "4653 + 271 = 4688 --> split 2 times.\n",
      "4479 + 68 = 4507 --> split 1 times.\n",
      "4540 + 109 = 4539 --> split 2 times.\n",
      "4329 + 421 = 4720 --> split 1 times.\n",
      "4454 + 421 = 4841 --> split 1 times.\n",
      "4349 + 323 = 4643 --> split 1 times.\n",
      "4507 + 323 = 4796 --> split 1 times.\n",
      "4810 + 112 = 4558 --> split 2 times.\n",
      "4419 + 206 = 4588 --> split 1 times.\n",
      "4727 + 121 = 4600 --> split 2 times.\n",
      "4526 + 23 = 4509 --> split 1 times.\n",
      "4476 + 151 = 4563 --> split 2 times.\n",
      "4517 + 39 = 4523 --> split 1 times.\n",
      "4545 + 113 = 4589 --> split 2 times.\n",
      "4398 + 225 = 4590 --> split 1 times.\n",
      "4602 + 168 = 4515 --> split 2 times.\n",
      "4315 + 225 = 4508 --> split 1 times.\n",
      "4602 + 168 = 4515 --> split 2 times.\n",
      "4516 + 139 = 4613 --> split 1 times.\n",
      "4611 + 130 = 4572 --> split 2 times.\n",
      "4415 + 141 = 4514 --> split 1 times.\n",
      "4472 + 170 = 4599 --> split 1 times.\n",
      "4405 + 226 = 4595 --> split 1 times.\n",
      "4725 + 107 = 4576 --> split 2 times.\n",
      "4580 + 224 = 4665 --> split 3 times.\n",
      "4769 + 13 = 4508 --> split 4 times.\n",
      "4364 + 15 = 4515 --> split 5 times.\n",
      "4426 + 104 = 4501 --> split 1 times.\n",
      "4501 + 172 = 4634 --> split 1 times.\n",
      "4471 + 285 = 4709 --> split 1 times.\n",
      "4623 + 306 = 4597 --> split 2 times.\n",
      "4467 + 265 = 4698 --> split 1 times.\n",
      "4459 + 112 = 4533 --> split 1 times.\n",
      "4544 + 108 = 4501 --> split 2 times.\n",
      "4358 + 181 = 4503 --> split 1 times.\n",
      "4601 + 155 = 4539 --> split 2 times.\n",
      "4321 + 252 = 4542 --> split 1 times.\n",
      "4444 + 252 = 4662 --> split 1 times.\n",
      "4449 + 131 = 4536 --> split 1 times.\n",
      "4295 + 374 = 4632 --> split 1 times.\n",
      "4442 + 374 = 4777 --> split 1 times.\n",
      "4508 + 296 = 4776 --> split 1 times.\n",
      "4755 + 148 = 4570 --> split 2 times.\n",
      "4605 + 97 = 4510 --> split 3 times.\n",
      "4626 + 109 = 4601 --> split 4 times.\n",
      "4620 + 152 = 4628 --> split 5 times.\n",
      "4446 + 378 = 4784 --> split 1 times.\n",
      "4900 + 55 = 4528 --> split 2 times.\n",
      "4517 + 69 = 4545 --> split 1 times.\n",
      "4598 + 170 = 4653 --> split 2 times.\n",
      "4479 + 137 = 4557 --> split 1 times.\n",
      "4546 + 69 = 4553 --> split 1 times.\n",
      "4280 + 300 = 4546 --> split 1 times.\n",
      "4449 + 111 = 4521 --> split 1 times.\n",
      "4444 + 38 = 4538 --> split 1 times.\n",
      "4487 + 121 = 4571 --> split 1 times.\n",
      "4502 + 36 = 4505 --> split 1 times.\n"
     ]
    },
    {
     "name": "stdout",
     "output_type": "stream",
     "text": [
      "4479 + 94 = 4537 --> split 1 times.\n",
      "4582 + 29 = 4524 --> split 1 times.\n",
      "4373 + 179 = 4512 --> split 1 times.\n",
      "4674 + 189 = 4643 --> split 2 times.\n",
      "4482 + 138 = 4580 --> split 1 times.\n",
      "4514 + 97 = 4570 --> split 1 times.\n",
      "4424 + 167 = 4559 --> split 1 times.\n",
      "4551 + 149 = 4510 --> split 2 times.\n",
      "4454 + 149 = 4582 --> split 1 times.\n",
      "4533 + 75 = 4560 --> split 1 times.\n",
      "4450 + 110 = 4514 --> split 1 times.\n",
      "4542 + 196 = 4692 --> split 1 times.\n",
      "4709 + 50 = 4515 --> split 2 times.\n",
      "4443 + 144 = 4554 --> split 1 times.\n",
      "4443 + 144 = 4554 --> split 1 times.\n",
      "4531 + 53 = 4548 --> split 1 times.\n",
      "4344 + 214 = 4518 --> split 1 times.\n",
      "4622 + 177 = 4538 --> split 2 times.\n",
      "4662 + 137 = 4580 --> split 3 times.\n",
      "4518 + 191 = 4661 --> split 1 times.\n",
      "4488 + 302 = 4766 --> split 1 times.\n",
      "4798 + 120 = 4572 --> split 2 times.\n",
      "4384 + 315 = 4675 --> split 1 times.\n",
      "4829 + 109 = 4577 --> split 2 times.\n",
      "4300 + 302 = 4579 --> split 1 times.\n",
      "4798 + 120 = 4572 --> split 2 times.\n",
      "4490 + 88 = 4542 --> split 1 times.\n",
      "4494 + 86 = 4531 --> split 1 times.\n",
      "4451 + 150 = 4551 --> split 1 times.\n",
      "4538 + 57 = 4552 --> split 1 times.\n",
      "4521 + 159 = 4656 --> split 1 times.\n",
      "4339 + 310 = 4621 --> split 1 times.\n",
      "4457 + 130 = 4552 --> split 1 times.\n",
      "4646 + 58 = 4529 --> split 2 times.\n",
      "4357 + 193 = 4515 --> split 1 times.\n",
      "4405 + 193 = 4562 --> split 1 times.\n",
      "4519 + 57 = 4513 --> split 1 times.\n",
      "4437 + 176 = 4550 --> split 1 times.\n",
      "4545 + 110 = 4596 --> split 1 times.\n",
      "4486 + 95 = 4523 --> split 1 times.\n",
      "4536 + 65 = 4565 --> split 1 times.\n",
      "4501 + 94 = 4563 --> split 1 times.\n",
      "4469 + 141 = 4556 --> split 1 times.\n",
      "4502 + 80 = 4520 --> split 1 times.\n",
      "4464 + 106 = 4514 --> split 1 times.\n",
      "4647 + 24 = 4513 --> split 2 times.\n"
     ]
    }
   ],
   "source": [
    "def Splitter(paragraphs, max_len=5000):\n",
    "    \n",
    "    sentences=[]\n",
    "    paragraphs_out=[]\n",
    "    if isinstance(paragraphs,list):\n",
    "        \n",
    "        for paragraph in paragraphs:\n",
    "            paragraph_out=[] \n",
    "       \n",
    "            from nltk.tokenize import sent_tokenize\n",
    "            \n",
    "\n",
    "            \n",
    "        \n",
    "            paragraph=paragraph.replace(\"\\n\",\". \").replace(\"!\",\" \").replace(\"?\",\" \").replace(\"..\",\". \").replace(\". . \",\"\")\n",
    "            \n",
    "            \n",
    "            \n",
    "            \n",
    "            # fill in spaces after dot if followed by capital character\n",
    "            import re\n",
    "            regex = r\"(?<=[a-zA-Z])\\.(?=[A-Z][a-z])\"\n",
    "            subst = \". \"\n",
    "            paragraph = re.sub(regex, subst, paragraph, 0, re.MULTILINE)\n",
    "            paragraph=paragraph.replace(\"  \",\" \").replace(\" .\",\".\").lstrip(\". \")\n",
    "            \n",
    "            sentence=sent_tokenize(paragraph) # per paragraph\n",
    "            sentence=[s for s in sentence if len(s)>1]\n",
    "\n",
    "            counter = 0\n",
    "            P=\"\" # will be filled with sentences untill it has 5000 characters.\n",
    "            for s in sentence:\n",
    "                counter += len(s) # calculate the lenght if it would be added.\n",
    "\n",
    "                if counter > max_len: # does not add the sentence to the paragraph if too long\n",
    "                    \n",
    "                    paragraph_out.append(P)\n",
    "                    \n",
    "                    L=len(paragraph_out[-1])\n",
    "                    print(f\"{L} + {len(s)} = {counter} --> split {len(paragraph_out)} times.\")\n",
    "                \n",
    "                    counter=0\n",
    "                    P=\"\"\n",
    "                    \n",
    "                if counter < max_len:\n",
    "                    P=P.strip()+\" \"+ s.strip()\n",
    "            \n",
    "            paragraph_out.append(P)\n",
    "\n",
    "            sentences+=sentence\n",
    "            \n",
    "            paragraphs_out.extend(paragraph_out)\n",
    "                \n",
    "                \n",
    "    sentences_len=[len(i) for i in sentences]\n",
    "    paragraphs_len=[len(i) for i in paragraphs_out]\n",
    " \n",
    "        \n",
    "    return pd.Series([paragraphs_out,sentences,paragraphs_len,sentences_len])\n",
    "\n",
    "\n",
    "df[[\"paragraphs\",\"sentences\",\"paragraphs_len\",\"sentences_len\"]]=df[\"text\"].apply(Splitter, max_len=4500)\n",
    "df[\"paragraph_sum\"]=df.paragraphs_len.apply(lambda x: sum(x))\n",
    "\n",
    "#df[\"text\"].apply(Splitter)"
   ]
  },
  {
   "cell_type": "code",
   "execution_count": 7,
   "id": "e2eaec26",
   "metadata": {},
   "outputs": [
    {
     "data": {
      "text/html": [
       "<div>\n",
       "<style scoped>\n",
       "    .dataframe tbody tr th:only-of-type {\n",
       "        vertical-align: middle;\n",
       "    }\n",
       "\n",
       "    .dataframe tbody tr th {\n",
       "        vertical-align: top;\n",
       "    }\n",
       "\n",
       "    .dataframe thead th {\n",
       "        text-align: right;\n",
       "    }\n",
       "</style>\n",
       "<table border=\"1\" class=\"dataframe\">\n",
       "  <thead>\n",
       "    <tr style=\"text-align: right;\">\n",
       "      <th></th>\n",
       "      <th>url</th>\n",
       "      <th>filename</th>\n",
       "      <th>Uni</th>\n",
       "      <th>title</th>\n",
       "      <th>date</th>\n",
       "      <th>itemType</th>\n",
       "      <th>language</th>\n",
       "      <th>publicationTitle</th>\n",
       "      <th>filepath</th>\n",
       "      <th>text</th>\n",
       "      <th>links</th>\n",
       "      <th>linkName</th>\n",
       "      <th>HTML</th>\n",
       "      <th>paragraphs</th>\n",
       "      <th>sentences</th>\n",
       "      <th>paragraphs_len</th>\n",
       "      <th>sentences_len</th>\n",
       "      <th>paragraph_sum</th>\n",
       "    </tr>\n",
       "  </thead>\n",
       "  <tbody>\n",
       "    <tr>\n",
       "      <th>RAM5QEQA</th>\n",
       "      <td>https://neerlandistiek.nl/2023/01/taalkundig-r...</td>\n",
       "      <td>taalkundig-redeneren-met-chatgpt.html</td>\n",
       "      <td>Radboud Nijmegen</td>\n",
       "      <td>Taalkundig redeneren met ChatGPT</td>\n",
       "      <td>2023-01-14 10:00:00</td>\n",
       "      <td>webpage</td>\n",
       "      <td>nl</td>\n",
       "      <td>None</td>\n",
       "      <td>C:\\Users\\mr\\Zotero\\storage\\RAM5QEQA\\taalkundig...</td>\n",
       "      <td>[Taalkundig redeneren met ChatGPT, Neerlandist...</td>\n",
       "      <td>[https://neerlandistiek.nl/, https://neerlandi...</td>\n",
       "      <td>[, , hier op Neerlandistiek, , , , , , , , , ,...</td>\n",
       "      <td>True</td>\n",
       "      <td>[ Taalkundig redeneren met ChatGPT,  Neerlandi...</td>\n",
       "      <td>[Taalkundig redeneren met ChatGPT, Neerlandist...</td>\n",
       "      <td>[33, 71, 4037, 5013, 2170, 379, 249, 144, 29, ...</td>\n",
       "      <td>[32, 70, 45, 125, 73, 301, 79, 214, 117, 364, ...</td>\n",
       "      <td>47859</td>\n",
       "    </tr>\n",
       "    <tr>\n",
       "      <th>C6PW5SJM</th>\n",
       "      <td>https://www.uu.nl/en/organisation/in-depth/unb...</td>\n",
       "      <td>unboxing-the-black-box-of-ai.html</td>\n",
       "      <td>Utrecht University</td>\n",
       "      <td>Unboxing the black box of AI - In depth - Utre...</td>\n",
       "      <td>2023-06-02 00:00:00</td>\n",
       "      <td>webpage</td>\n",
       "      <td>en</td>\n",
       "      <td>None</td>\n",
       "      <td>C:\\Users\\mr\\Zotero\\storage\\C6PW5SJM\\unboxing-t...</td>\n",
       "      <td>[Unboxing the black box of AI - In depth - Utr...</td>\n",
       "      <td>[https://www.uu.nl/staff/SRNyholm, https://www...</td>\n",
       "      <td>[Sven Nyholm\\n \\n \\n external link, Philosophe...</td>\n",
       "      <td>True</td>\n",
       "      <td>[ Unboxing the black box of AI - In depth - Ut...</td>\n",
       "      <td>[Unboxing the black box of AI - In depth - Utr...</td>\n",
       "      <td>[61, 4366, 4442, 4356, 5117, 2762, 2090, 35, 7...</td>\n",
       "      <td>[60, 66, 155, 87, 327, 171, 259, 94, 152, 266,...</td>\n",
       "      <td>44591</td>\n",
       "    </tr>\n",
       "    <tr>\n",
       "      <th>JCB8V5T7</th>\n",
       "      <td>https://www.uu.nl/en/organisation/faculty-of-g...</td>\n",
       "      <td>research-posters.html</td>\n",
       "      <td>Utrecht University</td>\n",
       "      <td>Research Posters - Faculty of Geosciences - Ut...</td>\n",
       "      <td>2023-07-17 00:00:00</td>\n",
       "      <td>webpage</td>\n",
       "      <td>en</td>\n",
       "      <td>None</td>\n",
       "      <td>C:\\Users\\mr\\Zotero\\storage\\JCB8V5T7\\research-p...</td>\n",
       "      <td>[Research Posters - Faculty of Geosciences - U...</td>\n",
       "      <td>[#1, #2, #3, #4, None, http://posters.geo.uu.n...</td>\n",
       "      <td>[Department Earth Sciences , Department Physic...</td>\n",
       "      <td>True</td>\n",
       "      <td>[ Research Posters - Faculty of Geosciences - ...</td>\n",
       "      <td>[Research Posters - Faculty of Geosciences - U...</td>\n",
       "      <td>[63, 4431, 4762, 4585, 4942, 4592, 4659, 4798,...</td>\n",
       "      <td>[62, 420, 243, 215, 212, 157, 253, 165, 466, 2...</td>\n",
       "      <td>515421</td>\n",
       "    </tr>\n",
       "  </tbody>\n",
       "</table>\n",
       "</div>"
      ],
      "text/plain": [
       "                                                        url  \\\n",
       "RAM5QEQA  https://neerlandistiek.nl/2023/01/taalkundig-r...   \n",
       "C6PW5SJM  https://www.uu.nl/en/organisation/in-depth/unb...   \n",
       "JCB8V5T7  https://www.uu.nl/en/organisation/faculty-of-g...   \n",
       "\n",
       "                                       filename                 Uni  \\\n",
       "RAM5QEQA  taalkundig-redeneren-met-chatgpt.html    Radboud Nijmegen   \n",
       "C6PW5SJM      unboxing-the-black-box-of-ai.html  Utrecht University   \n",
       "JCB8V5T7                  research-posters.html  Utrecht University   \n",
       "\n",
       "                                                      title  \\\n",
       "RAM5QEQA                   Taalkundig redeneren met ChatGPT   \n",
       "C6PW5SJM  Unboxing the black box of AI - In depth - Utre...   \n",
       "JCB8V5T7  Research Posters - Faculty of Geosciences - Ut...   \n",
       "\n",
       "                        date itemType language publicationTitle  \\\n",
       "RAM5QEQA 2023-01-14 10:00:00  webpage       nl             None   \n",
       "C6PW5SJM 2023-06-02 00:00:00  webpage       en             None   \n",
       "JCB8V5T7 2023-07-17 00:00:00  webpage       en             None   \n",
       "\n",
       "                                                   filepath  \\\n",
       "RAM5QEQA  C:\\Users\\mr\\Zotero\\storage\\RAM5QEQA\\taalkundig...   \n",
       "C6PW5SJM  C:\\Users\\mr\\Zotero\\storage\\C6PW5SJM\\unboxing-t...   \n",
       "JCB8V5T7  C:\\Users\\mr\\Zotero\\storage\\JCB8V5T7\\research-p...   \n",
       "\n",
       "                                                       text  \\\n",
       "RAM5QEQA  [Taalkundig redeneren met ChatGPT, Neerlandist...   \n",
       "C6PW5SJM  [Unboxing the black box of AI - In depth - Utr...   \n",
       "JCB8V5T7  [Research Posters - Faculty of Geosciences - U...   \n",
       "\n",
       "                                                      links  \\\n",
       "RAM5QEQA  [https://neerlandistiek.nl/, https://neerlandi...   \n",
       "C6PW5SJM  [https://www.uu.nl/staff/SRNyholm, https://www...   \n",
       "JCB8V5T7  [#1, #2, #3, #4, None, http://posters.geo.uu.n...   \n",
       "\n",
       "                                                   linkName  HTML  \\\n",
       "RAM5QEQA  [, , hier op Neerlandistiek, , , , , , , , , ,...  True   \n",
       "C6PW5SJM  [Sven Nyholm\\n \\n \\n external link, Philosophe...  True   \n",
       "JCB8V5T7  [Department Earth Sciences , Department Physic...  True   \n",
       "\n",
       "                                                 paragraphs  \\\n",
       "RAM5QEQA  [ Taalkundig redeneren met ChatGPT,  Neerlandi...   \n",
       "C6PW5SJM  [ Unboxing the black box of AI - In depth - Ut...   \n",
       "JCB8V5T7  [ Research Posters - Faculty of Geosciences - ...   \n",
       "\n",
       "                                                  sentences  \\\n",
       "RAM5QEQA  [Taalkundig redeneren met ChatGPT, Neerlandist...   \n",
       "C6PW5SJM  [Unboxing the black box of AI - In depth - Utr...   \n",
       "JCB8V5T7  [Research Posters - Faculty of Geosciences - U...   \n",
       "\n",
       "                                             paragraphs_len  \\\n",
       "RAM5QEQA  [33, 71, 4037, 5013, 2170, 379, 249, 144, 29, ...   \n",
       "C6PW5SJM  [61, 4366, 4442, 4356, 5117, 2762, 2090, 35, 7...   \n",
       "JCB8V5T7  [63, 4431, 4762, 4585, 4942, 4592, 4659, 4798,...   \n",
       "\n",
       "                                              sentences_len  paragraph_sum  \n",
       "RAM5QEQA  [32, 70, 45, 125, 73, 301, 79, 214, 117, 364, ...          47859  \n",
       "C6PW5SJM  [60, 66, 155, 87, 327, 171, 259, 94, 152, 266,...          44591  \n",
       "JCB8V5T7  [62, 420, 243, 215, 212, 157, 253, 165, 466, 2...         515421  "
      ]
     },
     "execution_count": 7,
     "metadata": {},
     "output_type": "execute_result"
    }
   ],
   "source": [
    "# Check the lenght of paragraphs\n",
    "\n",
    "df[df.paragraphs_len.apply(lambda x: any(i > 5000 for i in x))]"
   ]
  },
  {
   "cell_type": "code",
   "execution_count": 8,
   "id": "b7574bb5",
   "metadata": {},
   "outputs": [
    {
     "data": {
      "text/plain": [
       "VRYGVYFT                   C:\\Users\\mr\\Zotero\\storage\\VRYGVYFT\\20230607-jaarverslag-2022-cooperatie-surf-u.a.-gewaarmerkt.pdf\n",
       "KB9PEGPE                                                 C:\\Users\\mr\\Zotero\\storage\\KB9PEGPE\\dpia-zoom-25-february-2022_0.pdf\n",
       "WX4G68MK                                C:\\Users\\mr\\Zotero\\storage\\WX4G68MK\\hosa-domainarchitecture-iam-v1.0-eng-gb-final.pdf\n",
       "ALDWBD7G                                   C:\\Users\\mr\\Zotero\\storage\\ALDWBD7G\\promises-of-ai-in-education-june-2022-def2.pdf\n",
       "8AWPG27Z                                          C:\\Users\\mr\\Zotero\\storage\\8AWPG27Z\\sf_trendrapport_nl_v4-gecomprimeerd.pdf\n",
       "WE6Q67A7                                               C:\\Users\\mr\\Zotero\\storage\\WE6Q67A7\\sf_trendrapport_v10_compressed.pdf\n",
       "KBLFTTUZ    C:\\Users\\mr\\Zotero\\storage\\KBLFTTUZ\\surf-rapport-herijking-van-de-visie-op-de-digitale-leeromgeving_webversie.pdf\n",
       "Name: filepath, dtype: object"
      ]
     },
     "execution_count": 8,
     "metadata": {},
     "output_type": "execute_result"
    }
   ],
   "source": [
    "\n",
    "# just checkin if the long paragraphs are necessary...\n",
    "df=df[df.title!='Research Posters - Faculty of Geosciences - Utrecht University']\n",
    "\n",
    "#df=df[df[\"paragraph_sum\"]<100000]\n",
    "\n",
    "\n",
    "pd.set_option('display.max_colwidth', 255)\n",
    "\n",
    "df[df[\"paragraph_sum\"]>100000].filepath"
   ]
  },
  {
   "cell_type": "code",
   "execution_count": 9,
   "id": "a210ea9c",
   "metadata": {},
   "outputs": [],
   "source": [
    "df.to_json(\"2023-07-30_Uni_Files_NLP_splitter.json\")\n"
   ]
  },
  {
   "cell_type": "code",
   "execution_count": null,
   "id": "80d95145",
   "metadata": {},
   "outputs": [],
   "source": [
    "df=pd.read_json(\"2023-07-30_Uni_Files_NLP_splitter.json\")"
   ]
  },
  {
   "cell_type": "code",
   "execution_count": 10,
   "id": "b9827c2d",
   "metadata": {},
   "outputs": [
    {
     "data": {
      "text/plain": [
       "Index(['url', 'filename', 'Uni', 'title', 'date', 'itemType', 'language',\n",
       "       'publicationTitle', 'filepath', 'text', 'links', 'linkName', 'HTML',\n",
       "       'paragraphs', 'sentences', 'paragraphs_len', 'sentences_len',\n",
       "       'paragraph_sum'],\n",
       "      dtype='object')"
      ]
     },
     "execution_count": 10,
     "metadata": {},
     "output_type": "execute_result"
    }
   ],
   "source": [
    "df.columns"
   ]
  },
  {
   "cell_type": "markdown",
   "id": "2c8b8ea9",
   "metadata": {},
   "source": [
    "# Explode --> by sentence or by paragraph?"
   ]
  },
  {
   "cell_type": "code",
   "execution_count": null,
   "id": "608b283d",
   "metadata": {},
   "outputs": [],
   "source": [
    "#df=df.explode(\"sentences\").drop_duplicates(subset=\"sentences\").reset_index(drop=True)\n",
    "\n",
    "df.paragraphs.explode()"
   ]
  },
  {
   "cell_type": "code",
   "execution_count": null,
   "id": "01e9e305",
   "metadata": {},
   "outputs": [],
   "source": [
    "df.language.value_counts()"
   ]
  },
  {
   "cell_type": "markdown",
   "id": "4e701bac",
   "metadata": {},
   "source": [
    "### I will filter in the analysis file. Therefore this code is not needed anymore...\n",
    "\n",
    "ChatGPT_Terms=\"ChatGPT, Chat-GPT, GPT3, GPT-3, GPT-x, GPT-4, GPT4,\\\n",
    "Transformer, OpenAI, AI, hallucination, Text generation, LLM, GPT, Chatbot, Models, generative, Intelligence, Model\"\n",
    "\n",
    "import MyLib.nlp as nlp\n",
    "\n",
    "df[\"AI_paragraphs\"]=df.paragraphs.dropna().apply(nlp.filter_paragraphs,by=ChatGPT_Terms).dropna()\n",
    "\n",
    "df[\"AI_Paragraphs_len\"]=df[\"AI_paragraphs\"].apply(lambda x: [len(i) for i in x])\n",
    "df[df.AI_Paragraphs_len.apply(lambda x: any(i > 4999 for i in x))]\n"
   ]
  },
  {
   "cell_type": "code",
   "execution_count": 11,
   "id": "f46d097e",
   "metadata": {},
   "outputs": [
    {
     "name": "stdout",
     "output_type": "stream",
     "text": [
      "39930\n"
     ]
    }
   ],
   "source": [
    "column=\"sentences\"\n",
    "\n",
    "#df=df[df.file.apply(lambda x: x.endswith(\"html\"))]\n",
    "\n",
    "df=df.explode(column).reset_index(drop=True)\n",
    "df=df[df[column].apply(lambda x: type(x)==str)]\n",
    "df=df.drop_duplicates(column)\n",
    "df[\"LEN\"]=df[column].apply(lambda x: len(x.split(\" \")))\n",
    "print(len(df))"
   ]
  },
  {
   "cell_type": "code",
   "execution_count": null,
   "id": "ae57fb43",
   "metadata": {},
   "outputs": [],
   "source": [
    "df.text[:2]"
   ]
  },
  {
   "cell_type": "code",
   "execution_count": null,
   "id": "9b21dca7",
   "metadata": {},
   "outputs": [],
   "source": [
    "#df[df.sentences.apply(lambda x: len(x.replace('[^a-zA-Z]', ''))<10)][\"sentences\"]"
   ]
  },
  {
   "cell_type": "code",
   "execution_count": 13,
   "id": "83074a2c",
   "metadata": {},
   "outputs": [],
   "source": [
    "#remove tables of content\n",
    "df=df[df.sentences.apply(lambda x: x.count(\".\")<10)]\n",
    "\n",
    "#remove non-sense sentences by: if sentence is shorter than 10 characters without numbers.\n",
    "df=df[df.sentences.apply(lambda x: len(x.replace('[^a-zA-Z]', ''))>10)]\n",
    "\n",
    "df=df[df.sentences.apply(len)>15]\n",
    "\n"
   ]
  },
  {
   "cell_type": "code",
   "execution_count": null,
   "id": "3bda1dad",
   "metadata": {},
   "outputs": [],
   "source": [
    "pd.set_option('display.max_colwidth', None)\n",
    "PDF=df[df.HTML==False]\n",
    "\n",
    "# test what the pdf sentences with dots look like now.\n",
    "\n",
    "PDF[PDF.sentences.apply(lambda x: x.count(\".\")>8)].sentences.head(5)"
   ]
  },
  {
   "cell_type": "code",
   "execution_count": 14,
   "id": "492ed35b",
   "metadata": {},
   "outputs": [
    {
     "name": "stdout",
     "output_type": "stream",
     "text": [
      "LEN:  0\n"
     ]
    },
    {
     "data": {
      "text/plain": [
       "[]"
      ]
     },
     "execution_count": 14,
     "metadata": {},
     "output_type": "execute_result"
    }
   ],
   "source": [
    "# Check: remove short strings that dont resemble sentences.\n",
    "\n",
    "n=16 # ab 17\n",
    "c=df[df.sentences.apply(len)<n]\n",
    "print(\"LEN: \", len(c))      \n",
    "[print(i) for i in df[df.sentences.apply(len)<n].sentences]"
   ]
  },
  {
   "cell_type": "code",
   "execution_count": null,
   "id": "8d717d2a",
   "metadata": {},
   "outputs": [],
   "source": [
    "df[df.sentences.apply(len)>4500]"
   ]
  },
  {
   "cell_type": "code",
   "execution_count": null,
   "id": "f062208e",
   "metadata": {},
   "outputs": [],
   "source": [
    "df.columns"
   ]
  },
  {
   "cell_type": "markdown",
   "id": "72d2fef0",
   "metadata": {},
   "source": [
    "# RUN THE NLP PIPELINE"
   ]
  },
  {
   "cell_type": "code",
   "execution_count": 15,
   "id": "a820e92e",
   "metadata": {
    "scrolled": true
   },
   "outputs": [
    {
     "name": "stdout",
     "output_type": "stream",
     "text": [
      "2.0.3\n",
      "Current Time = 13:02:09\n",
      "Lenght:  5\n",
      "cleaning done.\n",
      "Current Time = 13:02:09\n",
      "next: language.\n",
      "language detection done.\n",
      "Current Time = 13:02:09\n",
      "Next: Translating...\n",
      "Current Time = 13:02:09\n",
      "pure english text done. Next: Token & Lemmatizing.\n",
      "Current Time = 13:02:09\n",
      "Token & Lemmatizing done. Next: Remove Stopwords.\n",
      "Current Time = 13:02:14\n"
     ]
    },
    {
     "data": {
      "text/plain": [
       "0    en\n",
       "1    en\n",
       "2    en\n",
       "3    en\n",
       "4    en\n",
       "Name: source_language, dtype: object"
      ]
     },
     "execution_count": 15,
     "metadata": {},
     "output_type": "execute_result"
    }
   ],
   "source": [
    "# test\n",
    "\n",
    "test=pd.DataFrame(df.head(5).to_dict())\n",
    "test[\"t\"]=test.url\n",
    "print(pd. __version__)\n",
    "\n",
    "test=nlp.NLP_Pipeline(test, text_column=column, target_language=\"en\",sentiment=False)\n",
    "test[\"source_language\"]"
   ]
  },
  {
   "cell_type": "code",
   "execution_count": null,
   "id": "a522cc81",
   "metadata": {},
   "outputs": [],
   "source": [
    "test.head(20).sentences"
   ]
  },
  {
   "cell_type": "code",
   "execution_count": 16,
   "id": "95cf2d02",
   "metadata": {},
   "outputs": [
    {
     "name": "stdout",
     "output_type": "stream",
     "text": [
      "Current Time = 13:02:26\n",
      "Lenght:  35755\n",
      "cleaning done.\n",
      "Current Time = 13:02:27\n",
      "next: language.\n",
      "language detection done.\n",
      "Current Time = 13:04:45\n",
      "Next: Translating...\n"
     ]
    },
    {
     "name": "stdout",
     "output_type": "stream",
     "text": [
      "NOLA. The . It m. Teac. We t. The . At s. Teac. The . Ther. The . The . The . This. In d. What. In S. A no. The . And . Aren. AI c. AI i. So w. The . Ther. Also. Ther. What. We h. Is t. How . Co-c. In o. How . Whic. What. Do w. To w. We k. What. It u. Do y. Sign. Cont. Addr. We u. Do y. Nati. NOLA. Ling. Neer. “Tha. Seve. Appa. Alth. But . I pu. Part. But . Char. For . The . It's. What. I ca. What. The . It i. And . But . You'. And . Seve. Let'. That. It p. But . But . The . The . But . What. Acco. And . Okay. Anyw. A co. The . If o. Beca. Sorr. Foll. My c. The . The . In t. With. If y. Stud. It h. To s. It i. But . And . I've. For . I wi. Shar. The . Sinc. Lect. 24 M. Dece. Sinc. Chat. 24 M. What. Did . Hone. I wa. And . If y. I be. I gu. But . I've. It c. Try . You . It m. It i. You . We'v. I wa. Ther. Ther. “The. Benu. So I. I do. From. The . Ther. I've. Yes,. Ther. I do. Tryi. Coin. Comp. Undo. Beca. And . The . In s. Yes,. Your. I su. This. Do n. Let . I im. With. For . The . The . Poem. Jan . ➔ Re. Plea. Shar. Like. Comm. Janu. Did . Janu. We'v. Janu. Ther. Ton . Janu. Benu. Janu. Janu. I've. Janu. Janu. Answ. Janu. In s. Janu. Yes,. Janu. Let . Febr. The . Leav. Neer. Cont. edit. Ling. 14 J. Dece. Leav. Foot. Dutc. Abou. Face. twee. yout. mail. mail. mail. mail. mail. mail. mail. mail. last. Leav. inpu. Rese. This. Do y. Staf. Info. INto. Medi. MyMo. New . Soci. Tail. Look. Unde. An U. Inve. Chat. Prom. Trag. Unde. Stim. The . Valo. Comm. Phon. Allo. Rese. INto. A he. A he. Seni. INto. Spec. Nutr. This. Such. The . Rese. This. Comm. Allo. This. Info. 4 re. From. That. Comm. Ther. The . Soci. Wher. “Sin. “In . It m. ’ Wi. 'Mes. Don'. ’ Ke. He h. Virt. Expe. Thes. ’ He. Mean. Kete. ‘A p. Soci. ’ In. Arti. Ther. Will. AI i. ’ Ke. The . How . ‘A s. As f. Peop. Real. ‘An . ’ Ta. Or a. ‘Ima. Then. But . Is t. One . Gami. Stil. Once. We n. Ther. Comm. From. More. Move. Inte. Radb. 4 re. Post. Expe. Unde. Rela. Refe. Chat. Sudd. It i. Enti. This. The . For . It a. So t. To w. What. To w. Chat. But . What. May . co. . html. nl/n. http. eu/t. nl/t. en/a. Radb. puco. Chat. Thym. On S. Do t. On F. In t. Now . Prov. One . How . On W. On W. In d. Nove. What. On F. That. Dear. I he. The . From. Sept. Anyo. Then. At t. The . You . Augu. Eelk. Belo. Our . Thij. Nexu. Stud. Symp. Meet. Perf. Stud. Info. Arti. NRC . Opin. Nexu. Do t. Stud. Prov. Symp. On W. Meet. Febr. In d. Perf. Nov . What. Cath. Octo. That. Info. Octo. From. Arti. Sept. On t. NRC . Opin. Augu. Belo. Page. Thym. Auth. URI . nl/h. Supe. Facu. NOLA. Chat. Deve. Duri. NOLA. Miss. EdTe. “AI . It i. You . That. To b. Be t. Smar. It i. Mari. As a. Use . Arti. Ther. Choo. Ther. For . In t. We c. But . How . AI c. But . The . So n. Tric. As A. That. NOLA. Prac. NOLA. Ques. For . Othe. NOLA. Stay. Sign. Choo. Sign. NOLA. Talk. With. Unfo. Phon. Grad. For . 000 . For . Goog. Here. Howe. For . Howe. For . It i. So, . For . In a. For . If t. “For. 00 h. Typi. When. Cons. “Wha. is i. In f. Many. Phys. Wher. the . You . In a. In f. For . Text. This. Phot. Talk. Post. File. Auth. nl/h. The . File. Auth. Abst. To i. The . Thes. This. A co. This. The . Howe. This. nl/h. Supe. Facu. Prog. Comm. Neve. That. Comp. For . This. But . Cont. Ther. The . If y. The . This. Thos. When. The . The . Cine. If t. It i. Read. And . What. But . For . Only. This. Cont. Comm. Post. The . By M. Arti. The . Marc. What. \"Wha. The . \"Cha. Thes. But . They. It's. The . When. Even. Cert. I ta. Chat. In a. But . The . We h. Well. The . Enth. Afte. Ther. Aris. The . Chat. In a. Ther. The . Chat. As B. 2 Th. Then. Beca. The . It i. In o. The . Bous. Augm. Jour. Quot. ‘Aga. com/. Foll. Foll. Sign. Abou. The . Post. The . Podc. Radb. Anno. 05 h. The . Come. Not . Will. Acco. The . Did . Tama. Prog. Tama. She . 00 a. The . Ther. Abou. Come. Be i. is p. Radb. Radb. 6525. The . A ch. May . © 20. Some. Tip . Shar. Twit. Asia. Fran. Shou. A La. 000 . Voll. Lots. 'Not. 'AI . City. A ch. Is G. This. Regi. Howe. Stud. Inte. How . Come. We r. 5 it. The . In t. Expe. 5 ca. What. Will. And . In t. Step. Step. Step. If t. In t. Stud. They. Thei. Even. We a. 5 hi. Anco. He r. Also. He d. He l. 5 is. A ma. Howe. Is G. Work. The . Howe. In t. The . Whet. Prac. THE . Lang. Atte. Loca. 'Thi. By e. Myrt. affi. Eras. 28) . PO B. Sign. Foll. Work. Turn. Turn. Turn. Howe. The . The . We c. Supp. The . In a. For . For . Emai. The . Inte. Avai. Repo. View. Dete. Appe. For . regi. regi. • Bo. REGU. 2016. oppo. unde. unde. avai. Plea. Spea. Roel. 5:00. Inte. Repo. Extr. Lect. Tues. - 1:. Onli. With. And . This. Thos. In t. Spea. Larg. Spea. Read. Sign. More. Bach. Mast. PhD . Educ. Huma. Medi. Law.. Soci. Math. Afri. Work. Supp. Read. Onli. Lect. Tues. R﻿ad. Mont. 6525. 160.. Prof. Alth. Neve. As C. In t. Furt. Prof. Prof. She . Befo. Prev. Prio. Prof. She . Prof. Prof. She . She . Abou. Inst. As p. The . Them. Semi. Regi. conf. Salo. Salo. Frid. - 4:. Nati. Lang. 2312. The . Spea. This. Exam. Abou. Tom . In a. Phil. If y. The . Caro. Caro. On 1. ‘The. ’.. . Afte. ‘Do . I fo. The . Inte. “In . She . Grad. Last. 'The. ‘I l. Thes. For . Beca. The . “The. Then. Much. Ther. What. She . ‘The. ‘At . Tibe. ‘I w. The . Tibe. I am. ai... Text. Tibe. Text. Can . Can . For . But . Can . The . The . How . Kouw. ’.. . We l. Van . Kouw. That. AI a. Will. Van . I th. In t. Read. We o. Read. Chat. Rese. Chat. In t. Timo. DaVi. Muni. Viss. ... . Exam. She . She . Amon. Chat. Allo. Beca. Chat. We a. seco. Tomb. AI i. AI i. Arti. At t. The . What. Do y. Are . Chat. Chan. Of c. Belo. .. F. Chat. It g. The . The . That. What. The . You . This. The . Chat. The . Here. You . Howe. See:. You . Who . Chat. Ther. Open. For . The . Open. That. Why . How . How . On t. How . You . Freq. How . Colu. What. What. He s. Prog. Just. “It . ’ Pl. But . Read. “We . Read. Work. Cour. Thur. - 4:. Clev. 23... On 2. Does. She . Conc. Ther. Plea. On T. Plea. Frid. - 4:. Tax . ).. . ).. . ).. . M. ). M. ). M. ). Cont. Educ. Stud. For . Cont. Loca. Emer. Stud. Tues. Digi. 07 a. Plea. Stud. Stud. Leid. Leid. It e. “Unl. This. Read. voti. She . To w. To w. Copy. In a. The . Neve. chat. Chat. Chat. How . When. Howe. In a. Belo. It i. Chat. The . That. Whil. It i. How . You . The . For . Ask . Avoi. Ask . Ask . Ask . Use . It i. Logi. In a. Thes. As m. Febr. Deve. Stud. chat. When. Use . Newe. Newe. \"GPT. GPT-. Desp. Acco. Ther. Pete. Want. Read. arti. The . Do y. Do y. The . This. Stud. Arti. This. Leid. We a. Whil. If y. This. The . Afte. For . If y. Febr. If y. Stud. Ente. repo. Chat. Chat. On t. The . The . The . Het . Het . Pers. Leid. are . Leid. Mare. NOS:. NRC:. SURF. SURF. SURF. Leid. Utre. NOW:. NOW:. SURF. Tool. Leid. Leid. Do y. Lect. Lect. Some. In r. Is t. In t. What. This. I ma. I do. It i. This. When. Chat. We s. Depe. When. Or y. A lo. This. We a. And . It g. That. Keep. In t. We w. Also. Fort. Beca. We s. Let'. The . .. I. If y. Past. Othe. Thes. The . In 2. Cash. In p. Ten . The . Dang. Many. Stat. Suza. The . ‘An . The . Ther. ' ... Rout. ’ - . Repl. An i. In a. ‘You. At t. ’ Du. But . 'A l. The . Ever. Some. IJze. ’ Ac. ‘Pro. Cons. ’ Ch. Beca. Peop. ’ Lo. When. IJze. “We . Subs. ’ ‘A. To a. ’ Mo. “It . I do. Ther. ’ Re. Are . ‘Wha. ’ - . Yes,. You . pers. Ilon. Work. Youn. Thes. how . inte. ... . Most. Youn. Thes. How . Crea. The . Star. Rele. Pers. BACK. Resi. If y. What. Nazh. Tax . Men . Do y. \"My . How . What. Work. 2 mo. Proj. Well. Poor. Ther. The . Well. We j. The . The . They. The . By u. The . The . This. Such. The . The . For . ZonM. Proj. Also. How . Effe. High. The . But . Ther. But . The . Inte. They. Chat. For . Or t. Chat. Dire. This. A pi. This. That. In t. The . By u. How . Chat. Coll. Pat-. He w. What. They. Dr. . The . The . A ch. Well. The . The . Caet. Not . The . Her . She . The . Both. The . Tomb. Chat. Fore. It's. But . Acco. He t. What. Beca. Even. With. And . 'Wha. We a. But . The . And . One . Mayb. I ho. Alth. Jani. Grap. Sect. Text. Chat. In t. This. What. Hals. What. That. I'm . Spre. Hugo. I st. This. For . To d. ’ Fa. But . Hals. Chat. Bene. Hals. The . For . Chat. The . And . ’ Hu. Grad. ’Gra. Keep. How . It i. Espe. ’ Hu. We a. The . Fabi. ’Wha. "
     ]
    },
    {
     "name": "stdout",
     "output_type": "stream",
     "text": [
      "Fear. Hals. Reme. If t. ’ Hu. Stud. Agai. Or, . Hals. So t. Of w. ’ In. Fabi. I di. Conc. Arti. Read. | Te. What. Open. What. Rese. By l. Soci. Thes. The . Thin. At t. More. ICT . In t. In a. They. The . The . Lect. prof. Open. Info. Lega. They. Swit. But . An e. Oppo. This. By i. They. By l. Empl. Info. Regi. Know. In d. But . The . Walk. 00 h. Wort. 30 h. Cogn. Tim . Chat. 25 h. Stud. Ster. Retr. 8 pm. What. Walk. 00 h. Chec. Plea. Symp. Keyn. Wort. Para. Chat. Para. Retr. Keyn. What. Inau. Regi. Chat. H. J. With. This. The . To d. But . Chat. Neve. For . I kn. An o. Howe. • Th. Supp. When. You . H. J. This. • Ch. You . You . • No. On C. • Wh. With. Espe. • Wi. Cogn. Chat. H. J. But . The . Shor. Chat. The . The . But . Unfo. And . Belo. What. The . • A . It i. Howe. H. J. Chat. And . Chec. It's. Then. Howe. • As. This. This. The . In s. Just. So w. Belo. Thin. Or m. Chat. But . • Su. Chat. You . It c. But . H. J. Usua. Stil. You . And . Anot. • A . You . Exac. This. dysl. Chat. Then. H. J. But . And . That. Just. This. So w. It i. The . Howe. The . Unfo. Ther. But . The . But . Stil. In h. • Th. • Pl. H. J. For . It w. In a. They. We u. • Bu. In t. But . Scie. Seco. That. • In. Whic. Neil. H. J. The . This. But . As t. Let'. Let'. Disc. In a. Disc. We w. Name. Both. And . In t. We w. Assi. Crit. Assi. Assi. Syst. For . Toda. Did . Desi. Dete. Dive. Team. func. Self. grow. Held. Iken. Drea. Soci. Agil. Just. Focu. Prog. Aski. new . desc. What. The . What. The . Prac. Teac. See:. Crit. Crit. Syst. Crit. Link. Crit. Crit. Crit. Syst. Long. I ca. Bana. Obje. How . That. Smal. Ethi. By 2. 5 bi. It h. Due . One . This. Upon. Over. In t. Data. Cons. Furt. Thro. Many. With. A bo. Over. It i. To e. 105 . We a. Alum. Cont. Cont. In c. Wage. Wage. Thin. This. The . Eigh. Amon. Guid. They. Boss. The . Camp. By j. We k. By u. Abou. It i. Find. More. More. Go t. Mast. Mast. Mart. The . Huma. Tues. Bors. More. Wed . Bomm. nWri. (Ber. 9(2). OSIR. Anna. Anna. Both. Salo. Goos. Aske. I've. In a. If y. The . Of c. But . In t. But . The . Ther. Watc. Unem. The . They. Jobs. Auto. A re. Sinc. But . AI a. AI c. It i. We s. Sudd. That. Of t. Keyn. In f. An e. View. Utre. Gert. nl 0. Cont. Lang. Cont. Shar. Anna. Let . Chat. The . The . Univ. But . Whil. In a. It i. As C. As y. But . That. Acco. Befo. Comp. Let . Will. Trai. Comp. Copy. ... . 1 mi. 3 mi. 1 mi. 4 mi. How . The . An o. Some. How . In c. Is C. In c. Jan . Wedn. Acad. Dutc. Sign. Note. YouT. Dire. Outl. Do y. As a. But . How . Beli. Is y. Chat. 'Cha. The . It c. But . “It . “Art. The . With. Will. That. “The. “Sci. They. “Not. Self. Auth. Acco. Answ. For . And . That. “The. ” Fo. “In . And . V.l.. Find. Acco. Whil. Open. For . The . The . “If . Prod. The . Sour. A ne. “Alt. Test. Are . “Tha. Just. But . “It . In t. Some. They. Acco. “I t. KNAW. 'Cha. \"Cha. “It . So, . Huma. In r. Uniq. It i. AI r. Resp. With. For . Broe. Ther. In t. And . Chat. The . “Eve. They. ” Ab. “The. Bias. In N. Van . But . One . Van . “A c. Exam. “Cha. \"Foc. “If . Van . “It . Whet. The . ” 'P. Chat. com/. Like. In a. “I b. Data. I wo. Give. Feed. Van . Afte. Thos. Auto. Van . ” 'C. Hook. All . Van . I ag. ” 'T. be (. René. Cont. nl S. Huma. Work. If y. At t. You . The . [Thi. Prep. You . com . If y. nl ,. Brin. You . The . By c. shar. Foll. Maki. Work. Asse. digi. Futu. nl 0. Futu. Rele. http. me h. Rele. Chat. Star. Luuk. Oppo. The . The . The . An i. The . Afte. What. In a. For . At t. “It . “By . For . Or u. For . Luuk. “The. But . ” Ch. What. So s. In a. Do y. Plea. Cont. educ. +31 . Much. VU S. Cont. Chat. 'Cha. But . High. Pogo. ” Ne. Will. They. Acco. ” Ge. That. She . ” Fo. Furt. ” Fi. ” Ac. ” Pe. But . Just. Cult. 15/0. Stud. That. 000 . This. 26/0. How . But . And . The . 20/0. An a. And . Empl. 17/0. The . And . Coul. Curs. This. We a. Tip . Mark. Fran. Addr. m.ho. Cont. Pedi. , Ho. 146,. Mach. Crit. Fleu. Fleu. Crit. Crit. Thor. Spri. Frie. 1160. Zont. Jian. Taba. Arti. 2464. Both. Appl. In: . 9105. 9101. In: . In: . ), I. In: . Verb. Have. Anyo. And . For . Pers. But . Admi. But . And . Chat. We k. Rece. Just. That. The . But . Thes. Chat. Stic. Welc. Your. Marc. Chat. Jaci. Prof. More. Pain. ... . 3.... >>... “I f. nl/e. Copy. Soci. How . Inno. Pers. Fina. Exam. How . How . How . How . 'I a. A ne. We i. We a. The . Earl. We h. This. We h. For . It i. Isn'. Firs. Seco. Can . Firs. Seco. Fina. How . Firs. AI-g. Seco. For . Fina. This. Coul. Some. Thes. Howe. What. Some. Othe. The . Whic. Thes. More. In s. Coul. AI s. More. It i. This. To w. My s. If I. But . ... . \"I a. Inte. ”.. . Rela. 31-0. 02-0. 27-0. 09-0. 26-0. 05-0. 27-0. 22-0. 4.... Next. VU M. Acco. “It . With. Almo. What. “I d. “Cha. It b. Clea. So y. It i. Now . It i. Othe. A pa. The . The . You . For . You . When. Its . They. Does. Even. It's. It c. The . Do y. “Wha. That. You . Have. Mayb. I ca. On t. They. It's. Mayb. So f. If o. You . “May. You . Chat. In f. I th. It's. And . Abou. nl w. New . Are . Late. '.... Soci. Alum. Inte. Inte. Not . You . Acco. “Stu. You . Howe. Wilt. It's. An i. “We . “Int. That. ” Th. Duri. “The. Inte. Stud. The . Sign. Emai. Ques. Real. Inte. Most. Univ. Inte. News. News. You . View. News. News. News. Inte. Educ. The . Neve. But . Lect. We a. The . Ther. For . In i. On t. And . ‘It . We h. And . You . Befo. That. On t. We c. Taki. Vice. Beca. ’ Ja. Imag. Schu. In t. But . The . In t. We w. So i. But . For . Afte. Howe. Fron. And,. This. Imag. The . Jant. We t. You . It's. Bax . Blen. Yet . Blen. Sand. We a. The . Jant. And . We d. Beca. We v. But . Lect. Imag. Sand. We n. Mean. A ‘w. A ph. You . As l. But . Inst. Jant. In t. Ther. An o. COVI. We n. Tran. Educ. Back. Rob . Educ. The . Neve. But . Lect. We a. In p. Stud. For . On t. And . ‘It . We h. And . You . Befo. That. On t. We w. 'Stu. Vice. ’ Be. Imag. Schu. Sand. Then. But . The . In t. We w. It i. But . Thes. Beca. Howe. Fron. And . This. Imag. The . Jant. We t. You . It i. Bax . Neve. “Ble. Sand. Duri. The . Jant. And . We d. Beca. We a. But . Coll. Imag. Sand. We n. Educ. A 'w. A ph. This. As l. But . Inst. Jant. In i. The . An o. Coro. We m. Educ. Back. Rob . Chat. And . The . They. The . Unti. Chat. But . Even. The . That. “It'. “Tec. One . Chat. It c. Some. It d. Eigh. Thes. Eigh. The . Lect. Chat. We a. What. We a. Chat. The . It g. Chat. The . What. Imag. The . But . Chri. It's. That. Simi. Emie. Chat. It's. ” ‘I. And . For . And . Desp. Krah. It's. Van . Lang. Chri. Can . Van . The . In P. This. It c. Krah. And . What. Krah. Stud. And . Chat. It's. Van . The . But . Van . Can . Krah. Only. We a. Mayb. ” ‘C. Beca. But . Krah. I th. They. I am. Will. Van . As l. The . So C. Krah. The . Van . The . It g. It g. Rob . What. Do T. Educ. To c. The . The . And . TiU . Univ. But . Beca. We a. Gert. Vide. , Ad. +31 . 5600. Vide. Post. ..... May . Denn. RESE. RESE. RESE. Chia. .. c. Chia. Soci. Sept. Eind. Our . By c. What. We u. A co. The . Eind. Thes. The . In t. Once. The . In a. In t. Thes. It w. The . At E. In t. The . The . The . The . In t. The . Dire. Carb. The . Net-. With. The . Vari. As a. In D. The . This. In t. This. With. The . The . The . The . Ther. This. Ther. In a. As a. Tech. The . Warm. This. Tech. Katj. Eind. Navi. Phon. mail. Sign. In t. Be p. Alwa. Foll. On o. Post. Foll. ..... ..... ..... Keep. Eind. .. P. CH 3. TU/e. norm. laid. It g. are . This. stud. Ther. care. frau. Frau. skil. bein. (par. infl. Also. and/. a. c. - co. with. subm. - wh. digi. logi. - us. - le. - wh. tele. (att. Whil. - mo. - (a. - ha. than. - le. perm. perm. - ch. prov. secu. hack. repo. - Id. incl. publ. expe. 4. e. whic. - us. sour. writ. This. arti. - no. sour. sche. cont. This. inte. imag. of e. have. know. 5. C. asse. subm. othe. may . is c. arti. aspe. rese. repo. bach. * fr. for . * fr. * fr. arti. Data. Kagg. Inte. Gene. Gene. Math. Powe. We u. By c. Cook. Logi. Eind. Abou. Desc. Disc. Gene. Rath. .. j. RESE. view. MSC . Pane. Marc. Eind. Will. This. HPC . \"Per. Brid. Poor. TU/e. Howe. “Thi. “We . Clim. Comp. This. If s. Maki. He w. But . Whil. “The. It's. With. The . And . Beca. That. In a. That. We h. Rich. He s. Zoon. “I s. Nati. Zoon. Lisa. We h. She . The . "
     ]
    },
    {
     "name": "stdout",
     "output_type": "stream",
     "text": [
      "” Zo. “Fru. This. An o. The . “Bra. )”, . “Too. Rese. Drea. We c. Poor. So t. And . The . ” Al. Ther. Ther. Inte. The . The . Chat. Chat. Toni. PhD . Brid. This. Kore. “For. ” Le. New . “Cha. You . Howe. Cryp. Lee'. Trus. “At . But . Beca. ” On. “Onl. But . “Int. ” Le. “Thi. I th. The . 00 i. Afte. On W. At E. We i. For . Duri. The . This. This. Mini. No p. Post. The . They. As a. Do y. WHAT. SIGN. Betw. Betw. Curs. That. The . Mayb. User. They. User. What. Rose. User. I wa. Now . What. Rose. User. Rose. User. User. Wisd. The . And . > He. > Ho. What. > Ho. > Wh. Unle. > Do. Sudd. How . Thos. And . Han . Han . 08/0. A fe. Stev. My f. 06/0. Ther. I fe. In a. No l. 22/0. Grou. I se. The . 15/1. Curs. Next. The . Also. nl w. The . Mean. Mean. One . They. So l. The . But . If y. We l. We s. Will. We s. This. As t. Furt. To g. Chat. For . 5 ba. Two . The . This. Last. AI -. It h. Yes,. We h. 16/0. One . Now,. From. Caps. Caps. The . As a. phot. Minh. That. It's. Mirr. “Tec. She . “I a. Ther. ” Af. It b. Afte. “Whe. ” Tr. Like. Test. In t. Such. “The. They. But . It's. ” Ne. “It . By c. They. That. Unfo. Perh. “A c. I wo. ” Sh. A fi. A fi. This. Vize. The . Howe. Many. Pei-. Gods. Dise. And . But . “We . A cr. Huan. AI s. ” AI. Huan. “We . It t. Huan. Also. ” Th. Huan. They. ” Ca. “The. The . Beca. And . How . “I h. Whic. Outl. Art . This. Prec. Huan. The . ” Bo. A lo. “Jus. Afte. “If . “We . They. The . Lin . And . ” Ox. Ther. Lin . “Thi. We n. Life. For . It w. The . 09/0. But . Chat. Whil. Chat. The . Not . Chat. This. An a. An a. Let'. A se. Digi. Not . And . One . And . How . ai d. Empl. The . With. If i. “By . Digi. This. Peop. But . More. A ch. “We . Pati. “The. If t. “A c. A ch. Alth. “If . In t. “The. Lamb. Alth. Acco. “If . An a. This. Robo. By q. That. Prev. In a. Lu i. “Eve. “Die. Many. A ch. “He . The . This. Such. “Sup. Then. “You. We h. We a. In a. TU/e. In a. For . In a. The . Toda. Roya. Zorg. Nove. com). \"Bra. \"Bra. With. This. The . Gene. “The. Cray. What. “Man. Both. We n. And . Ther. ” Ef. Lee:. A re. Why . But . ” La. At t. “LLM. This. ” On. “The. They. ” Le. As h. So t. “The. Brai. “Thi. Alex. Chat. “In . “Our. We d. We a. This. ” Th. “Reg. This. “We . Tick. You . The . api(. \"api. Let'. let . \"mod. prin. \"tas. \"pro. \"mes. { \"r. Ada . )Exa. \"pro. more. Mode. How . Virt. Tech. The . In h. It's. How . Afte. Her . 67 t. They. The . The . Thes. That. With. Lee . Lee:. The . So t. For . The . Afte. Lee:. But . It's. Unfo. Woul. It i. How . Sept. Phot. Asse. Our . asse. Reco. rece. CHAT. For . asse. www.. So b. betw. RECO. EMAI. 1c24. Date. SBE . Exam. Exam. When. FHML. that. http. http. http. http. 150-. Full. Prin. 0 Co. The . A wo. Gett. Deve. Anal. Amon. The . This. The . “It . We t. We h. One . 000 . The . Once. Simi. The . “Ano. Henc. If t. In a. It i. \"#Me. Alth. “I t. For . Madr. The . Tele. Acce. EL P. 3 of. More. The . Mari. Arch. news. The . PRIS. sexu. 'Thi. Mass. Mass. Maur. \"Jus. But . The . GPT-. It c. The . The . Do y. An e. A so. Peop. For . GPT-. What. This. Howe. Firs. Like. So i. (Rea. For . Or, . The . How . Also. If y. In t. Whet. So t. At m. It's. Why . Lewi. GPT-. Some. Hoor. Only. But . Cons. The . Mach. A la. Blin. When. GPT-. Aski. That. In r. Afte. The . Afte. It i. So t. Huma. What. Writ. But . This. Quic. So h. The . Use . That. We s. We d. On t. As l. Plus. Just. For . Stil. For . That. But . Perh. The . That. In r. Just. Not . Mass. Maur. Also. Erro. Don'. © 20. Knac. Beca. Crit. That. Beco. Part. This. 30hr. arti. Larg. Text. Text. tran. LLMs. Opti. Futu. SURF. Chat. Tapi. Mar.. Jan.. STUD. 7: L. (De). fina. UM s. Febr. © 20. Pitl. Ever. Ever. Tabl. Ever. Ever. L1mb. Curr. Ever. Arti. UM s. Feb.. Stud. Sour. Kral. Open. For . May . It t. The . As t. Does. Yes,. Mwah. His . Then. Trea. The . In f. A ma. \"Hon. He w. Apps. But . Not . Cary. But . Tech. “We . ’.. . She . “I w. ’ He. The . Sudd. “Wha. “Muc. He i. One . Impo. AI i. How . This. Twit. To s. Woul. Natu. If y. © 20. Read. New . “I s. I si. The . The . Lett. This. This. Gene. Serv. More. Navi. Even. “Whe. He i. He i. He h. He l. It w. The . Next. Ulti. Desp. In a. Fina. Junz. The . Can . And . I wa. To h. “The. At t. Sun . Fina. New . The . A ch. Vier. The . We d. But . You . Stud. “Whe. I al. All . So i. AI o. You . He w. The . This. But . Baet. “Whe. “It . Ther. Get . We n. ” Le. Depe. Sun . The . Fift. The . In t. Vier. And . ” Th. She . ” He. “I w. I do. I th. She . In h. “It . Ibra. He i. That. More. My C. We h. I re. AI p. Text. The . Each. read. How . read. Acou. read. Inno. read. Wind. Attr. “We . Dial. read. Mapp. A be. Stro. Read. Wate. ‘The. The . Vaca. For . Foll. But . “AI . You . Even. Spea. arXi. 0249. AI p. By J. In 2. It m. Elva. ING . No w. The . Give. A ch. “In . Acad. It i. Pred. She . AI c. It i. The . With. Kula. We a. We a. The . “The. You . Supp. If t. More. She . “In . As h. AI c. An i. The . Our . Livi. A ki. “In . The . If s. ” It. Kula. That. ING . The . Kula. Now . A bi. We c. AI p. Addi. Ethi. List. com/. com/. edu/. just. tech. com/. com/. com/. com/. art . com/. com/. Ethi. Depa. Cent. Webs. Teac. The . Addi. Addi. .. S. Work. Work. By: . |.... Date. Host. AI i. How . Find. In t. Toge. We e. Cale. Expe. Part. The . me i. - Ka. PO B. Delf. The . Back. Deve. The . And . A co. The . Data. Arie. With. Geer. But . The . Ulti. Thos. But . Afte. How . Arie. So a. Nowa. We c. So a. And . Do y. Arie. Prev. And . You . Nowa. With. Once. With. Arie. In s. But . Some. So y. Ther. That. Part. But . Then. So t. Is C. Arie. You . Sinc. As a. Inst. It i. Majo. We h. And . Arie. They. Ther. And . We a. We l. For . Thin. Ther. Answ. The . Geer. Firs. Then. For . This. We w. TU D. What. Arie. 50 t. Amon. How . Soft. If a. What. That. We k. This. In a. We d. With. The . It p. A wo. At T. On t. We i. So w. What. Arie. We m. In p. If t. But . By l. Tips. Wher. Arie. Thei. AI i. The . Ulti. I th. The . In t. That. This. Othe. Info. More. We r. AI t. Thro. Visi. The . May . ... . ..... Geer. ... . ... . That. Geer. ... . ..... They. So a. ... . It p. AI a. The . Arie. ... . .. M. The . We w. AI c. This. This. Rese. How . The . How . The . Facu. Nazl. Jord. Kari. Meik. Dmit. Syaf. Ibo . Asso. Elis. On g. AI-b. Even. Facu. Asso. Onli. DeMo. Kick. DeMo. Init. .. E. Dr. . Dr. . AI a. Krit. 'The. But . Read. Buil. Crit. Krit. May . Read. .. K. Facu. Smar. This. By c. What. We m. In a. We w. Pani. As m. An a. “The. In a. Whil. An a. Part. Rese. Mari. For . I al. I no. What. Perf. Mari. “I h. In M. Beca. The . With. Tech. “Wit. The . In a. An a. Limi. Yet . “Cha. Whil. In m. The . My m. Surv. A to. Base. Mari. I di. Othe. Ulti. That. The . Mari. Peop. The . Diff. Alth. “Dut. The . You . This. More. Acco. “Whe. For . By t. They. With. Valu. The . Mari. I th. In t. I ho. The . “Tha. It i. It w. Alth. Fort. Elec. Mari. Acco. Her . Acco. Toge. read. Mapp. read. We\\V. On t. New . read. Sand. view. The . How . read. Coun. Defo. Show. Fly . Mars. \"The. Impr. Chat. Howe. Mari. With. This. TU D. This. See . Smar. Conv. Keyw. Siri. Spec. They. Othe. They. Rese. An i. Rela. nl/v. eu/ . nl/ . Desi. Jour. Skan. Turn. Spee. Qu, . Conv. Comp. Looi. Pers. Inte. Elec. Buil. Info. Buil. Conv. Inte. Facu. [Col. Vish. ” (P. Colu. To h. But . A ne. Murm. They. And . Cut . And . The . Reme. You . 'TAR. I ev. In m. Desp. It a. Coup. We a. And . With. But . Oh w. Will. He i. He d. For . en... Read. Shar. This. Coll. “It . Opin. And . Opin. And . Opin. Opin. Opin. [Col. Chat. How . The . Prof. If y. ’ If. ’ In. ’ Th. One:. And . Phot. The . Monz. In t. ’.. . And . The . “Of . ’.. . Monz. Then. And . \"For. Monz. For . Can . Idea. That. ‘PhD. Monz. ’.. . The . It i. Curr. – We. – Di. View. Priv. Maga. scie. Subj. Facu. Shar. Crea. Prof. AI w. AI w. Janu. Reha. Coor. Card. Hear. Reha. Yet . In a. The . An e. At t. Arti. The . 7 mi. Comm. AI f. Who . ‘Sec. This. 'The. This. 'Bec. A ch. In T. An i. 'It . “It . You . This. 'It . Furt. ' Fo. “Wha. We a. As a. Fina. TIME. The . The . 7 mi. The . (Jos. Facu. Prog. 'Bri. Brin. UvA/. New . This. ‘In . In t. Acco. “The. The . New . Cons. Digi. The . Refr. The . “It . We a. We w. The . In o. “To . Beca. In 2. \"A l. Ther. When. "
     ]
    },
    {
     "name": "stdout",
     "output_type": "stream",
     "text": [
      "The . This. In a. Data. Anot. ‘We . The . It l. “If . Data. Digi. Alla. For . ‘The. 000 . ‘How. This. One . For . This. Some. We w. The . Toge. ‘We . The . Subs. Arti. This. “The. “It . The . ’ Th. The . ‘The. We s. Resp. When. At t. Than. Cros. The . Her . ‘We . They. The . If t. We t. Beum. ‘We . When. Howe. We a. Shou. Link. Anot. Thes. Beum. We a. When. So t. Pers. 'The. ‘It . Peop. ’ Be. ‘In . We u. For . It i. Alla. Unti. If y. Asso. Arti. 'In . Then. We w. Beca. xCur. Crea. By b. ‘We . Ther. This. In a. “The. ’ Fo. “We . This. The . Lect. Lect. It's. #lin. #dig. Dr. . Dr. . by l. http. Cha . http. Cha . http. http. http. http. Text. Bett. Spec. http. prof. http. Mode. http. ● Re. ● Ov. ● Me. ● Su. ask1. ●~ 1. ● Us. ● It. ● Im. ● Le. http. http. http. http. d/em. Some. Unde. ● Ha. … to. A tr. We v. We c. Curi. Curi. Time. http. or c. Facu. Scie. In t. nl a. The . Expe. nl s. ..... nl... Musi. Here. Whic. Lies. A gr. The . The . At t. But . De V. One . Amer. Acco. Het . Vari. nl a. en... The . With. The . UvA . Trad. Last. The . On t. ..... be... Last. Ralp. The . De V. Usin. In t. Self. NRC . They. The . The . Kenn. Dagb. They. Rece. This. In D. This. NRC . Gadi. Theo. Henk. Erik. Dani. Sist. Trad. Flor. Ralp. Jell. Iris. Jell. Kenn. Patr. Theo. Astr. Gadi. FNWI. Chat. nl r. They. But . Unli. Once. Afte. The . The . Euro. For . The . But . They. They. They. Glob. Unti. The . The . Beca. It i. That. 'We . Yet . It's. Whil. Big . Neck. In t. One . But . The . The . Micr. Comp. Chin. But . Pric. Bloo. At m. An a. Bloo. The . It i. And . With. For . Then. Hall. It w. Chat. Now . For . When. I ha. Desp. It's. It's. EU t. They. Mone. It's. For . It j. One . The . This. Wiki. “Thi. This. In h. For . Yes,. Euro. Van . One . Chat. Proj. In s. The . The . The . The . This. The . Proj. Open. Alep. Just. The . At t. At t. Ulti. Open. Acco. Alep. Toge. If s. Fran. The . It a. Ligh. A de. Late. Inve. Fast. Gamb. Newl. Trac. More. Inve. Newl. Dism. Six . Han . With. ‘My . What. I, t. Our . So w. This. With. With. We c. The . The . Tech. We u. But . Prim. The . This. We a. Anyo. What. Why . But . Pupi. But . In t. If y. And . It w. You . Ther. Perh. Perh. The . The . My d. Whic. Cour. We t. prog. Codi. It i. In 2. That. What. – Si. opin. Facu. AI e. Want. Are . ..... PhD . prom. co-p. co-s. +31 . Dr. . +31 . prof. +31 . Dr. . +31 . Sche. Cour. Curr. Jona. Prer. The . View. Insp. Read. Educ. Lear. Open. With. The . The . You . But . The . The . The . At t. Cont. The . It i. Fina. Stud. A st. The . This. At t. Belo. How . Tips. Ask . Can . You . If y. Insp. Then. The . Chec. What. Form. Try . Tips. Much. How . Stud. How . You . Deve. See . Read. Piet. On 7. Keep. Sche. Do y. Test. Cons. Acti. Onli. What. Piet. The . Winn. SURF. We a. The . Do y. SURF. The . Erik. Elyn. You . Erik. Elyn. Ria . Winn. 2nd . Winn. Winn. .. 2. .. W. XR I. → We. → To. →Wha. →The. → Tr. real. → Sc. fron. →The. → Cu. and . secu. → 3D. on t. → Th. XR I. We n. Ince. Educ. Mini. This. univ. to e. of o. reus. star. In t. that. sign. In t. die . proj. Proj. with. vari. how . XR H. upsc. the . othe. Educ. 2022. pick. And . rime. To e. we o. pres. runn. to s. We w. on t. sias. maki. offe. valu. we s. time. chal. The . deve. hope. cert. now . can . Proj. Open. EDUC. Enth. educ. futu. Usin. educ. XR I. mana. Stud. Prof. Swee. Proj. lear. Onli. Stud. VR L. VR Z. Stud. the . seve. and . The . edit. inte. cons. Casp. Deve. Advi. inno. in e. Lect. Deve. Spee. Stud. Onli. Amba. Gert. & Re. Trai. Real. tech. of r. and . gene. AR a. virt. MR g. inte. addi. of c. XR c. with. Thro. for . diff. VR s. very. iden. with. whic. can . Deep. Acco. VR L. educ. ving. crea. nucl. ” Ge. lisa. only. what. “Don. just. ofte. the . Yet . regu. and . befo. “You. a nu. a wo. imag. Coup. Acco. Leeu. reac. you . use . For . made. for . you . “Stu. exci. worl. John. take. be o. “Fli. and . Beca. for . can . You . esti. answ. That. fits. XR a. “At . And . Educ. need. • Th. • Tr. • Sc. A se. Gert. devi. tech. Virt. in a. regu. Keep. You . of t. when. In r. to r. that. Stud. need. note. Know. nine. at t. But . big . or s. The . is s. but . Want. We m. a to. ask . for . Read. Virt. RUG . prac. This. prep. indo. XR I. Stud. the . Feed. acco. For . VR m. ridi. “The. that. they. abou. firs. This. Also. job . “Bef. go, . prac. Max,. Safe. Dram. her . prac. virt. tech. gen . whit. “In . Does. whol. I li. to p. come. “A v. be a. Deve. Acco. abou. But . can . envi. and . Thin. arou. A vi. to d. A su. that. wort. “Tha. powe. leve. alth. buil. gott. Thin. When. and . At t. how . want. For . deal. Prac. The . ulti. Maur. ambi. prac. nurs. repl. step. “Thi. lack. due . How . In a. also. “Whe. work. expe. Vers. “Now. with. ever. is c. firi. a vi. “I g. my t. She . a vi. We h. knit. shou. had . When. ent,. Can . I ca. and . I wa. I he. in d. As f. inte. Clai. did . a co. inst. univ. DUTC. trai. thro. virt. Astr. “Act. as b. inve. I us. now . The . real. “Sit. peop. what. can . Timm. the . rout. “You. fina. to l. are . word. are . ” In. take. hold. One . tran. and . Read. Radb. whic. Dent. stud. choo. can . Beau. Devi. modu. incl. phil. “The. gen . Beca. and . prog. all . We a. with. says. John. stud. sele. “Aft. know. are . dent. You . with. Enga. Arno. “Stu. From. our . So t. luck. can . desi. Timm. stud. “I a. also. work. That. more. “It . stud. cont. of a. Timm. with. “For. of o. nen . afte. We f. then. Max,. We f. deta. As a. pay . What. do y. It's. to s. A go. exte. Stud. can . view. This. prev. “Som. clas. proc. From. As f. XR a. “Tho. ther. stud. you . real. Some. And . phil. beco. Dida. Walk. impr. to s. “Bot. insp. dida. hope. a pl. Less. and . “I p. plea. I ta. In t. actu. That. real. real. expe. Putt. it's. ”.. . In t. The . virt. deve. One . comi. scal. larg. van . Read. KANT. (see. visi. So f. proj. Scal. hard. Magn. “Our. Nurs. teac. it i. “We . Nurs. HAN . It a. trai. clie. low . Comp. Acco. scal. “Bei. some. For . quit. And . Beca. corr. And . are . lega. That. “It . a VR. have. App . Chal. Magn. “At . clea. maki. kind. The . orga. Tech. of t. Anat. “Wha. with. Prog. tomi. nike. Now . log . it's. get . with. or b. In t. stud. clas. vari. and . theo. • Sp. • XR. WELC. You . to e. enri. also. And . than. AND . a ve. acco. eel . inno. they. take. And . embr. Prim. thre. Part. to m. “It . deve. ” Th. educ. impl. “Via. loca. a wa. It w. put . let . XR I. That. at t. acco. “Whe. want. pres. Beca. to l. A ro. Casp. on b. “A b. to n. to b. XR o. expe. deve. plan. In D. peop. “In . went. show. ” Th. find. “And. work. Visi. In t. modu. acad. wise. trai. Acco. it i. “Our. esta. fram. by t. “Our. esta. an e. ever. “The. less. I so. stil. full. We a. they. We h. with. whic. But . apps. For . thos. So t. with. I th. woul. For . Yrsa. XR c. for . for . prac. offe. situ. repo. Heal. and . from. asse. the . CHAL. XR 9. deve. Belo. • XR. educ. Due . ties. to o. stud. situ. and . Stud. arch. crea. such. thin. heal. to c. to l. heal. phys. • XR. beco. issu. lear. inte. stud. incr. and . meth. XR i. for . avia. the . • Aw. inte. to b. • Pr. relu. ring. • XR. Acce. Euro. to c. • Th. espe. incl. And . rela. at a. • Mo. nega. rega. used. for . incl. logi. the . with. • Co. use . vens. enta. Guid. deve. in t. solu. The . “Dur. pack. thir. I li. do b. but . At t. I wa. I ha. Real. The . quit. buil. have. no m. For . I'm . I no. beca. stud. that. is g. Arch. comp. tial. be a. And . civi. Actu. don'. Bas . Inte. Stud. tion. a fi. The . KLM . expe. They. • Cu. Coll. educ. perf. are . limi. and . coop. Read. EN E. inst. It's. rath. a la. That. the . tast. “Wor. deve. And . with. We s. the . Cert. says. Gert. “Wit. buil. case. I wa. an a. clas. The . no p. Clea. Giny. valu. “Bei. we h. We u. coll. In M. Spat. idea. They. remo. down. that. XR I. Now . to i. more. work. It i. abou. we h. “We . Stim. Work. It r. and . That. to c. that. “At . that. If y. It i. and . stim. Larg. Harr. the . The . I li. wher. peop. want. even. all . test. “But. desi. and . date. For . Conn. Coll. is i. “We . many. to m. vacy. ” On. is t. “Whe. dam . ven . goin. We r. The . (VAN. derw. are . Safe. In o. trai. ity'. vari. At t. stud. Stud. nen . Lear. stud. crew. to k. "
     ]
    },
    {
     "name": "stdout",
     "output_type": "stream",
     "text": [
      "they. The . part. with. huma. Surv. Euro. XR E. The . peop. othe. shar. crea. “An . to e. Euro. to q. with. And . we a. Euro. Thom. The . It's. litt. “It . get . inte. own . That. facu. That. Acco. is c. “We . Deve. They. to b. We o. unfo. educ. ther. inst. “On . the . HAN . soci. ask . at t. Conv. New . Also. (HAN. each. it w. work. save. That. plac. Univ. top . univ. brin. retr. scal. It's. “It'. trai. issu. Advi. (SUR. to f. low-. “The. gica. to s. Also. and . Mana. The . the . enou. to b. time. “You. That. we f. XR D. At t. also. And . on t. ques. crea. “Bot. earn. atte. SURF. Coll. Belo. The . peop. virt. The . educ. The . a te. lear. Cont. The . Digi. comm. supp. • Th. XR i. abou. mode. in e. ethi. ESTI. of e. dent. (SUR. the . Acco. area. User. When. a wo. inst. we r. whil. gove. ” A . Big . are . A ni. “Sim. usin. comp. next. the . Very. quit. This. but . Drow. Your. Wher. trea. “We . beca. How . you . You . agre. regu. of t. “Whe. come. they. dete. In d. shar. can . Fort. Big . open. Stud. Coll. find. XR I. Ginn. happ. stay. “For. know. viol. Mayb. do s. covo. have. Invi. Acco. poin. VR a. as a. “We . in d. Citi. In t. educ. “May. then. ” Wh. are . acco. dent. prob. real. And . are . We d. the . “An . play. Euro. Ginn. can . “The. have. It w. poin. \" In. coul. ken . to E. “Tha. fact. own . of d. And . abou. non-. “It . way . and . Beli. Espe. of a. Walk. to h. “Bec. keep. want. For . thei. or m. For . dent. havi. reas. but . “We . stud. • Va. publ. • Im. thes. TU D. stud. tica. Stud. lize. take. ship. the . they. • 3D. • Th. XR i. educ. area. sphe. thei. Read. BOOK. for . Tech. a ma. “Fir. have. deve. up-t. Verh. offe. For . usin. unco. we n. 19 p. New . Harr. “The. decr. you . appa. a ne. ties. In t. XR I. Don'. That. Gül . “But. and . So i. late. exam. ente. We a. with. cont. “The. of m. Adde. The . (SUR. appl. cons. new . and . “And. to s. stud. Lock. each. For . a lo. “We . prim. educ. And . any . hand. ” Ve. Real. to t. swit. I al. log . and . “A l. one . The . educ. The . in V. insp. and . of d. The . is u. The . Stat. of s. In t. part. a dr. reco. Poli. Maur. woul. beco. This. part. ” As. In a. for . all . Arno. can . bein. adop. ” Fr. anyw. busy. the . “VR . a ve. trai. Akca. king. “How. rela. also. For . no g. and . That. agre. Comb. Thom. devi. for . “Spo. expe. main. stud. stop. can . they. be '. also. Ginn. tech. ther. open. Conn. incl. abou. stil. that. also. can . incr. And . it a. it i. log . The . worl. “We . worl. ente. The . than. XR i. no p. Anot. comb. wond. with. soun. stud. has . we h. Best. For . educ. “A v. You . real. Beca. peop. comb. best. At a. some. And . Ther. expe. Stud. and . such. a la. more. do i. time. Read. MOME. stud. what. In a. when. appl. That. of s. new . In d. the . of e. visi. be a. road. life. stay. Beca. not . And . That. ethi. all . It's. merg. book. good. comb. stak. year. to i. The . work. publ. XR i. Now . Gül . Seni. Anne. Sjiu. Josj. Nand. Desi. Free. Gül . Bas . Clai. Arno. Casp. Esth. Paul. Yrsa. Juli. Giny. John. (Hig. More. 3511. +31 . 1098. +31 . surf. Annu. Coop. 2/86. Repo. 1.1 . 1.2 . 1.4 . 1.5 . Repo. 2.1 . 2.2 . 2.2.. 2.2.. 2.2.. 2.3 . 2.4 . 2.4.. 2.4.. 2.4.. 2.4.. 2.5 . 2.6 . 2.7 . 2.8 . 2.9 . 2.10. 2.11. 2.12. 2.12. 2.12. 2.13. 2.14. Appe. Appe. 5.1 . 5.2 . 5.3 . 5.4 . Annu. 6.1 . 6.2 . 6.3 . 6.4 . 6.5 . 6.6 . 3/86. 6.8 . Sign. Repo. expl. acco. whic. This. The . For . In 2. 2022. prog. The . impl. orga. afte. The . a go. good. whic. Natu. carr. annu. revi. befo. memb. reco. of t. Fram. liab. appl. ener. empl. spok. The . serv. good. and . Abou. pric. to g. Para. orga. for . In D. Fram. In 2. Serv. 5/86. comp. risk. Thes. but . rese. The . supp. cont. ther. whic. such. in E. SURF. sanc. In a. fina. supp. • Me. When. That. afte. The . memb. The . upda. Duri. the . arti. reap. repr. last. The . In f. in a. the . on O. Ever. the . The . pion. In a. tran. Coun. To 2. chan. Educ. a qu. A re. that. The . is w. The . each. One . what. Ther. betw. The . prep. Maza. coop. appr. pay . The . coop. to a. gene. the . The . for . Afte. look. This. stra. In a. good. The . for . The . repr. is d. SURF. Dori. Repo. acco. the . This. Boar. For . Boar. In 2. with. In 2. new . coop. This. The . serv. Whil. In 2. serv. work. In a. and . the . Boar. An H. from. The . SURF. docu. As a. pers. The . way . The . elab. abro. In 2. show. soci. Empl. give. Ther. the . The . Got . Foll. mana. The . The . In t. the . the . can . The . Stra. Sinc. This. feed. esta. In J. Work. also. This. on t. An u. rule. when. The . (dra. The . work. Cons. Afte. from. The . esta. esta. This. fram. cont. SURF. evol. It i. is f. coor. Part. basi. the . addi. Prep. coor. In 2. repo. Foll. an a. agre. 9/86. At t. work. In a. grad. give. of t. All . LCPM. port. With. (fur. The . Inno. The . is s. The . dele. chai. Part. rate. (vic. of s. wher. foll. The . and . fram. proc. At t. and . peri. purc. exis. The . sign. The . Howe. much. So t. 1SUR. prog. that. form. The . Basi. o As. 10/8. 2023. SURF. inno. Also. the . annu. The . the . In 2. beco. A re. of C. Atte. The . that. That. thro. The . budg. gran. Both. Coun. • Ne. The . form. annu. serv. serv. Four. disc. of t. Foll. deci. This. it t. It's. to C. were. when. The . appr. Base. a fi. the . Digi. SURF. to t. mean. The . educ. empl. draw. For . 11/8. In a. of N. was . A su. to c. Afte. prep. prog. At t. beco. Mr B. to p. The . In t. qual. Bein. nine. In A. Coun. and . cont. As p. sati. In t. In t. Octo. Bein. held. to c. The . SURF. inst. beco. - St. - Wo. - Na. - CI. - St. - RO. inst. - Fo. - AO. - SO. 12/8. In A. Coun. It h. to f. appr. With. beco. memb. A ma. to r. The . This. devi. In a. 7510. Some. the . endu. The . SURF. Foll. aske. are . poli. It h. the . To r. the . we i. subm. agai. It's. SURF. poss. Ukra. To h. took. URAN. SURF. The . abov. to r. in t. This. cons. • Pr. real. tool. The . real. the . tool. In 2. This. asso. Nume. more. From. spec. two . The . know. For . comm. • In. SURF. acti. the . SURF. (net. NREN. of a. EOSC. real. impl. gove. (DMA. SURF. impl. memb. This. The . Have. A re. conn. cont. The . sea . SURF. EZK . stee. the . orga. SURF. 14/8. inte. SURF. teac. The . to r. core. Publ. to a. inte. onli. MBO . in d. Duri. for . stra. The . with. SURF. digi. four. valu. pilo. a me. high. the . Priv. This. purc. Alth. regu. conc. appl. prob. Schr. pron. was . This. supp. demo. occu. Poli. Offi. The . The . VH a. The . 15/8. Acce. ten . 2022. Repr. the . even. the . a la. achi. The . • In. Neth. • In. Stud. lear. prog. from. All . know. In t. prod. The . awar. SURF. Many. cont. Digi. SURF. subs. budg. OCW/. to i. This. The . set . In t. As a. Deve. of t. supp. This. 16/8. The . Data. Via . (rea. Mand. SURF. scie. defi. acco. Deci. tota. In D. esta. The . purp. In t. rece. Comp. more. The . roun. doin. - Ca. - Ca. SURF. At t. NLeS. Base. subs. In J. upda. The . draw. for . In 2. the . This. were. Ther. acti. enab. with. From. comm. vari. how . 17/8. As n. data. Both. open. The . of b. elab. Afte. dire. Also. coop. SURF. The . cost. That. supp. ther. Pica. In 2. talk. o Us. o Bu. o Co. o Re. o Pa. o Re. o Co. o Ma. o Re. o Re. o Re. o Us. o Ev. o SU. o An. o Re. o Di. dete. elec. SURF. SURF. acro. shar. SURF. offe. SURF. to c. comp. In d. chos. brou. cont. A co. de d. A de. can . Both. acti. inno. 2.4.. The . asso. ); t. Coöp. SURF. the . The . regu. gove. The . for . to t. exer. All . SURF. of e. • Or. • Or. • Or. Each. show. Dutc. Visi. work. stro. SURF. expe. teac. A Sm. the . The . the . belo. The . - Th. - As. Netw. Trus. Rela. At t. pers. That. pers. and . Boar. Mana. Team. Tota. Rati. 20/8. serv. Recr. This. Ther. comp. Desp. find. (inc. part. howe. Inte. comp. We k. Sect. visi. In 2. deve. prog. The . (tec. know. The . a ce. vita. proj. We w. • Th. depu. arra. work. The . (HR). Base. form. HR h. take. carr. moni. exch. soci. staf. pub . The . coul. The . in l. Sick. Alth. abse. Much. to a. sign. 21/8. The . brou. has . coul. incr. The . call. used. The . Orga. and . Mult. bett. back. cont. SURF. empl. Pass. Nice. Our . for . and . Thro. to i. info. exis. - th. - th. - th. towa. only. In 2. resu. Alth. clos. The . volu. The . lowe. posi. futu. "
     ]
    },
    {
     "name": "stdout",
     "output_type": "stream",
     "text": [
      "In t. risk. Thes. miti. 22/8. The . This. decl. inno. prob. conf. Exte. SURF. .. I. coop. With. memb. C. S. The . Port. eval. regu. star. D. S. the . cons. with. ease. Moni. occu. ad E. work. This. The . Inci. 23/8. rate. gap . Alth. that. vaca. This. serv. tigh. SURF. Of c. corr. In 2. In a. To t. (Maz. cost. In a. (inc. for . The . anal. to t. orga. of w. The . exis. All . made. some. meas. gesi. Frau. Frau. as a. fina. resp. to t. prev. (rep. frau. This. dete. expl. will. coun. More. frau. 24/8. Cont. the . work. (the. The . proc. Only. paym. prev. Thes. obli. fina. SURF. inte. meas. In a. good. A li. SURF. data. In a. SURF. For . of t. comm. Esta. Frau. part. only. 2023. The . Natu. Ther. occu. The . inco. Agre. serv. Inco. memb. ther. Give. SURF. with. With. fina. deri. 25/8. sell. SURF. ensu. legi. This. 1) t. comp. 2) t. cont. - Su. SURF. leve. midd. The . serv. The . of t. SURF. cont. be c. The . safe. majo. For . acti. The . 84% . In m. unde. curi. trus. term. help. In 2. with. expl. A pl. appr. the . Thro. and . To b. invo. SURF. SURF. of t. In r. inap. 26/8. A re. SURF. cond. vari. For . SURF. In 2. Busi. At a. CSC . - Yo. (for. Mana. rese. busi. The . rece. With. copy. Prev. The . adop. port. On t. of t. gues. On t. deve. supp. The . desc. case. if i. The . furt. expe. This. the . beco. for . This. reac. To m. come. In D. set . majo. The . fram. The . AI r. Chat. SURF. 27/8. like. Howe. a hy. SURF. We a. Coll. Of c. SURF. with. and . A pi. key . The . SURF. In 2. we r. sust. (CSR. SURF. furt. SURF. prin. sect. .. S. sust. SURF. This. been. many. revi. (Cli. ecos. When. circ. This. This. use . As a. orga. Digi. afte. ener. We a. foot. reus. A ne. The . SURF. In t. work. When. clea. 28/8. disp. SURF. in t. thro. empl. we a. star. (own. cust. SURF. From. was . SURF. In a. atte. We a. and . We w. (see. In 2. sust. Publ. Publ. For . As a. tran. This. core. annu. In o. SURF. Our . sets. SURF. has . digi. For . othe. In a. 'Buy. soft. This. A st. base. way . to p. Sust. 29/8. The . pres. SURF. pose. A se. deve. does. are . If w. incl. furt. offe. reco. ther. afte. prov. orga. memb. to g. prog. subs. The . Alth. to a. Alth. abse. All . no r. Beca. netw. oper. In a. take. Firs. supe. ener. SURF. ente. Seco. of t. This. by p. serv. Or a. phas. If t. well. phas. curr. 30/8. In 2. With. Duri. work. All . a ne. serv. our . The . the . reco. This. Dire. In O. este. She . a fa. Her . cont. We a. shap. We a. conf. have. From. fine. From. comm. CISO. Our . Comm. We l. from. You . You . We s. ever. extr. Anne. The . of t. This. conf. comp. The . In 2. Name. Dore. • Ch. • Ch. • Ch. • Ch. data. • Me. • Ch. • Me. (Edw. Cent. High. • Co. Sieb. (Dor. Oper. Proj. Rijk. Lyce. (Sas. Digi. Hosp. o Me. o Ch. • Me. • Me. (fro. (Gab. MUMC. • Me. • Me. Appo. Thes. spec. resp. The . deci. fina. repo. 32/8. comp. o Al. o Al. and . Supe. Stra. Extr. Self. AC R. RBIC. 1 In. meet. chai. In a. took. In a. Hous. prop. The . reap. This. proc. date. term. Chai. (Har. Supe. (Edw. Supe. (Dor. Supe. chai. (Sas. Supe. (Gab. 2 Th. Appe. The . the . Chai. Boar. (unt. • St. Supe. memb. • Me. Insu. • Me. Memb. • Ch. • Me. • Me. • Me. • Eu. • Me. Memb. • Me. • Me. • Me. • Me. • Bo. • Me. • Kn. • Bo. • Me. In 2. and/. Posi. VZ E. (Jet. Exec. Exec. R. M. The . repr. conc. to r. In 2. no d. Natu. appr. appr. appr. In a. (for. Nati. topi. inno. serv. IPv4. reli. Fina. and . 5.3 . In J. came. The . term. reas. To t. one . prov. the . appo. memb. achi. regu. part. repr. that. rema. (whe. rema. memb. 35/8. part. The . memb. • Ap. (Agn. (Wil. Mart. (Jos. UMC . M. (. Radb. • Ju. (Jan. M.J.. Berg. R. (. (Fre. as a. Prof. The . H. (. of t. voca. (Han. The . (Han. of t. voca. AH. . Smee. .. T. (leg. end . (nat. (1st. meet. HBO . Camp. Zout. HBO . HBO . Verb. HBO . van . HBO . HBO . Reul. T. K. HBO . Grim. HBO . MBO . Kost. MBO . Gron. Othe. van . Othe. de K. van . Coun. stay. 36/8. UMC . Kurs. Polm. WO E. van . WO O. WO R. A. M. WO U. Biem. WO D. M. v. WO E. Humm. WO L. M. R. Univ. Bos . WO U. M. v. WO U. Lint. M. R. Buch. WO V. 202 . (for. EUR . Fixe. Inta. Tang. Fina. .. 2. Curr. Rece. Rece. Clai. taxe. Subs. Othe. prep. Cash. .. 1. Tota. Grou. Prov. Long. Inve. Shor. Paya. Debt. Debt. taxe. Othe. liab. Prog. .. 1. Tota. 38/8. Subs. Netw. Lice. Coll. Othe. .. S. Cost. Medi. Prog. Oper. conn. Cost. soft. Pers. Gene. Depr. .. S. Bala. Fina. Resu. Taxe. Resu. ... . EUR . Cons. Tota. Tota. 39/8. EUR . Cash. Bala. Adju. • De. chan. • Ad. • Mo. • Mo. .. C. • In. • In. • In. .. -. Cash. Inve. • In. • Ta. Dive. fixe. Move. .. C. .. C. Chan. 40/8. Cash. Chan. Liqu. 6.4 . • Ma. Coöp. To t. belo. the . and . netw. SURF. deve. SURF. nego. SURF. inst. supp. tend. In a. in t. univ. also. supp. Thes. endi. • Ap. The . Civi. The . liab. Thes. goin. With. prin. This. to m. This. 41/8. In t. cate. is r. Fina. Turn. Cost. medi. - co. medi. - SU. medi. The . to m. Unle. valu. econ. can . A li. it i. embo. can . econ. redu. Expe. pote. obli. and . tran. asse. the . econ. 42/8. fina. The . make. repo. The . outc. The . assu. Revi. reco. impa. Duri. occu. syst. The . grou. Grou. B.V.. a po. poli. Dive. cons. In t. elim. The . full. If t. non-. poin. Fina. the . deri. Furt. subs. ente. Prem. cost. acco. long. Deve. Proj. manu. They. The . amor. The . the . The . 43/8. Not . amor. form. The . amou. The . capi. that. SURF. valu. The . depr. offi. depr. The . perc. furn. For . depr. base. depr. Depr. on t. depr. Prep. Prep. Part. exer. net . coop. Part. valu. Part. are . are . An a. ther. asse. Ther. occu. that. impa. paym. unde. debt. effe. are . asse. Of a. rece. All . spec. asse. esta. to i. risk. tren. obli. The . curr. actu. cost. pres. the . Loss. inco. and . the . reco. redu. the . The . asse. the . expe. valu. impa. reco. Avai. real. 45/8. Rece. Afte. rece. impa. Fina. equi. net . to p. fina. the . Stat. nega. Stat. esta. The . the . .. S. A pr. • A . Past. • Of. • It. is n. like. prov. are . The . are . are . If t. the . When. a th. are . capi. Curr. curr. init. inve. grou. As f. gran. incl. 46/8. stat. futu. Gove. date. prog. incl. prog. the . resu. peri. inco. The . serv. Gove. unde. The . gove. prog. The . netw. fiel. The . conn. serv. have. The . netw. in w. Inco. when. when. the . Norm. paid. 47/8. The . serv. turn. at t. The . peri. Othe. Cont. shor. Thes. cred. is d. The . what. Top . For . and . gene. In a. Supe. in a. dete. The . deci. The . peri. As f. prem. the . accr. or o. liab. ther. amou. Whet. addi. the . comm. The . of t. to b. reco. the . 48/8. (pre. Thes. pens. Reco. cont. othe. and . The . 120.. The . PNO . Toge. As o. incr. 15.5. Taxe. taxe. The . incl. equi. proc. tax . tax . the . tax.. book. tax . The . that. temp. Defe. repo. rela. The . The . cash. Cash. conv. Exch. show. Rece. inte. Divi. The . incl. The . dedu. Tran. cash. incl. as a. fina. an e. 49/8. The . trad. Inta. Deve. Conc. .. T. Bala. • Pu. • Ac. impa. • Bo. .. C. • In. • Di. • De. • Di. • Ba. Bala. • Pu. impa. • Bo. tang. Buil. Comp. Tech. Othe. 52/8. inve. reso. EUR . Bala. • Pu. • Ac. • Bo. Chan. • In. • Di. • Di. • De. • Ba. Bala. • Pu. • Ac. • Bo. Buil. Coop. has . of l. This. fina. Fina. Stic. inte. Both. 354.. This. depr. A de. In 2. as a. The . taxa. Part. Fina. Depo. Defe. Kost. Rece. Amor. Less. .. T. lice. The . char. a hi. The . Rece. Rece. Clai. The . supp. Thes. Thes. Abou. no i. Tax . Corp. 1,96. Subs. The . 1 Ja. gran. Subs. NWO . Othe. 18,6. .. T. indi. Othe. Prep. Inco. Othe. Othe. 14.3. The . doub. The . pens. Liqu. Bank. .. T. term. For . comp. In 2. In t. cost. plan. the . In a. In a. hire. Bala. With. Bala. Debt. The . lice. The . Debt. Paya. Tax . Sale. Paya. Othe. Shor. Lice. Vaca. Amou. Equa. Net . Othe. 74,5. Inve. in p. 1 Ja. ting. caug. Inve. Usag. Comp. mean. 17,3. The . 1 Ja. Tota. Non-. Shor. 58/8. lice. were. Thes. Prog. The . the . 1 Ja. NWO . NWO . NWO . NWO . NWO . NLeS. NWO . Npul. Inno. Coll. Cont. Acce. HOSA. OCW . ICT . 2018. OCW . 3696. OCW . Othe. 27,8. Fina. With. inst. Thes. Expo. liqu. To m. proc. and . neit. sell. Meas. whic. This. cred. As a. of w. tran. and . ensu. Asse. • Fi. form. for . comp. fisc. The . The . is t. The . floo. The . serv. The . 000 . year. Bank. Agre. "
     ]
    },
    {
     "name": "stdout",
     "output_type": "stream",
     "text": [
      "coup. The . four. In a. fibe. This. of s. 60/8. cont. The . amou. .. •. A mu. The . The . the . The . 15 y. acqu. user. char. In t. year. SURF. have. Ther. beca. In p. ther. In t. Arnh. The . forw. In 2. agai. This. the . cont. Vari. Ther. conc. The . ends. Expl. The . Subs. Subs. EU g. 62/8. EUR . Educ. With. Acce. gear. Supp. supp. Prog. the . EPIC. high. FAQ . ... . SURF. The . Acce. and . The . diss. The . inte. orga. we a. In J. The . High. • In. the . • In. van . stee. • We. crea. • Bl. To t. To h. tips. • Th. • Th. of t. 63/8. This. with. All . set . can . This. it w. The . of t. From. Of t. 17.5. The . In t. assu. The . pass. inno. Netw. The . Tota. Less. .. T. on n. Lice. The . Cont. Medi. Serv. .. T. Less. Turn. Less. 65/8. Turn. Less. Coll. The . Univ. High. Seco. Non-. To p. The . Cost. The . EUR . Serv. Subs. Othe. Resu. Pers. The . Wage. Soci. Pens. 39,1. Outs. Othe. Rele. ... . At t. This. Mana. Team. .. T. Over. The . Hous. Offi. Auto. Cost. Conf. Othe. Depr. Inta. Conc. inte. .. 1. Tang. Buil. Comp. reso. Tech. .. 9. Tota. Rele. 5,31. Fina. Inte. Bank. Exch. Paym. The . 245,. Resu. Add:. At: . Taxa. Less. Taxa. In 2. a ta. This. set . 2019. 2020. 2021. Chan. Paya. Muta. as a. This. is m. Nomi. Chan. Othe. Tran. Tran. part. As o. audi. The . subs. 2:38. Acco. Exam. Annu. Othe. Remu. In t. paya. an a. amou. The . fall. is a. made. info. For . gene. amou. For . maxi. In a. clas. as d. The . the . Seni. with. amou. Job . Comm. 31/1. 31/1. Scop. Empl. Remu. Remu. Subt. Indi. 216,. -/- . amou. Remu. The . why . N/A.. undu. N/A.. amou. Comm. 31/1. 31/1. Scop. Remu. Defe. Subt. 209,. 71/8. Top . amou. van . Job . Remu. Indi. maxi. N/A.. why . allo. Remu. 72/8. amou. Vlaa. Job . Remu. Indi. N/A.. N/A.. N/A.. Remu. Indi. 73/8. Tang. Fina. .. 3. Rece. taxe. Subs. accr. Cash. .. 7. Tota. Equi. Gene. Undi. .. 5. Amen. Debt. Liab. liab. taxe. Rese. .. 5. Tota. 74/8. EUR . Subs. Coop. Othe. Tota. Proj. Pers. Offi. Depr. Tota. Bala. Fina. Resu. Resu. Resu. Tax . Resu. 75/8. Inso. are . bala. From. to c. As a. the . .. P. thos. next. The . of t. Resu. tran. have. cons. are . the . Buil. Tech. 76/8. Buil. Equi. Bala. • Pu. • Ac. • Bo. Chan. • In. • Di. • Am. • De. • Ba. Bala. • Pu. • Ac. • Ca. Fina. in U. Cons. SURF. 78/8. cour. Net . Resu. Net . .. I. Defe. Defe. Amor. Thes. Corp. gran. 18,6. Bank. Depo. 54,2. The . The . bank. dura. The . rese. resu. Posi. • Re. prev. • Mu. rese. • Re. • Re. Stan. 80/8. (BWN. main. rese. EUR . Bala. • Pr. Bala. 81/8. whic. Move. shar. Bala. • Pr. Bala. SURF. the . This. SURF. adde. the . As o. addi. As o. amou. actu. Any . cost. inso. The . set . Bala. Bala. 82/8. Bala. • Pr. Bala. Undi. for . For . 2022. appr. Debt. Debt. The . debt. Othe. Rema. Item. VAT . 12.7. Fisc. toge. corp. Each. liab. comp. note. 84/8. cons. Shar. This. Net . is p. 29.4. Coöp. Stat. Rese. Othe. Netw. Gene. Gene. Tota. .. T. equi. Sign. de R. Augu. van . van . Boy.. Vlaa. Maza. Maza. 2440. 3001. T: 0. Inde. To t. Stat. We h. chec. In o. of t. true. Dece. the . semi. The . 1. d. 2. d. 3. t. othe. The . The . pay . We h. rega. As a. dete. We c. cont. Our . are . We a. as r. acco. assu. We h. We b. judg. Info. We h. in i. The . judg. Frau. As p. the . to f. We e. mate. We h. iden. Frau. The . due . subs. Ther. the . acco. and/. We h. ● th. eval. ● th. We h. perf. proj. In a. wher. audi. subs. The . serv. SURF. serv. Ther. betw. SURF. The . reve. to c. wher. by t. SURF. exis. perf. oper. We h. dete. is p. has . The . They. acti. Cont. The . acti. Our . incl. ● co. amon. year. assu. ● Co. may . ● ev. peri. taki. oper. ● an. enti. ● in. of t. Our . assu. goin. Comp. In a. in A. This. by a. seni. Stat. In a. ● th. ● th. Exce. sect. work. ● is. ● co. We h. from. With. Thes. to t. The . mana. Desc. Resp. The . in a. In t. deem. mate. When. to c. Purs. mana. inte. term. The . comp. The . fina. Our . Our . ther. Our . We m. Miss. deci. The . timi. devi. We h. prof. audi. Our . incl. ● id. incl. audi. basi. In t. beco. Frau. will. brea. ● Ob. sele. acti. inte. ● ev. eval. appe. ● de. Also. ther. busi. If w. mate. rele. If t. we a. Our . obta. Futu. circ. ● ev. expl. ● ev. We c. and . Sign. We c. adhe. We a. rela. rela. Utre. Maza. DPIA. 3511. More. Sand. www.. 4 / . 0.5 . Cont. Diag. Supp. Webs. The . Tele. Data. data. Data. Anon. Cont. Diag. Zoom. Zoom. Figu. Figu. Figu. Figu. 114.. Tabl. ●Dia. Cont. As a. Ente. Cont. • Mu. pers. Diag. docu. out . subj. Umbr. data. “Com. ● Us. ● Mu. ● Zo. Wind. Andr. exte. data. limi. limi. Diag. of e. or c. cate. Use . Supp. cont. as d. cust. defa. cont. Diag. ● Mu. data. data. Part. data. 25 /. Cont. qual. colo. o Em. o Us. Diag. time. o Ev. o Cl. ● Zo. ● So. ● pr. Zoom. AWS). ● Op. ● Da. 36 /. The . Mode. desc. June. ● Zo. to s. avai. iden. port. Lega. pers. Tech. The . o Us. By d. User. http. zoom. 3bdD. \"cli. \"cli. \"cli. \"eve. \"sub. \"uui. \"eve. \"mee. \"sub. \"uui. \"cli. \"eve. \"eve. \"sub. \"uui. Cont. Data. seve. data. adeq. admi. 49 /. ReCA. Zoom. priv. part. pers. Cate. spec. such. Nati. Subj. sens. to e. Zoom. Cate. Data. admi. us/a. meet. ● Re. spec. ● Li. Figu. http. ques. Use . Do n. defa. Mute. 64 /. meet. us/a. http. Purp. prop. secu. Thes. The . guid. Comp. Bill. date. swas. aggr. Zoom. a da. For . prej. 2022. Stat. resp. Webi. Zend. Phil. One . equi. some. comm. 2022. The . Tran. Nove. onli. 126 . sign. Requ. Pres. The . tran. emer. 1233. 164,. comm. prov. a ju. or D. subp. (335. requ. loca. URL:. Data. Inco. comm. Zoom. 2020. 1923. syst. tran. ●Sin. Stan. 2022. fina. prop. resi. http. elec. http. ntee. http. data. equa. assu. Whil. http. http. Ente. The . pers. http. join. gove. inve. 205 . proc. proc. Tech. reco. (pos. exce. Zoom. Febr. fram. data. elec. rete. Data. medi. Priv. Zoom. Diag. Meet. Syst. That. navi. data. upgr. 122 . impr. and . Purp. prin. (Art. As d. data. data. pers. cent. Upon. Zoom. ” (A. priv. The . For . 136 . • di. • fi. • re. pseu. 139 . acce. Zoom. webs. 1,2,. 4,5,. Remo. Risk. spec. • Mu. • Tu. labe. Diag. all . subj. HOSA. Date. FRAM. SECT. doma. 1.1 . 5.5 . mana. Thes. A ri. The . Exam. Exam. prog. Just. A ve. into. acqu. issu. digi. at l. uniq. at v. stud. comp. pers. for . The . Each. Ques. has . gove. Exam. 12 h. prio. For . pers. Duri. prop. Sove. Deci. get . pers. Rele. • La. O pe. appl. stud. sign. The . Cred. 20 h. a co. Exam. enro. In T. Thes. futu. faci. Keep. gove. veri. A co. Data. leak. Unli. Expl. 9(2). Stan. exce. Anne. Anne. - Ma. - Ca. - Mi. - To. - Me. - Ma. - St. - Ma. - Fe. - He. - Ja. - Al. - Jo. - Ja. - An. - Re. - St. - Jo. - Je. - Ni. - Me. - Al. - Bo. - An. - Ji. - Ch. - Er. - Ba. - Jo. - St. - Ri. - Mi. - Fr. - Nu. - An. SURF. TNO,. Regi. A go. Inte. To r. .. 2. iden. Priv. appl. impl. 33 V. 35 S. 36 S. 42 w. Virt. http. 42 S. A fe. 'gue. (Sou. a un. (Sou. Cred. (Sou. Such. veri. SURF. Arti. near. SURF. Thes. thic. mode. in a. a co. Thes. The . gene. #Dat. #Glo. SURF. ARTI. new . to e. comp. mode. gaps. Deep. labe. A si. open. #Int. #Ope. acce. comp. cont. data. ODIS. This. soci. Demo. sign. tran. newc. #Dig. #Inc. and . Low . comm. #Res. #Dat. #Con. open. Matt. Prog. matt. Dami. dami. duuk. Bert. This. equi. SURF. #Con. Code. gene. EXTE. expe. plac. virt. Remo. #Int. #Res. more. norm. open. to n. #Dat. XR t. Thes. prov. larg. Thes. and . conc. simp. VR -. #Ope. ACT . requ. unst. deve. deve. john. Seni. paul. casp. Caro. Matt. more. 5 Ni. Morg. http. \"Art. http. AIma. 4 (2. \"Art. 1 (M. 10/4. 1 (M. 1 (M. 24 B. 28 C. 2 (2. 31 C. 2 (2. 1 (M. 34 C. 5 (D. 64 h. http. ALEK. http. http. (Alk. 16) . http. (lin. http. http. All . http. http. http. http. http. http. http. http. http. http. http. http. http. http. http. http. SURF. Arti. →Mor. →Mor. →New. →Tow. Arti. Inte. lear. wing. This. impr. beat. with. gene. howe. abou. AI s. AI t. the . as f. undo. a so. ML i. This. late. With. is A. conc. can . are . educ. howe. as i. soci. AI i. syst. with. by t. calc. It i. rega. tech. comm. to f. Arti. SURF. Foun. The . capt. scal. rang. Thes. abil. appl. mode. Earl. thro. that. buil. comb. mult. mode. are . info. Sett. mode. trai. The . on t. to g. can . Swis. and . unlo. open. Auto. skil. Reli. info. | De. Sust. Huma. #Int. #Dec. ARTI. Thes. pres. educ. syst. "
     ]
    },
    {
     "name": "stdout",
     "output_type": "stream",
     "text": [
      "addi. mati. and . mode. poss. mode. the . prob. Non-. thes. incr. beco. Ther. that. thre. expe. pre-. will. Deep. Flam. deve. It c. lang. rega. Flam. a fe. It's. swit. vide. This. in c. educ. Mult. The . extr. labe. is p. work. lear. We c. comb. know. ring. mult. open. Phys. For . laws. of t. redu. That. auto. for . trai. AI S. As t. syst. impl. equa. data. and . By e. cons. larg. econ. mode. know. in a. A re. emer. netw. prom. clas. fewe. This. insp. redu. and . shif. to t. The . cert. deve. open. skil. More. of A. maki. have. to A. In a. the . adva. and . new . poss. hard. Grap. GNN . data. The . The . but . send. natu. Towa. With. repr. to t. deep. Sinc. many. effi. open. Fede. In a. heal. cruc. to h. This. netw. part. mode. have. data. Cent. is n. comp. exce. wrap. from. This. thro. lear. eith. data. and . to a. is r. The . trai. mode. to g. less. This. orga. of d. the . skil. #Pri. econ. #Aut. This. oppo. so f. make. data. heal. By f. rese. lead. risk. data. Zodr. and . Synt. prot. trai. for . gene. of t. Synt. Anot. seri. This. alre. tic . If t. can . an e. Thro. secu. made. This. to p. soci. open. Ethi. With. of A. AI a. Thes. topi. resp. Ther. but . rele. Euro. The . tati. to m. acco. reli. Comm. stre. With. come. tech. addr. Fram. basi. A st. ity,. ing . Demo. more. stan. help. educ. of p. pers. skil. Demo. #Eur. tech. #Glo. gove. #Dig. Comm. Larg. sear. like. by m. rese. Thes. also. for . coll. nal . Reli. all . sear. Form. of g. prof. and . use . to c. of A. with. with. Algo. To m. seve. the . give. In t. beco. shar. of t. the . Stan. From. engi. Simi. soft. led . enab. Stan. to a. for . prom. With. infr. Diff. task. clas. fiel. no-c. Then. mode. AI m. econ. dig . tool. AI s. at l. Sinc. depl. envi. in t. The . abst. appr. to c. skil. know. Howe. a tr. the . and . thes. Auto. skil. #Res. #Dat. #Con. This. cuts. comp. at t. from. irre. due . guid. lear. cons. The . AI m. know. were. Towa. Rela. plat. and . a go. AI m. Thes. also. Mode. An i. scie. part. to a. This. depe. of w. auto. to l. Like. fram. can . open. More. Prog. Advi. Proj. SURF. TECH. As a. for . faci. In a. This. Toge. inst. We s. With. Jet . Ron . →Dri. →Tow. →Mor. →New. get . →Mor. →Dig. →Act. →Run. →Ene. infr. →Sov. prot. →Unc. area. →Qua. →Hyb. →err. →Qua. →Big. →Int. →Enr. incr. →New. →An . →A f. One . be a. That. way . This. help. find. We h. has . Lay . the . We a. We i. not . We i. You . abou. Firs. repo. Gart. to i. We h. We e. In a. For . coor. To h. heal. This. ways. Cent. vens. exce. More. This. GDPR. The . This. skil. econ. Arti. Tren. Exam. Read. Navi. Navi. Read. Self. pupi. pers. Inde. of e. of e. educ. Prof. read. Inte. Equa. Equa. info. Self. Resp. alit. SURF. orga. The . fram. valu. We h. esta. The . Driv. chan. To b. That. • Me. • Da. • (C. • Co. • De. • Au. tech. • En. • CO. • Bi. • Cl. • Di. • Ci. • Gl. • Op. • Ri. • Pr. • Ge. • Re. • Li. • Di. lear. This. the . AI i. As a. With. Inte. as i. AI i. This. Stan. Thes. “Fra. that. Inno. Mode. Inst. Thes. The . can . Just. educ. mati. Thes. As i. Non-. Cont. beco. Ther. We e. It c. Flam. The . in c. The . The . work. We c. ring. laws. In t. appr. This. Due . At t. know. A no. that. In a. shif. The . Just. of A. Indu. adva. The . Howe. GNN . wher. The . natu. repr. Sinc. This. ways. is n. More. desi. This. or b. GDPR. Just. have. heal. By f. Howe. Once. trai. This. seri. This. If a. High. This. of A. Thes. Many. reli. hone. This. With. Fram. This. Demo. educ. Just. gove. like. Thes. BLOO. Form. Suff. seve. In t. Publ. stak. From. As w. Stan. This. Seve. Whil. cost. tool. Sinc. Usin. Howe. Just. #Dat. cuts. Rese. The . of p. plat. Thes. scie. This. Inst. Such. Advi. Proj. →Dig. →Act. →Rob. Edge. It i. In s. work. call. In r. On t. In t. As g. The . More. Clou. In t. In t. The . It i. This. thro. Fina. gies. thro. Edge. SURF. How . smar. The . to i. Exam. Cont. More. the . can . Alth. As c. from. This. Auto. skil. #Con. #Ene. A co. Take. Priv. devi. By p. On c. rato. With. sear. syst. Rese. of e. One . Usin. The . amou. Thes. Why . rely. In s. need. When. open. Simu. Simu. The . mech. A di. virt. a pr. For . of a. With. Digi. Anot. That. This. twin. skil. #Con. Digi. supp. In t. trai. Digi. Digi. way . Usin. Digi. are . task. Dest. crea. The . Digi. Rese. cont. The . open. What. mean. Univ. to m. Real. on-c. to s. Thre. prov. and . data. The . Soon. maki. real. Auto. Huma. #Sma. Real. keep. If i. In t. A po. no i. Rese. sear. For . imag. Real. span. Rese. moni. This. The . data. In l. make. With. Publ. skil. Huma. of K. In c. appl. Gart. In t. ling. deve. the . perf. This. As t. At t. oper. runT. #Dec. This. how . They. Thes. Howe. Usin. repr. Rese. for . In t. gie,. impr. In H. to D. no a. and . Usin. edge. Cont. even. This. Clou. Comp. perf. The . beco. Robo. plac. Phys. time. mowe. Yet . This. For . auto. skil. Huma. #Aut. The . Robo. easi. This. robo. In b. teac. In c. From. In l. In a. Cobo. to b. Safe. Will. Robo. work. The . Func. cont. erik. Soft. Advi. Maar. Aaro. →Hig. → En. →Pro. →Unc. Solv. one . on a. work. We l. Over. This. But . deve. Thes. acti. For . Ther. expe. Some. SURF. cont. Appl. obse. prot. high. and . The . It a. part. See . Orde. A re. 10 t. eart. skil. #Dat. #Car. #Ene. Data. extr. Need. visu. This. abil. In a. Futu. to u. demo. Work. peer. Urge. Disa. Fede. Real. (Edg. Stri. Clim. carb. digi. The . adva. an e. ener. We s. awar. We a. and . Huma. #Ene. #Cli. Elec. spac. Due . who . They. plan. Impr. Fund. poli. This. Ener. Digi. Neth. open. Auto. Inde. Just. Huma. prot. Geop. wide. supp. The . towa. logi. Set . clou. #Dat. #Pri. Law . The . sove. give. tech. Howe. Firs. Tech. Seco. Howe. Thir. Let . To a. In s. thes. ture. At t. wise. Conn. open. owne. tion. The . dema. expe. ring. This. A po. scal. It i. tech. Semi. tran. Emer. open. non-. to a. quan. and . way . and . It a. Just. #Int. #Aut. and . Our . Unde. know. to p. This. Fina. Quan. FPGA. open. open. open. Incr. reso. arts. comp. An i. comm. pen,. They. This. that. In a. form. open. Auto. skil. #Dat. nomy. For . shel. Prom. the . Stra. Over. digi. Obta. rese. & co. Vale. Kees. →Nex. Netw. Fixe. esse. Netw. The . Inte. Toge. know. With. Nati. Comm. Thes. clim. In a. comm. tack. The . Some. diff. In t. and . stru. are . SURF. The . sove. TNO . stre. Thes. netw. Big . are . acqu. Alth. of c. Big . Broa. king. Auto. want. #Ope. #Dat. Big . prov. Rese. Ulti. Inde. acce. Big . deve. Big . Face. tran. A jo. trus. open. Over. netw. With. serv. expl. Netw. In a. To m. This. Inte. Thes. modi. Netw. need. #Dat. Inte. such. rati. This. serv. The . and . The . enab. Howe. Due . Prog. Clou. Clou. hand. Crea. Seve. CNaa. Deve. Prov. Camp. a kn. At t. As a. logi. Exam. #Aut. This. to f. lyin. The . This. serv. More. occu. Edge. This. mult. The . The . edge. The . Netw. The . gene. Nume. that. Nati. Exam. sens. This. ders. SKA:. The . It i. pipe. NREN. Auto. of e. #Con. Larg. enab. comm. acce. Glob. the . Inte. annu. HL-L. asso. The . need. The . tran. open. Huge. By t. new . New . Ther. open. The . Seve. More. Netw. migi. Tech. Paol. Ivan. →Qua. →Hyb. →Err. →Qua. Ther. dist. In t. Quan. Quan. proc. Thes. ntia. Curr. are . They. NISQ. In g. comb. This. Quan. To m. We h. what. SURF. Quan. Quan. meas. Thes. Its . Cert. Due . quan. In t. Quan. Quan. Enta. am t. The . Quan. feat. A fi. can . Once. cabl. The . That. Quan. Quan. of s. The . to d. meth. a sh. prod. Unli. QKD . But . Curr. In a. key-. skil. #Cyb. #Res. A $2. Acco. Cryp. open. QKD . impl. The . logi. The . With. In a. look. This. Thes. Quan. Mark. cryp. By 2. ID Q. quan. QKD . ther. Both. In p. In r. emer. Not . is m. Rese. Dire. the . is t. In a. quan. to e. Quan. cons. tool. to s. Auto. skil. #Con. skil. All . the . This. In a. tuto. As t. As t. Easy. oppo. In r. Than. The . Quan. To t. Thes. aime. Univ. Quan. Quan. At t. focu. In t. open. Micr. supp. quan. IBM . Qisk. quan. spec. into. HPC . and/. inte. NVID. The . effi. This. The . Hybr. grow. prop. Howe. Ever. More. of l. reso. To e. quan. #Dig. #Dat. Seve. imag. mode. can . tran. This. Acce. clas. Rese. repr. The . soft. by N. Euro. <HPC. <HPC. 100 . open. quan. Seve. acqu. Quan. The . open. his . Clas. tack. Hybr. name. "
     ]
    },
    {
     "name": "stdout",
     "output_type": "stream",
     "text": [
      "The . Qubi. pron. Deco. To m. In q. quan. so t. This. reve. dete. Curr. Quan. tech. The . To p. dram. With. To m. Ther. For . The . open. “The. [You. 129,. #Con. Most. bill. Only. resi. How . erro. This. when. Not . Thes. The . with. Duri. a nu. We a. beco. grad. and . Vent. Larg. Comp. curi. skil. #Dat. Quan. micr. Quan. euro. The . If a. QAL . deve. cont. opti. QAL . QAL . of p. More. with. Incr. open. Capg. to b. This. from. The . By p. open. SMEs. Quan. More. Aria. Cons. Rela. Koen. Serv. →A f. →Vir. →New. →An . XR, . tech. is u. othe. XR c. Educ. Whet. to b. find. The . ke-v. This. inte. comp. In t. Web3. The . Larg. appe. inst. Inte. Soci. fend. Educ. ment. cons. Rese. expe. Stud. Lear. This. Huma. XR m. or t. New . Tech. Tech. logi. Beco. very. At M. They. whil. The . open. #Dig. #Con. With. an X. With. Rese. Soci. Gene. of a. By c. XR c. Poin. It c. Remo. reli. With. powe. Some. open. XR p. virt. to c. In t. One-. This. For . inte. Virt. Ten . coll. Meta. skil. Huma. #Rig. #Ope. Virt. date. Many. and . VRCh. User. Tech. dail. Stud. New . Thes. For . buil. Epic. crea. The . How . The . to s. Spec. acce. Ther. tech. The . Devi. equi. Meta. a fu. In J. desi. The . Auto. Huma. #Glo. Virt. A ki. read. This. As X. beco. User. Curr. Hapt. grea. Thes. New . Feel. shoe. Meta. feed. The . Buil. Unit. om g. One . Just. XR e. For . Thes. numb. Look. get . can . Data. Auto. priv. #Cyb. #Dig. The . New . sell. meas. Ethi. evol. Thes. For . word. Coll. indi. The . secu. from. Our . for . XR h. for . So f. The . in V. offe. Howe. Rece. Due . indu. The . mana. This. A qu. gene. Meta. The . orga. This. educ. #Dev. #Dec. The . 2020. This. The . With. A hi. diff. User. Educ. This. The . Solu. One . As a. A go. Meta. char. Cont. that. Char. Rapi. deve. To p. infr. The . Emer. Seni. Seni. Caro. Inno. SURF. Dutc. scie. We d. We w. And . As a. Gül . Sask. Alex. Eric. Grap. Free. The . More. High. (Hoo. www.. Jet . →Act. →Int. →A f. → Qu. → Hy. →Err. →Qua. →Tow. → Mo. mark. life. Mean. Equa. The . (can. • Me. • Re. • Di. • In. • Da. • De. • Op. tech. • Di. • Ci. • Gl. 'Fra. #Dec. #Dat. #Con. Get . #Con. Digi. Digi. #Sma. real. cont. code. #Dec. Just. Aaro. data. Data. digi. Disa. open. #Cir. Neth. open. #Dec. #Int. tran. #Dat. econ. open. diff. SURF. Stre. netw. #Ope. gove. Big . netw. #Dat. Clou. #Aut. #Con. The . quan. quan. SURF. quan. A fi. (QKD. ID Q. open. larg. Tool. #Con. #Res. Amst. Quan. The . appl. #Con. quan. quan. diff. Acce. open. #Con. corr. Most. How . curi. euro. Quan. IBM . Serv. Seni. Seni. Caro. www.. Toge. http. Toge. Many. Clou. http. http. Desp. On t. On t. Almo. Bene. Thin. As a. More. ICEL. EUDi. Euro. USER. PROC. We w. CONN. Usin. http. FUNC. VIRT. Prov. McAf. http. 50ht. http. Any . andr. AI i. AI i. What. \"Art. Vlad. What. Not . Hand. Andr. Prog. Youn. & AI. Epis. Epis. List. 8Res. HPML. Micr. Infr. Data. Simu. Our . Ethi. What. What. SURF. deve. ML/D. Inte. Auto. teac. http. IT S. Supe. SURF. (Met. Then. The . Cogn. Know. Infr. Pre-. Clou. •AI . •Onl. •Hac. HSLe. You . Part. Let . 28 M. Comp. lots. let'. Acce. buil. Scal. stro. publ. Deve. and . SURF. and . WE U. THRO. Duuk. and . SURF. Expe. AI &. Educ. SURF. Tool. SURF. the . agre. Gene. Shar. All . Data. 39Da. repr. Is t. for . Desc. you . Is t. 40Ar. Data. algo. No m. auto. clea. good. SUCC. HARD. PRIV. AI &. PRIN. •Org. foll. •Lim. time. • Mi. •Hig. •Con. •Goo. 'We . •Bec. •Lim. 'Use. • Mo. •Con. •AI . • Ro. 43 F. Expe. SURF. Good. • Th. busi. Tigh. SURF. simi. Open. Does. AI e. Link. Stre. Stan. sect. Poss. are . Reso. serv. SURF. lost. All . Talk. How . 44•A. • SU. •..S. serv. 'AI . •Con. next. upsc. furt. •Pro. due . to m. Also. and . REVI. REVI. THE . THE . AND . REVI. CALI. rigs. insp. metr. REAS. do w. in p. Part. use . REVI. The . Ten . lang. They. book. was . I in. MBO . of a. of a. The . to t. appl. The . achi. we g. We i. stak. We a. EDUC. in B. and . curr. the . ga's. Ham,. Dixh. Awar. requ. syst. if t. REVI. A re. PART. Them. Them. Them. REVI. DIGI. The . Flex. Lite. Micr. Hybr. ICT . Stre. Cont. Depe. Use . Synt. AI i. AR a. Vide. Digi. Find. Infr. Towa. Deve. THRE. Orga. Phas. Lega. SETT. REVI. REVI. Over. of h. A vi. is r. as '. With. test. But . atti. A di. envi. comp. dire. On t. ther. The . will. So t. furt. And . we t. the . nece. For . expe. whic. With. got . We h. a di. We n. abou. Ulti. in t. to d. This. The . of t. Then. part. phys. the . thre. For . Thes. digi. REVI. REVI. THE . In 2. high. of s. The . with. The . and . That. fill. The . Ther. A mo. serv. and . Comp. nica. are . Thes. are . late. This. adap. How . coul. zoom. lear. But . in t. An i. of t. digi. This. shap. At m. syst. real. A fl. A fl. A fl. In m. User. REVI. Whic. What. digi. (SIS. core. thes. In a. insi. In a. also. A sm. This. for . digi. supe. inte. In a. news. vari. In t. mali. The . DUO,. proc. Cour. stre. be n. A de. (Lei. Late. What. REVI. In t. in a. The . the . ther. mana. Desp. the . In a. digi. a st. an e. The . dese. need. Sche. data. infr. ICTs. Info. iden. supp. Appl. REVI. A RE. Appr. With. prov. watc. digi. Both. netw. educ. We h. real. Arou. we i. In t. infr. skil. The . Thes. Sche. educ. INFO. 1Soc. educ. 3Lit. ness. 4Mic. and . educ. envi. proc. and . 3Dep. of b. 4Use. in e. 7 AI. 8AR . teac. 10Di. asse. 11Fi. 5To . digi. prog. REVI. Why . A we. it p. of t. In p. the . also. lear. of t. So r. The . visi. inst. on t. The . Ther. or p. The . as f. digi. LEAR. The . have. show. Firs. How . Meth. lear. aspe. In p. aspe. REVI. Hype. Hype. 107E. 91ED. REVI. Our . The . orga. and . That. if t. Then. a pe. of t. of t. The . The . In a. rese. All . prin. smar. Cont. lear. Poss. and . Cont. Virt. stro. Data. than. For . ongo. and . Good. educ. The . of d. With. of c. Here. SURF. Inst. city. It i. cris. adde. and . poli. The . evid. func. func. That. High. This. expe. Thes. caug. digi. Digi. The . digi. is m. To f. the . How . have. REVI. REVI. FOUR. Many. the . But . Depe. play. We h. THEM. 2.3 . 2.4 . 3.5 . Two . Sour. • in. • wh. • wh. • or. decr. Usin. The . and . Also. was . scal. Take. of t. REVI. In 2. in S. ict . “In . You . cust. Smar. More. Mini. Your. Drop. ever. For . powe. For . They. Ever. exam. pres. Our . in a. Jan . This. swit. soft. Many. the . to s. Depe. the . Comp. Micr. stru. we w. degr. This. lear. rese. Impo. is t. plat. 2021. “The. is u. educ. You . that. It s. wher. Rob . Crim. A nu. with. Secu. beco. This. Clou. Revi. REVI. to c. It's. For . SURF. A tr. numb. • Th. othe. syst. owne. The . with. For . inte. This. prov. adhe. inve. All . ties. larg. with. Ther. nich. the . to u. stor. othe. Or a. outl. a pu. You . what. “If . Not . to b. But . Euro. As a. real. And . José. Impl. The . The . more. Usin. has . more. How . with. The . Plat. solu. http. Spin. Goog. REVI. ONLI. 1.1 . 1.5 . 1.6 . 2.9 . The . show. lear. form. info. In t. atio. The . free. at a. Tech. That. For . offe. impo. A si. from. the . we, . the . In s. lear. And . We s. betw. to A. But . of t. in t. sett. They. lear. This. one . to b. Inte. impo. Even. is g. of a. This. REVI. THEM. THE . 1.2 . 1.4 . 2.10. If t. ling. Can . orga. inst. Comp. MOOC. from. is A. So f. moms. Beca. we s. A cu. bead. Stud. are . As b. cult. may . “The. come. A di. cert. Info. some. The . comp. The . of t. to t. And . only. If t. priv. For . corp. We w. Work. The . Univ. Educ. REVI. The . stud. poss. ulti. this. for . micr. If e. accr. play. The . and . Deve. ensu. port. The . hono. The . will. the . lear. 1.3 . 2.1 . 2.11. 3.6 . The . To s. to m. onli. But . to b. Stil. quic. Of c. what. init. howe. dire. a nu. ensu. envi. REVI. Seem. We d. ICT . High. The . more. In e. and . it i. city. appl. in-h. Sett. high. We e. High. digi. have. REVI. REVI. The . They. card. impa. Cycl. Of c. can . THE . We s. step. Afte. shap. The . lear. year. a mo. modu. can . to v. work. Curr. But . In t. affe. What. beca. only. simp. Bare. tric. educ. in w. brou. chal. func. also. rela. tele. the . to s. cris. that. take. norm. soci. educ. That. logi. meet. You . onli. It c. fica. curr. Howe. but . It i. of t. thin. educ. lect. more. grou. beco. foll. enco. High. REVI. 2Mor. be, . equi. And . expe. The . cont. Inte. even. At t. "
     ]
    },
    {
     "name": "stdout",
     "output_type": "stream",
     "text": [
      "high. tain. The . We h. faci. stud. With. keep. FLEX. Sinc. univ. Ther. repl. to d. of t. Flex. it a. It's. syst. One . beca. All . ther. An e. whic. The . butt. In t. in s. One . what. how . and . stan. Fore. If f. majo. poin. A co. betw. the . lear. mayb. lear. mult. lear. It m. chai. link. from. face. lari. flex. dist. face. test. sati. Ther. graf. can . Zone. Acce. Pilo. REVI. 3LIT. The . lear. ICT . emer. cent. educ. expe. incr. deca. Stim. for . But . usin. beca. And . the . The . Ever. In d. ask . The . for . spec. a co. The . new . And . peri. stud. This. coop. In t. to i. And . old . depa. educ. has . foun. The . last. supp. beco. hope. of I. “One. this. lead. pref. good. can . depe. the . Mari. REVI. 4MIC. Micr. have. They. to m. A st. acqu. also. Micr. rubr. It m. must. Whet. cont. a di. cert. some. The . seem. badg. As a. (for. The . badg. this. open. Ther. at h. The . stil. Micr. The . At t. comp. Cont. will. poss. Such. of e. REVI. 5HYB. EDUC. Blen. mix . 'ble. subs. of l. In b. phys. ulti. So i. Hybr. stud. a li. coll. As a. spec. make. admi. The . In t. The . the . is c. phys. Of c. the . It i. forc. Ther. norm. to p. But . that. last. and . made. The . ling. know. Bare. The . lear. used. unra. wort. Blen. desi. coor. So o. once. One . Hybr. itie. upco. time. othe. so a. ther. And . both. REVI. Not . crat. on o. In r. Soci. inde. educ. spac. Smar. Smar. poss. wher. Insi. and . of a. Smar. The . Use . thin. Our . with. lear. In t. part. Espe. half. down. To t. spac. In a. furn. this. to t. phys. By s. lear. New . the . The . cont. also. are . digi. fing. Lear. spac. And . the . This. a mo. and . Mich. REVI. STRE. AND . With. In r. A be. role. This. In a. mana. Deci. both. A be. also. and . Dora. foll. wher. had . prog. work. We d. the . icto. We t. Forc. lang. maki. Info. the . ed, . The . is p. mana. teac. stan. But . Stan. veau. To k. stru. REVI. 2CON. Shar. Once. data. In a. and . From. init. atte. reso. It i. reus. Yet . We s. but . matu. ning. make. To s. a lo. some. gene. Good. Gras. succ. cont. conn. But . poin. shar. We e. flex. king. will. The . avai. is m. hesi. the . coup. and . we e. will. “Hav. lear. free. mate. then. Or t. and,. (sha. time. valu. envi. situ. will. Robe. wrot. http. “Fro. deve. part. The . spok. shar. to m. They. I no. take. I do. teac. than. “Whi. espe. incr. publ. alwa. Kenn. by f. 23. . REVI. 3DEP. Duri. a ke. To p. All . the . now . sett. thei. How . as a. are . but . watc. In a. shar. big . Whil. valu. quit. This. The . infl. It i. dend. even. Will. pese. in s. alte. the . perh. Yet . conc. sour. USE . The . offe. At t. vuln. play. of d. or s. The . of a. The . But . exac. and . The . stru. 24. . 25. . Lett. shar. cati. ther. plic. nati. thes. it w. to c. core. Bart. REVI. The . sett. Whic. (in . A go. and . Ofte. quit. for . In o. make. to k. the . With. use . a Sa. Use . wher. supp. This. shar. addi. The . With. the . make. aspe. more. Just. full. thin. circ. The . Expe. It i. to b. proc. resu. but . In p. educ. incr. AI i. a sm. requ. The . educ. amou. beco. Smal. more. Anal. that. prov. data. vari. ture. Trai. wise. and . use,. “Eve. of) . impo. can . It i. incl. The . AI i. of c. Rens. What. Digi. REVI. 5 LE. Lear. It's. high. Its . but . of t. are . But,. to t. it t. reac. know. reac. are . So i. to p. to c. This. data. afte. from. Lear. can . But . well. Lega. know. In a. curr. ICT . deli. inte. The . the . to p. The . howe. good. It i. With. LA w. We e. and . In t. That. can . star. are . the . resp. Educ. teac. back. For . idea. obta. can . It's. look. what. Rens. REVI. 6SYN. One . This. the . The . rati. Ther. soun. But . imag. to d. A de. It w. shou. It s. But . come. The . The . sure. Stud. lear. And . this. that. and . The . your. The . A de. also. At t. ther. setu. The . also. to o. The . like. The . lear. The . The . cert. Stud. have. reco. than. medi. Sour. De C. REVI. Arti. inbo. AI r. AI i. It's. to g. 2.4 . inve. Expe. Some. extr. Beca. appl. mana. sing. lang. and . assi. the . http. REVI. 8AR . A fe. (VR). Firs. prod. func. For . imag. The . a bi. For . ted . educ. avai. On t. and . This. Once. meta. AR a. will. the . to b. It i. coro. AR a. wher. Frie. REVI. 9VID. Vide. It h. maki. or v. We a. the . auto. Vide. test. The . The . SURF. lear. ling. take. Lect. real. Stud. or a. It i. func. stor. (SUR. With. nica. Espe. prov. were. nume. mers. Many. of v. In t. spec. room. part. The . It i. emph. blur. The . lead. also. in t. use,. educ. reco. medi. From. I th. come. TV s. the . natu. and . came. the . Tom . REVI. 10DI. Digi. atio. For . purc. The . simp. It w. can . Neve. lang. ofte. Larg. init. This. need. coro. It i. In r. Ther. some. For . proc. We e. whet. The . abil. (usi. amou. inst. grea. pres. auth. Also. micr. form. In a. know. in w. priv. (AVG. tics. thin. of t. “The. grow. form. The . proc. priv. espe. espe. bein. purp. capa. bied. envi. and . For . tive. LMS . Then. made. VMwa. idea. shou. In p. quit. ting. vice. REVI. Usin. 11FI. The . It i. inst. Some. chos. cati. With. with. comp. With. it m. over. Insi. rich. Prec. depl. Some. some. All . to k. lice. is c. prov. The . work. the . The . Tens. betw. and . lity. In a. look. Also. life. REVI. As f. Natu. the . the . The . conn. poss. This. surg. Impr. can . In a. For . Fina. educ. The . used. That. valu. In t. some. Conn. have. A st. numb. It i. but . spee. REVI. “Saa. to t. In a. Stan. (tec. soft. to s. the . rele. adul. stil. set . we h. use . Whic. core. what. on b. of c. Fran. Ther. With. digi. new . Usua. purc. What. Tech. Beca. focu. It d. whet. serv. Duri. deve. the . full. The . turn. pack. usua. For . incr. of d. The . dese. of t. requ. Thes. furt. The . ting. celt. Beco. as G. land. ther. big . crim. REVI. Tech. also. In a. deve. of s. Thin. robo. With. work. sudd. The . goin. an a. This. and . At t. ran . equi. Lapt. Devi. and . In a. devi. The . This. The . of t. bein. The . REVI. “Con. rate. faci. find. Find. work. Cont. the . That. and . The . is t. user. beco. impo. can . How . buil. sens. cont. the . vent. thes. pres. that. impr. Can . have. on-c. bett. doin. and . More. sens. This. for . of t. What. Bett. how . is a. on t. digi. so r. appl. The . walk. maki. Rens. case. Read. Smar. beco. That. will. digi. orig. init. atte. sens. scie. REVI. 5TOW. Some. to c. The . SURF. coul. Alth. coop. the . we a. wind. Usin. stud. For . The . part. the . long. rura. “I t. to t. Abou. year. So n. thin. Supp. that. of a. That. This. tigd. Expe. expe. lock. now . Obvi. Yet . Mark. outl. “A s. ther. supp. By k. ther. Tech. stan. Agre. ther. The . The . and . Risk. fund. The . digi. The . and . This. The . REVI. Plat. Ther. pref. The . it i. has . Priv. The . the . Ther. appl. fill. The . cont. coul. Thes. we f. diff. as M. sofe. data. coop. data. that. For . digi. REVI. 6 DE. Trad. expe. Deve. Deve. on a. By o. In s. also. aspe. in t. Soft. than. This. peop. sett. at o. Unti. educ. Howe. inte. Real. diff. An a. also. anyw. way,. the . meth. clos. mayb. the . larg. Citi. are . to b. expe. clos. coun. appl. At M. can . This. the . Offi. “Pre. from. proc. and . coll. But . wind. opte. and . from. (fro. opte. on a. Beca. perf. we a. inno. Gerl. This. REVI. We a. is i. spec. spec. The . know. imag. on a. The . thro. to m. coul. can . usin. deve. more. valu. appl. plac. comp. dema. Ther. a ne. be a. The . much. And . deve. can . That. sett. That. ensu. lear. digi. in m. comp. remo. is a. Herm. EdTe. It's. refe. indi. Some. spac. expe. Exam. and . Howe. Inst. appl. Xebi. Ther. Some. a gr. ofte. wher. pack. But . ties. rest. Ever. unpa. SURF. esta. Bein. open. EdTe. SURF. nati. REVI. The . has . cast. In i. numb. the . subj. thes. flow. inst. rega. envi. EdTe. ofte. of t. to b. inte. by t. So E. in s. duct. The . will. of t. Of c. It i. wisd. If n. deve. in c. thus. Thij. desc. from. a fu. per . comp. the . purc. Thes. very. And . choo. ulti. coll. That. main. take. is l. movi. new . and . yet . Thij. EdTe. REVI. Van . ORGA. PHYS. Alth. blen. phys. link. The . When. educ. was . phys. anot. As d. of e. goin. orga. The . teac. educ. The . pres. and . disc. High. That. cons. ness. of r. As l. yiel. But . vict. Work. cont. "
     ]
    },
    {
     "name": "stdout",
     "output_type": "stream",
     "text": [
      "This. lear. educ. educ. REVI. 2Exp. Cybe. nic . and . it i. That. have. ning. also. as a. on p. the . part. Nice. tric. more. educ. agai. It l. info. addr. This. the . publ. knoc. educ. can . thre. Sour. 'Hig. 3PHA. What. rega. ings. prun. must. And . In t. of n. If a. can . Just. an o. With. held. And . data. Idea. out . imag. phas. Stor. a ch. A se. kept. This. let . Info. For . by t. syst. usef. indi. REVI. 45. . This. purc. For . tati. This. pers. for . are . Thin. went. With. shou. Sett. arch. usin. impo. to m. It i. to c. As a. The . The . Data. this. That. info. tric. The . info. litt. Howe. educ. almo. gene. Cons. for . The . REVI. REVI. TO C. OR R. For . are . aspe. draw. In t. two . them. of G. It p. wher. of n. a li. Inno. a po. The . usab. Peak. enth. Thes. know. Thro. high. Expe. peri. REVI. Slop. clea. With. Ther. Plat. more. A pe. grow. Swam. slow. In a. obso. This. show. reco. On t. will. THE . Purp. The . posi. are . This. a co. lear. • 28. • Em. • Hy. • St. Disc. Use . • Ho. • Wh. • Wh. • Pa. REVI. TO T. The . work. defi. • Ex. curr. (The. have. have. • Th. with. For . • Wh. • Wh. • Le. unde. This. REVI. The . the . We h. and . Our . this. of t. wise. Afte. educ. the . 'har. educ. educ. As C. For . the . At t. onli. Most. The . suff. ICT . enor. cont. ICT . mana. Inte. Band. equi. but . The . to o. lead. Educ. mana. plen. The . belo. cont. The . But . step. Lear. beca. firs. Lect. A hu. REVI. ICT . orga. The . In t. expe. the . As c. many. The . even. foll. hybr. And . will. got . 6060. 61 R. Sam . Jasm. Herm. Moni. With. to t. Bare. Bart. Bram. Dora. Esth. Esth. Feli. Fleu. Gerl. Hans. Lian. Mari. Mark. Maur. Mich. Rens. Robe. Shar. Sijo. Thij. Tom . Wilc. Jenn. Ben . This. http. 088 . Driv. Univ. UMCs. We d. ICT . And . In t. top . SURF. to p. SURF. digi. comp. is b. we e. • Ho. Digi. deve. Valu. part. Valu. just. prof. data. stud. cons. desi. a st. Open. Kenn. • Re. • Bo. Keyn. Educ. • Eu. Ethi. • Ko. Upgr. valu. http. site. • Ke. Weig. An e. Zoet. • SU. for . valu. • Va. • 'D. Lett. Magn. lang. -to-. In s. to-s. Text. Chri. Erwi. Remc. Grap. Free. Comm. www.. 2700. T 08. E su. T 08. E su. for . Valu. for . The . to d. SURF. publ. educ. Wise. for . educ. impo. and . and . to p. Nati. Educ. task. mean. In t. that. Valu. were. prac. to s. atte. • Th. tech. pupi. digi. As s. stud. that. How . does. • Te. more. (Ada. can . Know. howe. 'rea. How . good. • Ho. has . And . gain. Can . way . that. teac. in t. Digi. supp. move. also. By a. talk. digi. driv. domi. This. part. ensu. valu. thes. to p. deve. dire. base. desi. new . keep. Belo. valu. foll. how . diff. Valu. digi. Righ. alit. disa. How . in d. The . huma. Amon. capt. educ. It d. gain. The . Valu. idea. stri. just. Just. incl. In e. shou. disa. And . whet. trea. It m. appr. Equa. Incl. all . Anyo. belo. Inte. educ. just. are . to d. How . cont. How . at t. mark. How . auto. Auto. incl. priv. free. auto. part. must. if t. what. Inde. be a. in e. auto. of s. shap. beli. Huma. abou. heal. Educ. for . The . ever. is t. safe. safe. with. deci. whic. brin. rela. Self. info. cont. Sust. digi. Plur. Soci. Mean. Resp. The . base. publ. a co. for . digi. Smar. A bo. to u. give. can . well. But,. othe. furt. and . of s. A un. in r. The . numb. valu. Thin. in d. beca. this. in c. The . conv. come. in a. prot. lect. are . • At. Fort. mana. Ethi. An M. help. The . the . comp. use . Valu. Coll. ever. prev. A ri. of r. For . it w. used. The . abou. stud. (dis. ever. be: . orga. secu. Work. The . scho. futu. fin . a co. can . they. chal. look. can . wisd. educ. help. form. Join. SIVO. in p. SIVO. and . and . dema. exch. Than. powe. that. The . than. the . to j. join. memb. to c. cond. to b. Toge. more. in t. syst. data. Secu. The . secu. (the. That. niem. shar. Only. to s. Numb. thus. lear. With. of K. prim. user. prov. vari. prot. of s. Than. make. ling. thei. SURF. rati. publ. to e. Anch. The . ture. prov. The . what. Thos. deri. are . The . embe. Coll. The . fiel. For . A DP. in h. of c. and . Educ. bett. Valu. It i. esta. Valu. desi. With. driv. How . Maki. soci. unde. Kenn. the . of O. have. sect. The . base. in e. The . such. of t. soun. from. At t. to p. goal. qual. The . touc. Lear. • Ch. site. valu. Magn. http. In s. Text. Grap. Avai. Outg. Outg. Duri. In a. The . This. SURF. This. The . Digi. This. Earl. The . It h. Vari. The . Subs. What. 18 J. On T. ..... The . It h. The . Our . Jet . A su. We w. Alex. XR t. The . Imme. Imme. The . Virt. VR i. VR i. AR c. This. AR i. Dimi. AR's. For . MR c. Phys. Meta. Meta. A DT. A DT. AI o. The . IoT . A ch. Chat. XR t. The . Chat. Arti. SURF. We a. To t. Arti. The . The . Down. AI o. Ron . Abou. In t. SURF. We a. We a. We l. Foll. Shar. The . What. AI i. The . This. This. What. AI g. Tech. Down. Podc. AI o. Vide. In t. Mach. We a. Chat. What. Repo. In t. What. AI &. AI g. Vide. The . SURF. Abou. Comm. Shar. High. Arti. For . Prog. June. This. What. Your. Here. Keep. Kick. June. Hopm. nl (. We s. Wher. Is t. Batt. 2023. nl (. In t. How . Stud. SURF. 500,. June. Sept. Nove. 14/1. Sign. Can . June. nl (. Whet. Join. Loca. AI i. June. The . Core. Duri. The . As a. Or e. Sele. Deal. June. How . Read. Meet. Chat. June. Afte. It i. Wyna. Send. AI a. June. #ONI. You . The . How . Arti. A su. #ONI. Sign. NL T. June. The . Work. Regi. June. An a. What. Part. Exte. Oppo. June. Duri. AI-r. June. vand. In t. In t. Webi. June. 00 a. com . The . But . In a. nl (. You . Inte. 27 J. Amst. Expe. Talk. June. “The. In t. Chat. Wher. Irve. Jaap. Mast. June. The . Howe. In t. Podc. Duuk. AI o. How . Bert. Prog. Keep. Sign. Sele. Meet. Send. Sign. Regi. Exte. Duri. In t. You . Expe. In t. How . ... . Adap. Adap. from. main. curr. ●Not. ●Jus. but . ●Fas. ●Stu. ●Enc. ●Enc. stil. brok. main. What. Adap. algo. Visi. adap. ●Hid. ○Int. algo. 2-in. Vari. for . Conn. Lots. Open. Cost. Tomb. Dead. Sour. (vis. 15% . Same. (Fir. ●Cos. ○Var. ○Mak. ○Vis. Cost. Warn. “We . ●Rec. Adap. simp. Gate. very. adeq. Full. Adap. Rule. Lear. Week. Conn. ofte. but . take. Cont. Old . Bene. ● In. ● Pr. crit. Plat. (cos. Rede. per . Cros. part. ● Re. exis. ● Me. neig. ● Ma. know. ● Th. Old . 2 sp. ●In . for . 21 c. gene. * Ti. Basi. for . comp. Stud. at c. Self. Incr. for . Lear. ● Re. ● Se. supe. ● Ex. ● Re. ● Re. Set . Opti. Sequ. Zone. Acti. Publ. Crea. conf. MILL. High. cons. But . Whic. Let . make. just. “Can. maki. If w. Phas. Sour. Boos. Ques. achi. reco. Vice. is d. Audi. prac. Prun. exis. Augm. attr. ● Ca. gene. ● Ri. gene. ○ Ex. ○ Al. prac. Cont. Stim. for . thir. cost. Adap. only. term. Anal. of f. alwa. mark. Feli. feli. Enth. to t. Emai. Arti. This. We d. Cook. You . By c. Your. Indi. In o. Opti. We u. Arti. How . Many. But . And . What. Givi. This. What. Like. They. You . Spot. But . Tip:. Basi. And . The . Comp. Goog. The . Secr. Mach. Deep. Just. For . Arti. AI o. And . AI i. Ever. AI i. But . It n. Thin. Or s. Six . Many. We l. Feed. This. 2) P. Leer. Pupi. Lect. 3) E. With. So t. No, . Also. 4) G. Thos. They. The . The . 5) A. Open. But . And . 6) O. Fina. AI c. In t. Inst. This. Call. The . And . It s. The . Duri. She . At t. On t. Inge. The . Havi. Kim . She . Kim:. Kim . Beca. The . AI c. Such. Base. AI i. Poin. When. What. In h. Such. Or: . And . Prof. In h. Thin. The . This. Make. This. Supp. In t. What. \"And. Ther. Tips. Does. Nati. AI e. SURF. Podc. Blog. Blog. AI E. Mont. Arti. SURF. View. Imag. Comm. More. Reac. Shar. Regi. Nina. Cont. More. Othe. Auth. More. Late. Shou. SURF. It s. In r. Soci. Be i. Soci. It i. It i. Are . Espe. Much. Many. A so. Mast. To e. We o. nl/n. Wlad. Prog. Auth. Prog. SXSW. 2 ho. 000 . SXSW. Our . SXSW. Tech. Link. I we. What. Virt. VR h. As p. As a. Some. The . So, . a po. the . what. 6 in. Arti. The . Ther. Even. AI i. That. What. This. How . The . How . What. And . Tech. But . It h. Unfo. via . But,. His . Talk. All . We a. vand. nl (. I th. Thij. Busi. Auth. Busi. The . The . A su. Inpu. Comp. The . In c. In t. Digi. Now . More. Duuk. Advi. More. Othe. Auth. More. Tips. Tips. They. Ever. We f. Blen. Do y. The . It g. How . But . They. Such. (lin. Whic. Educ. Howe. Educ. It i. Whic. With. That. You . Joan. Bert. She . You . She . "
     ]
    },
    {
     "name": "stdout",
     "output_type": "stream",
     "text": [
      "Thin. So i. Aren. Cont. Auth. Cont. Tips. We f. Do y. Hybr. Saxi. In E. The . But . Chat. With. Open. Read. This. Teac. Inte. What. Succ. At l. In t. (lin. Podc. Blen. Some. In a. They. How . He l. “Stu. A po. Thes. Thes. They. The . Many. A lo. But . From. Whic. Char. What. How . Hard. How . How . Impl. More. But . How . Do s. In t. Stre. Nowa. A so. But . Chat. You . Is t. Read. The . Are . Watc. Othe. You . Ther. Ever. We f. Be i. Avat. At H. HAN . The . How . Afte. Bann. Rath. This. “ Ev. We'd. As l. TU D. The . TU D. The . Nice. Do y. The . Judi. “You. This. Thes. #1 H. A po. In t. She . Current Time = 15:05:30\n",
      "pure english text done. Next: Token & Lemmatizing.\n",
      "Current Time = 15:05:31\n",
      "Token & Lemmatizing done. Next: Remove Stopwords.\n",
      "Current Time = 15:10:01\n"
     ]
    }
   ],
   "source": [
    "## takes approximately 120 minutes for translation (last time)\n",
    "df=nlp.NLP_Pipeline(df, text_column=column, target_language=\"en\",sentiment=False)"
   ]
  },
  {
   "cell_type": "code",
   "execution_count": null,
   "id": "707c434b",
   "metadata": {},
   "outputs": [],
   "source": [
    "df.columns"
   ]
  },
  {
   "cell_type": "code",
   "execution_count": 17,
   "id": "5288790f",
   "metadata": {},
   "outputs": [],
   "source": [
    "df.to_json(\"2023-07-27_ChatGPT_Sentences_NLP-Out.json\")"
   ]
  },
  {
   "cell_type": "code",
   "execution_count": null,
   "id": "b415caa5",
   "metadata": {},
   "outputs": [],
   "source": [
    "df.columns\n",
    "\n",
    "df2=df[['Uni','FileKey','url','date', 'Title','linkName', 'linkUrl', 'AI_paragraphs','text_clean', 'letters_count', 'word_count',\n",
    "       'language', 'source_language', 'pure_text', 'Lemmata', 'NoStopwords']]"
   ]
  },
  {
   "cell_type": "code",
   "execution_count": null,
   "id": "15dc5a19",
   "metadata": {},
   "outputs": [],
   "source": [
    "df2.to_json(\"2023-06-06_Zotero_AI_nlp_en2.json\")"
   ]
  }
 ],
 "metadata": {
  "kernelspec": {
   "display_name": "Python 3 (ipykernel)",
   "language": "python",
   "name": "python3"
  },
  "language_info": {
   "codemirror_mode": {
    "name": "ipython",
    "version": 3
   },
   "file_extension": ".py",
   "mimetype": "text/x-python",
   "name": "python",
   "nbconvert_exporter": "python",
   "pygments_lexer": "ipython3",
   "version": "3.9.7"
  }
 },
 "nbformat": 4,
 "nbformat_minor": 5
}
